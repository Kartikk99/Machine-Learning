{
 "cells": [
  {
   "cell_type": "markdown",
   "metadata": {},
   "source": [
    "# Video Link: https://www.youtube.com/watch?v=H6du_pfuznE&list=PLZoTAELRMXVPGU70ZGsckrMdr0FteeRUi&index=40"
   ]
  },
  {
   "cell_type": "code",
   "execution_count": 1,
   "metadata": {},
   "outputs": [],
   "source": [
    "import pandas_datareader as pdr"
   ]
  },
  {
   "cell_type": "code",
   "execution_count": 2,
   "metadata": {},
   "outputs": [],
   "source": [
    "key= '2d37eb44c20433f021179846da06907de576e1a6'"
   ]
  },
  {
   "cell_type": "code",
   "execution_count": 3,
   "metadata": {},
   "outputs": [],
   "source": [
    "df = pdr.get_data_tiingo('AAPL', api_key=key)"
   ]
  },
  {
   "cell_type": "code",
   "execution_count": 4,
   "metadata": {},
   "outputs": [
    {
     "data": {
      "text/html": [
       "<div>\n",
       "<style scoped>\n",
       "    .dataframe tbody tr th:only-of-type {\n",
       "        vertical-align: middle;\n",
       "    }\n",
       "\n",
       "    .dataframe tbody tr th {\n",
       "        vertical-align: top;\n",
       "    }\n",
       "\n",
       "    .dataframe thead th {\n",
       "        text-align: right;\n",
       "    }\n",
       "</style>\n",
       "<table border=\"1\" class=\"dataframe\">\n",
       "  <thead>\n",
       "    <tr style=\"text-align: right;\">\n",
       "      <th></th>\n",
       "      <th></th>\n",
       "      <th>close</th>\n",
       "      <th>high</th>\n",
       "      <th>low</th>\n",
       "      <th>open</th>\n",
       "      <th>volume</th>\n",
       "      <th>adjClose</th>\n",
       "      <th>adjHigh</th>\n",
       "      <th>adjLow</th>\n",
       "      <th>adjOpen</th>\n",
       "      <th>adjVolume</th>\n",
       "      <th>divCash</th>\n",
       "      <th>splitFactor</th>\n",
       "    </tr>\n",
       "    <tr>\n",
       "      <th>symbol</th>\n",
       "      <th>date</th>\n",
       "      <th></th>\n",
       "      <th></th>\n",
       "      <th></th>\n",
       "      <th></th>\n",
       "      <th></th>\n",
       "      <th></th>\n",
       "      <th></th>\n",
       "      <th></th>\n",
       "      <th></th>\n",
       "      <th></th>\n",
       "      <th></th>\n",
       "      <th></th>\n",
       "    </tr>\n",
       "  </thead>\n",
       "  <tbody>\n",
       "    <tr>\n",
       "      <th rowspan=\"5\" valign=\"top\">AAPL</th>\n",
       "      <th>2015-08-27 00:00:00+00:00</th>\n",
       "      <td>112.92</td>\n",
       "      <td>113.24</td>\n",
       "      <td>110.020</td>\n",
       "      <td>112.25</td>\n",
       "      <td>84616056</td>\n",
       "      <td>104.335919</td>\n",
       "      <td>104.631593</td>\n",
       "      <td>101.656374</td>\n",
       "      <td>103.716852</td>\n",
       "      <td>84616056</td>\n",
       "      <td>0.0</td>\n",
       "      <td>1.0</td>\n",
       "    </tr>\n",
       "    <tr>\n",
       "      <th>2015-08-28 00:00:00+00:00</th>\n",
       "      <td>113.29</td>\n",
       "      <td>113.31</td>\n",
       "      <td>111.540</td>\n",
       "      <td>112.17</td>\n",
       "      <td>53164407</td>\n",
       "      <td>104.677792</td>\n",
       "      <td>104.696271</td>\n",
       "      <td>103.060825</td>\n",
       "      <td>103.642933</td>\n",
       "      <td>53164407</td>\n",
       "      <td>0.0</td>\n",
       "      <td>1.0</td>\n",
       "    </tr>\n",
       "    <tr>\n",
       "      <th>2015-08-31 00:00:00+00:00</th>\n",
       "      <td>112.76</td>\n",
       "      <td>114.53</td>\n",
       "      <td>112.000</td>\n",
       "      <td>112.13</td>\n",
       "      <td>56229271</td>\n",
       "      <td>104.188082</td>\n",
       "      <td>105.823528</td>\n",
       "      <td>103.485856</td>\n",
       "      <td>103.605974</td>\n",
       "      <td>56229271</td>\n",
       "      <td>0.0</td>\n",
       "      <td>1.0</td>\n",
       "    </tr>\n",
       "    <tr>\n",
       "      <th>2015-09-01 00:00:00+00:00</th>\n",
       "      <td>107.72</td>\n",
       "      <td>111.88</td>\n",
       "      <td>107.360</td>\n",
       "      <td>110.18</td>\n",
       "      <td>76845860</td>\n",
       "      <td>99.531218</td>\n",
       "      <td>103.374979</td>\n",
       "      <td>99.198585</td>\n",
       "      <td>101.804211</td>\n",
       "      <td>76845860</td>\n",
       "      <td>0.0</td>\n",
       "      <td>1.0</td>\n",
       "    </tr>\n",
       "    <tr>\n",
       "      <th>2015-09-02 00:00:00+00:00</th>\n",
       "      <td>112.34</td>\n",
       "      <td>112.34</td>\n",
       "      <td>109.131</td>\n",
       "      <td>110.00</td>\n",
       "      <td>61888812</td>\n",
       "      <td>103.800010</td>\n",
       "      <td>103.800010</td>\n",
       "      <td>100.834955</td>\n",
       "      <td>101.637895</td>\n",
       "      <td>61888812</td>\n",
       "      <td>0.0</td>\n",
       "      <td>1.0</td>\n",
       "    </tr>\n",
       "  </tbody>\n",
       "</table>\n",
       "</div>"
      ],
      "text/plain": [
       "                                   close    high      low    open    volume  \\\n",
       "symbol date                                                                   \n",
       "AAPL   2015-08-27 00:00:00+00:00  112.92  113.24  110.020  112.25  84616056   \n",
       "       2015-08-28 00:00:00+00:00  113.29  113.31  111.540  112.17  53164407   \n",
       "       2015-08-31 00:00:00+00:00  112.76  114.53  112.000  112.13  56229271   \n",
       "       2015-09-01 00:00:00+00:00  107.72  111.88  107.360  110.18  76845860   \n",
       "       2015-09-02 00:00:00+00:00  112.34  112.34  109.131  110.00  61888812   \n",
       "\n",
       "                                    adjClose     adjHigh      adjLow  \\\n",
       "symbol date                                                            \n",
       "AAPL   2015-08-27 00:00:00+00:00  104.335919  104.631593  101.656374   \n",
       "       2015-08-28 00:00:00+00:00  104.677792  104.696271  103.060825   \n",
       "       2015-08-31 00:00:00+00:00  104.188082  105.823528  103.485856   \n",
       "       2015-09-01 00:00:00+00:00   99.531218  103.374979   99.198585   \n",
       "       2015-09-02 00:00:00+00:00  103.800010  103.800010  100.834955   \n",
       "\n",
       "                                     adjOpen  adjVolume  divCash  splitFactor  \n",
       "symbol date                                                                    \n",
       "AAPL   2015-08-27 00:00:00+00:00  103.716852   84616056      0.0          1.0  \n",
       "       2015-08-28 00:00:00+00:00  103.642933   53164407      0.0          1.0  \n",
       "       2015-08-31 00:00:00+00:00  103.605974   56229271      0.0          1.0  \n",
       "       2015-09-01 00:00:00+00:00  101.804211   76845860      0.0          1.0  \n",
       "       2015-09-02 00:00:00+00:00  101.637895   61888812      0.0          1.0  "
      ]
     },
     "execution_count": 4,
     "metadata": {},
     "output_type": "execute_result"
    }
   ],
   "source": [
    "df.head()"
   ]
  },
  {
   "cell_type": "code",
   "execution_count": 5,
   "metadata": {},
   "outputs": [],
   "source": [
    "df.to_csv('AAPL.csv')"
   ]
  },
  {
   "cell_type": "code",
   "execution_count": 6,
   "metadata": {},
   "outputs": [],
   "source": [
    "import pandas as pd"
   ]
  },
  {
   "cell_type": "code",
   "execution_count": 7,
   "metadata": {},
   "outputs": [
    {
     "data": {
      "text/html": [
       "<div>\n",
       "<style scoped>\n",
       "    .dataframe tbody tr th:only-of-type {\n",
       "        vertical-align: middle;\n",
       "    }\n",
       "\n",
       "    .dataframe tbody tr th {\n",
       "        vertical-align: top;\n",
       "    }\n",
       "\n",
       "    .dataframe thead th {\n",
       "        text-align: right;\n",
       "    }\n",
       "</style>\n",
       "<table border=\"1\" class=\"dataframe\">\n",
       "  <thead>\n",
       "    <tr style=\"text-align: right;\">\n",
       "      <th></th>\n",
       "      <th>symbol</th>\n",
       "      <th>date</th>\n",
       "      <th>close</th>\n",
       "      <th>high</th>\n",
       "      <th>low</th>\n",
       "      <th>open</th>\n",
       "      <th>volume</th>\n",
       "      <th>adjClose</th>\n",
       "      <th>adjHigh</th>\n",
       "      <th>adjLow</th>\n",
       "      <th>adjOpen</th>\n",
       "      <th>adjVolume</th>\n",
       "      <th>divCash</th>\n",
       "      <th>splitFactor</th>\n",
       "    </tr>\n",
       "  </thead>\n",
       "  <tbody>\n",
       "    <tr>\n",
       "      <th>0</th>\n",
       "      <td>AAPL</td>\n",
       "      <td>2015-08-27 00:00:00+00:00</td>\n",
       "      <td>112.92</td>\n",
       "      <td>113.24</td>\n",
       "      <td>110.020</td>\n",
       "      <td>112.25</td>\n",
       "      <td>84616056</td>\n",
       "      <td>104.335919</td>\n",
       "      <td>104.631593</td>\n",
       "      <td>101.656374</td>\n",
       "      <td>103.716852</td>\n",
       "      <td>84616056</td>\n",
       "      <td>0.0</td>\n",
       "      <td>1.0</td>\n",
       "    </tr>\n",
       "    <tr>\n",
       "      <th>1</th>\n",
       "      <td>AAPL</td>\n",
       "      <td>2015-08-28 00:00:00+00:00</td>\n",
       "      <td>113.29</td>\n",
       "      <td>113.31</td>\n",
       "      <td>111.540</td>\n",
       "      <td>112.17</td>\n",
       "      <td>53164407</td>\n",
       "      <td>104.677792</td>\n",
       "      <td>104.696271</td>\n",
       "      <td>103.060825</td>\n",
       "      <td>103.642933</td>\n",
       "      <td>53164407</td>\n",
       "      <td>0.0</td>\n",
       "      <td>1.0</td>\n",
       "    </tr>\n",
       "    <tr>\n",
       "      <th>2</th>\n",
       "      <td>AAPL</td>\n",
       "      <td>2015-08-31 00:00:00+00:00</td>\n",
       "      <td>112.76</td>\n",
       "      <td>114.53</td>\n",
       "      <td>112.000</td>\n",
       "      <td>112.13</td>\n",
       "      <td>56229271</td>\n",
       "      <td>104.188082</td>\n",
       "      <td>105.823528</td>\n",
       "      <td>103.485856</td>\n",
       "      <td>103.605974</td>\n",
       "      <td>56229271</td>\n",
       "      <td>0.0</td>\n",
       "      <td>1.0</td>\n",
       "    </tr>\n",
       "    <tr>\n",
       "      <th>3</th>\n",
       "      <td>AAPL</td>\n",
       "      <td>2015-09-01 00:00:00+00:00</td>\n",
       "      <td>107.72</td>\n",
       "      <td>111.88</td>\n",
       "      <td>107.360</td>\n",
       "      <td>110.18</td>\n",
       "      <td>76845860</td>\n",
       "      <td>99.531218</td>\n",
       "      <td>103.374979</td>\n",
       "      <td>99.198585</td>\n",
       "      <td>101.804211</td>\n",
       "      <td>76845860</td>\n",
       "      <td>0.0</td>\n",
       "      <td>1.0</td>\n",
       "    </tr>\n",
       "    <tr>\n",
       "      <th>4</th>\n",
       "      <td>AAPL</td>\n",
       "      <td>2015-09-02 00:00:00+00:00</td>\n",
       "      <td>112.34</td>\n",
       "      <td>112.34</td>\n",
       "      <td>109.131</td>\n",
       "      <td>110.00</td>\n",
       "      <td>61888812</td>\n",
       "      <td>103.800010</td>\n",
       "      <td>103.800010</td>\n",
       "      <td>100.834955</td>\n",
       "      <td>101.637895</td>\n",
       "      <td>61888812</td>\n",
       "      <td>0.0</td>\n",
       "      <td>1.0</td>\n",
       "    </tr>\n",
       "  </tbody>\n",
       "</table>\n",
       "</div>"
      ],
      "text/plain": [
       "  symbol                       date   close    high      low    open  \\\n",
       "0   AAPL  2015-08-27 00:00:00+00:00  112.92  113.24  110.020  112.25   \n",
       "1   AAPL  2015-08-28 00:00:00+00:00  113.29  113.31  111.540  112.17   \n",
       "2   AAPL  2015-08-31 00:00:00+00:00  112.76  114.53  112.000  112.13   \n",
       "3   AAPL  2015-09-01 00:00:00+00:00  107.72  111.88  107.360  110.18   \n",
       "4   AAPL  2015-09-02 00:00:00+00:00  112.34  112.34  109.131  110.00   \n",
       "\n",
       "     volume    adjClose     adjHigh      adjLow     adjOpen  adjVolume  \\\n",
       "0  84616056  104.335919  104.631593  101.656374  103.716852   84616056   \n",
       "1  53164407  104.677792  104.696271  103.060825  103.642933   53164407   \n",
       "2  56229271  104.188082  105.823528  103.485856  103.605974   56229271   \n",
       "3  76845860   99.531218  103.374979   99.198585  101.804211   76845860   \n",
       "4  61888812  103.800010  103.800010  100.834955  101.637895   61888812   \n",
       "\n",
       "   divCash  splitFactor  \n",
       "0      0.0          1.0  \n",
       "1      0.0          1.0  \n",
       "2      0.0          1.0  \n",
       "3      0.0          1.0  \n",
       "4      0.0          1.0  "
      ]
     },
     "execution_count": 7,
     "metadata": {},
     "output_type": "execute_result"
    }
   ],
   "source": [
    "data= pd.read_csv('AAPL.csv')\n",
    "data.head()"
   ]
  },
  {
   "cell_type": "code",
   "execution_count": 8,
   "metadata": {},
   "outputs": [
    {
     "data": {
      "text/html": [
       "<div>\n",
       "<style scoped>\n",
       "    .dataframe tbody tr th:only-of-type {\n",
       "        vertical-align: middle;\n",
       "    }\n",
       "\n",
       "    .dataframe tbody tr th {\n",
       "        vertical-align: top;\n",
       "    }\n",
       "\n",
       "    .dataframe thead th {\n",
       "        text-align: right;\n",
       "    }\n",
       "</style>\n",
       "<table border=\"1\" class=\"dataframe\">\n",
       "  <thead>\n",
       "    <tr style=\"text-align: right;\">\n",
       "      <th></th>\n",
       "      <th>symbol</th>\n",
       "      <th>date</th>\n",
       "      <th>close</th>\n",
       "      <th>high</th>\n",
       "      <th>low</th>\n",
       "      <th>open</th>\n",
       "      <th>volume</th>\n",
       "      <th>adjClose</th>\n",
       "      <th>adjHigh</th>\n",
       "      <th>adjLow</th>\n",
       "      <th>adjOpen</th>\n",
       "      <th>adjVolume</th>\n",
       "      <th>divCash</th>\n",
       "      <th>splitFactor</th>\n",
       "    </tr>\n",
       "  </thead>\n",
       "  <tbody>\n",
       "    <tr>\n",
       "      <th>1252</th>\n",
       "      <td>AAPL</td>\n",
       "      <td>2020-08-18 00:00:00+00:00</td>\n",
       "      <td>462.25</td>\n",
       "      <td>464.000</td>\n",
       "      <td>456.0300</td>\n",
       "      <td>457.410</td>\n",
       "      <td>26408385</td>\n",
       "      <td>462.25</td>\n",
       "      <td>464.000</td>\n",
       "      <td>456.0300</td>\n",
       "      <td>457.410</td>\n",
       "      <td>26408385</td>\n",
       "      <td>0.0</td>\n",
       "      <td>1.0</td>\n",
       "    </tr>\n",
       "    <tr>\n",
       "      <th>1253</th>\n",
       "      <td>AAPL</td>\n",
       "      <td>2020-08-19 00:00:00+00:00</td>\n",
       "      <td>462.83</td>\n",
       "      <td>468.650</td>\n",
       "      <td>462.4400</td>\n",
       "      <td>463.933</td>\n",
       "      <td>36384502</td>\n",
       "      <td>462.83</td>\n",
       "      <td>468.650</td>\n",
       "      <td>462.4400</td>\n",
       "      <td>463.933</td>\n",
       "      <td>36384502</td>\n",
       "      <td>0.0</td>\n",
       "      <td>1.0</td>\n",
       "    </tr>\n",
       "    <tr>\n",
       "      <th>1254</th>\n",
       "      <td>AAPL</td>\n",
       "      <td>2020-08-20 00:00:00+00:00</td>\n",
       "      <td>473.10</td>\n",
       "      <td>473.568</td>\n",
       "      <td>462.9335</td>\n",
       "      <td>463.000</td>\n",
       "      <td>31726797</td>\n",
       "      <td>473.10</td>\n",
       "      <td>473.568</td>\n",
       "      <td>462.9335</td>\n",
       "      <td>463.000</td>\n",
       "      <td>31726797</td>\n",
       "      <td>0.0</td>\n",
       "      <td>1.0</td>\n",
       "    </tr>\n",
       "    <tr>\n",
       "      <th>1255</th>\n",
       "      <td>AAPL</td>\n",
       "      <td>2020-08-21 00:00:00+00:00</td>\n",
       "      <td>497.48</td>\n",
       "      <td>499.472</td>\n",
       "      <td>477.0000</td>\n",
       "      <td>477.050</td>\n",
       "      <td>84513660</td>\n",
       "      <td>497.48</td>\n",
       "      <td>499.472</td>\n",
       "      <td>477.0000</td>\n",
       "      <td>477.050</td>\n",
       "      <td>84513660</td>\n",
       "      <td>0.0</td>\n",
       "      <td>1.0</td>\n",
       "    </tr>\n",
       "    <tr>\n",
       "      <th>1256</th>\n",
       "      <td>AAPL</td>\n",
       "      <td>2020-08-24 00:00:00+00:00</td>\n",
       "      <td>503.43</td>\n",
       "      <td>515.140</td>\n",
       "      <td>495.7450</td>\n",
       "      <td>514.790</td>\n",
       "      <td>86484442</td>\n",
       "      <td>503.43</td>\n",
       "      <td>515.140</td>\n",
       "      <td>495.7450</td>\n",
       "      <td>514.790</td>\n",
       "      <td>86484442</td>\n",
       "      <td>0.0</td>\n",
       "      <td>1.0</td>\n",
       "    </tr>\n",
       "  </tbody>\n",
       "</table>\n",
       "</div>"
      ],
      "text/plain": [
       "     symbol                       date   close     high       low     open  \\\n",
       "1252   AAPL  2020-08-18 00:00:00+00:00  462.25  464.000  456.0300  457.410   \n",
       "1253   AAPL  2020-08-19 00:00:00+00:00  462.83  468.650  462.4400  463.933   \n",
       "1254   AAPL  2020-08-20 00:00:00+00:00  473.10  473.568  462.9335  463.000   \n",
       "1255   AAPL  2020-08-21 00:00:00+00:00  497.48  499.472  477.0000  477.050   \n",
       "1256   AAPL  2020-08-24 00:00:00+00:00  503.43  515.140  495.7450  514.790   \n",
       "\n",
       "        volume  adjClose  adjHigh    adjLow  adjOpen  adjVolume  divCash  \\\n",
       "1252  26408385    462.25  464.000  456.0300  457.410   26408385      0.0   \n",
       "1253  36384502    462.83  468.650  462.4400  463.933   36384502      0.0   \n",
       "1254  31726797    473.10  473.568  462.9335  463.000   31726797      0.0   \n",
       "1255  84513660    497.48  499.472  477.0000  477.050   84513660      0.0   \n",
       "1256  86484442    503.43  515.140  495.7450  514.790   86484442      0.0   \n",
       "\n",
       "      splitFactor  \n",
       "1252          1.0  \n",
       "1253          1.0  \n",
       "1254          1.0  \n",
       "1255          1.0  \n",
       "1256          1.0  "
      ]
     },
     "execution_count": 8,
     "metadata": {},
     "output_type": "execute_result"
    }
   ],
   "source": [
    "data.tail()"
   ]
  },
  {
   "cell_type": "code",
   "execution_count": 10,
   "metadata": {},
   "outputs": [],
   "source": [
    "df1=data.reset_index()['close']"
   ]
  },
  {
   "cell_type": "code",
   "execution_count": 11,
   "metadata": {},
   "outputs": [
    {
     "data": {
      "text/plain": [
       "0       112.92\n",
       "1       113.29\n",
       "2       112.76\n",
       "3       107.72\n",
       "4       112.34\n",
       "         ...  \n",
       "1252    462.25\n",
       "1253    462.83\n",
       "1254    473.10\n",
       "1255    497.48\n",
       "1256    503.43\n",
       "Name: close, Length: 1257, dtype: float64"
      ]
     },
     "execution_count": 11,
     "metadata": {},
     "output_type": "execute_result"
    }
   ],
   "source": [
    "df1"
   ]
  },
  {
   "cell_type": "code",
   "execution_count": 12,
   "metadata": {},
   "outputs": [
    {
     "data": {
      "text/plain": [
       "0"
      ]
     },
     "execution_count": 12,
     "metadata": {},
     "output_type": "execute_result"
    }
   ],
   "source": [
    "df1.isna().sum()"
   ]
  },
  {
   "cell_type": "code",
   "execution_count": 13,
   "metadata": {},
   "outputs": [
    {
     "data": {
      "text/plain": [
       "[<matplotlib.lines.Line2D at 0x1201da7a648>]"
      ]
     },
     "execution_count": 13,
     "metadata": {},
     "output_type": "execute_result"
    },
    {
     "data": {
      "image/png": "[encoded data removed]",
      "text/plain": [
       "<Figure size 432x288 with 1 Axes>"
      ]
     },
     "metadata": {
      "needs_background": "light"
     },
     "output_type": "display_data"
    }
   ],
   "source": [
    "import matplotlib.pyplot as plt\n",
    "plt.plot(df1)"
   ]
  },
  {
   "cell_type": "markdown",
   "metadata": {},
   "source": [
    "# LSTM are sensitive to the scale of the data. so we apply MinMax scaler"
   ]
  },
  {
   "cell_type": "code",
   "execution_count": 14,
   "metadata": {},
   "outputs": [],
   "source": [
    "import numpy as np"
   ]
  },
  {
   "cell_type": "code",
   "execution_count": 15,
   "metadata": {},
   "outputs": [],
   "source": [
    "from sklearn.preprocessing import MinMaxScaler\n",
    "scaler=MinMaxScaler(feature_range=(0,1))\n",
    "df1=scaler.fit_transform(np.array(df1).reshape(-1,1))"
   ]
  },
  {
   "cell_type": "code",
   "execution_count": 16,
   "metadata": {},
   "outputs": [],
   "source": [
    "##splitting dataset into train and test split. Since the data is in Sequential manner we cannot use train_test_val\n",
    "training_size=int(len(df1)*0.65)\n",
    "test_size=len(df1)-training_size\n",
    "train_data,test_data=df1[0:training_size,:],df1[training_size:len(df1),:1]"
   ]
  },
  {
   "cell_type": "code",
   "execution_count": 17,
   "metadata": {},
   "outputs": [],
   "source": [
    "# Data Preprocessing: COnverting the data into timestamp.\n",
    "import numpy\n",
    "# convert an array of values into a dataset matrix\n",
    "def create_dataset(dataset, time_step=1):\n",
    "    dataX, dataY = [], []\n",
    "    for i in range(len(dataset)-time_step-1):\n",
    "        a = dataset[i:(i+time_step), 0]   ###i=0, 0,1,2,3-----99   100 \n",
    "        dataX.append(a)\n",
    "        dataY.append(dataset[i + time_step, 0])\n",
    "    return numpy.array(dataX), numpy.array(dataY)"
   ]
  },
  {
   "cell_type": "code",
   "execution_count": 89,
   "metadata": {},
   "outputs": [],
   "source": [
    "# reshape into X=t,t+1,t+2,t+3 and Y=t+4\n",
    "time_step = 200\n",
    "X_train, y_train = create_dataset(train_data, time_step)\n",
    "X_test, ytest = create_dataset(test_data, time_step)"
   ]
  },
  {
   "cell_type": "code",
   "execution_count": 90,
   "metadata": {},
   "outputs": [
    {
     "name": "stdout",
     "output_type": "stream",
     "text": [
      "(616, 200)\n",
      "(616,)\n"
     ]
    },
    {
     "data": {
      "text/plain": [
       "(None, None)"
      ]
     },
     "execution_count": 90,
     "metadata": {},
     "output_type": "execute_result"
    }
   ],
   "source": [
    "print(X_train.shape), print(y_train.shape)"
   ]
  },
  {
   "cell_type": "code",
   "execution_count": 91,
   "metadata": {},
   "outputs": [
    {
     "name": "stdout",
     "output_type": "stream",
     "text": [
      "(239, 200)\n",
      "(239,)\n"
     ]
    },
    {
     "data": {
      "text/plain": [
       "(None, None)"
      ]
     },
     "execution_count": 91,
     "metadata": {},
     "output_type": "execute_result"
    }
   ],
   "source": [
    "print(X_test.shape), print(ytest.shape)"
   ]
  },
  {
   "cell_type": "code",
   "execution_count": 92,
   "metadata": {},
   "outputs": [],
   "source": [
    "# reshape input to be [samples, time steps, features] which is required for LSTM\n",
    "X_train =X_train.reshape(X_train.shape[0],X_train.shape[1] , 1)\n",
    "X_test = X_test.reshape(X_test.shape[0],X_test.shape[1] , 1)"
   ]
  },
  {
   "cell_type": "code",
   "execution_count": 93,
   "metadata": {},
   "outputs": [],
   "source": [
    "### Create the Stacked LSTM model\n",
    "from tensorflow.keras.models import Sequential\n",
    "from tensorflow.keras.layers import Dense\n",
    "from tensorflow.keras.layers import LSTM"
   ]
  },
  {
   "cell_type": "code",
   "execution_count": 97,
   "metadata": {},
   "outputs": [],
   "source": [
    "#Stack LSTM\n",
    "model=Sequential()\n",
    "model.add(LSTM(50,return_sequences=True,input_shape=(200,1)))\n",
    "model.add(LSTM(50,return_sequences=True))\n",
    "model.add(LSTM(50))\n",
    "model.add(Dense(1))\n",
    "model.compile(loss='mean_squared_error',optimizer='adam')"
   ]
  },
  {
   "cell_type": "code",
   "execution_count": 98,
   "metadata": {},
   "outputs": [
    {
     "name": "stdout",
     "output_type": "stream",
     "text": [
      "Model: \"sequential_2\"\n",
      "_________________________________________________________________\n",
      "Layer (type)                 Output Shape              Param #   \n",
      "=================================================================\n",
      "lstm_6 (LSTM)                (None, 200, 50)           10400     \n",
      "_________________________________________________________________\n",
      "lstm_7 (LSTM)                (None, 200, 50)           20200     \n",
      "_________________________________________________________________\n",
      "lstm_8 (LSTM)                (None, 50)                20200     \n",
      "_________________________________________________________________\n",
      "dense_2 (Dense)              (None, 1)                 51        \n",
      "=================================================================\n",
      "Total params: 50,851\n",
      "Trainable params: 50,851\n",
      "Non-trainable params: 0\n",
      "_________________________________________________________________\n"
     ]
    }
   ],
   "source": [
    "model.summary()"
   ]
  },
  {
   "cell_type": "code",
   "execution_count": 99,
   "metadata": {},
   "outputs": [
    {
     "name": "stdout",
     "output_type": "stream",
     "text": [
      "Epoch 1/100\n",
      "10/10 [==============================] - 6s 555ms/step - loss: 0.0112 - val_loss: 0.0378\n",
      "Epoch 2/100\n",
      "10/10 [==============================] - 5s 464ms/step - loss: 0.0024 - val_loss: 0.0149\n",
      "Epoch 3/100\n",
      "10/10 [==============================] - 5s 500ms/step - loss: 0.0011 - val_loss: 0.0142\n",
      "Epoch 4/100\n",
      "10/10 [==============================] - 5s 511ms/step - loss: 5.2062e-04 - val_loss: 0.0033\n",
      "Epoch 5/100\n",
      "10/10 [==============================] - 6s 557ms/step - loss: 3.5716e-04 - val_loss: 0.0035\n",
      "Epoch 6/100\n",
      "10/10 [==============================] - 4s 438ms/step - loss: 3.2907e-04 - val_loss: 0.0059\n",
      "Epoch 7/100\n",
      "10/10 [==============================] - 4s 414ms/step - loss: 2.9740e-04 - val_loss: 0.0065\n",
      "Epoch 8/100\n",
      "10/10 [==============================] - 4s 400ms/step - loss: 2.7892e-04 - val_loss: 0.0054\n",
      "Epoch 9/100\n",
      "10/10 [==============================] - 4s 411ms/step - loss: 2.6820e-04 - val_loss: 0.0052\n",
      "Epoch 10/100\n",
      "10/10 [==============================] - 4s 404ms/step - loss: 2.7531e-04 - val_loss: 0.0061\n",
      "Epoch 11/100\n",
      "10/10 [==============================] - 4s 386ms/step - loss: 2.6772e-04 - val_loss: 0.0063\n",
      "Epoch 12/100\n",
      "10/10 [==============================] - 5s 461ms/step - loss: 2.6490e-04 - val_loss: 0.0059\n",
      "Epoch 13/100\n",
      "10/10 [==============================] - 4s 431ms/step - loss: 2.5757e-04 - val_loss: 0.0061\n",
      "Epoch 14/100\n",
      "10/10 [==============================] - 5s 473ms/step - loss: 2.5416e-04 - val_loss: 0.0067\n",
      "Epoch 15/100\n",
      "10/10 [==============================] - 5s 476ms/step - loss: 2.5804e-04 - val_loss: 0.0059\n",
      "Epoch 16/100\n",
      "10/10 [==============================] - 4s 450ms/step - loss: 2.4567e-04 - val_loss: 0.0078\n",
      "Epoch 17/100\n",
      "10/10 [==============================] - 4s 412ms/step - loss: 2.5504e-04 - val_loss: 0.0076\n",
      "Epoch 18/100\n",
      "10/10 [==============================] - 4s 429ms/step - loss: 2.4327e-04 - val_loss: 0.0065\n",
      "Epoch 19/100\n",
      "10/10 [==============================] - 5s 486ms/step - loss: 2.3888e-04 - val_loss: 0.0057\n",
      "Epoch 20/100\n",
      "10/10 [==============================] - 5s 518ms/step - loss: 2.4018e-04 - val_loss: 0.0063\n",
      "Epoch 21/100\n",
      "10/10 [==============================] - 4s 445ms/step - loss: 2.3310e-04 - val_loss: 0.0066\n",
      "Epoch 22/100\n",
      "10/10 [==============================] - 5s 510ms/step - loss: 2.3495e-04 - val_loss: 0.0074\n",
      "Epoch 23/100\n",
      "10/10 [==============================] - 5s 497ms/step - loss: 2.3072e-04 - val_loss: 0.0076\n",
      "Epoch 24/100\n",
      "10/10 [==============================] - 5s 463ms/step - loss: 2.2386e-04 - val_loss: 0.0074\n",
      "Epoch 25/100\n",
      "10/10 [==============================] - 5s 489ms/step - loss: 2.3615e-04 - val_loss: 0.0087\n",
      "Epoch 26/100\n",
      "10/10 [==============================] - 4s 400ms/step - loss: 2.1903e-04 - val_loss: 0.0070\n",
      "Epoch 27/100\n",
      "10/10 [==============================] - 4s 425ms/step - loss: 2.1054e-04 - val_loss: 0.0069\n",
      "Epoch 28/100\n",
      "10/10 [==============================] - 4s 389ms/step - loss: 2.1648e-04 - val_loss: 0.0076\n",
      "Epoch 29/100\n",
      "10/10 [==============================] - 4s 385ms/step - loss: 2.0945e-04 - val_loss: 0.0074\n",
      "Epoch 30/100\n",
      "10/10 [==============================] - 4s 384ms/step - loss: 2.0464e-04 - val_loss: 0.0071\n",
      "Epoch 31/100\n",
      "10/10 [==============================] - 4s 385ms/step - loss: 2.0452e-04 - val_loss: 0.0068\n",
      "Epoch 32/100\n",
      "10/10 [==============================] - 4s 387ms/step - loss: 1.9410e-04 - val_loss: 0.0079\n",
      "Epoch 33/100\n",
      "10/10 [==============================] - 4s 384ms/step - loss: 2.2577e-04 - val_loss: 0.0062\n",
      "Epoch 34/100\n",
      "10/10 [==============================] - 5s 520ms/step - loss: 2.0764e-04 - val_loss: 0.0086\n",
      "Epoch 35/100\n",
      "10/10 [==============================] - 5s 542ms/step - loss: 2.0305e-04 - val_loss: 0.0081\n",
      "Epoch 36/100\n",
      "10/10 [==============================] - 5s 463ms/step - loss: 2.2849e-04 - val_loss: 0.0038\n",
      "Epoch 37/100\n",
      "10/10 [==============================] - 5s 477ms/step - loss: 2.6431e-04 - val_loss: 0.0084\n",
      "Epoch 38/100\n",
      "10/10 [==============================] - 5s 492ms/step - loss: 2.0247e-04 - val_loss: 0.0085\n",
      "Epoch 39/100\n",
      "10/10 [==============================] - 5s 452ms/step - loss: 1.8483e-04 - val_loss: 0.0063\n",
      "Epoch 40/100\n",
      "10/10 [==============================] - 5s 464ms/step - loss: 1.8376e-04 - val_loss: 0.0053\n",
      "Epoch 41/100\n",
      "10/10 [==============================] - 4s 389ms/step - loss: 1.8290e-04 - val_loss: 0.0061\n",
      "Epoch 42/100\n",
      "10/10 [==============================] - 5s 478ms/step - loss: 1.8121e-04 - val_loss: 0.0085\n",
      "Epoch 43/100\n",
      "10/10 [==============================] - 5s 457ms/step - loss: 2.1019e-04 - val_loss: 0.0050\n",
      "Epoch 44/100\n",
      "10/10 [==============================] - 4s 386ms/step - loss: 1.7442e-04 - val_loss: 0.0052\n",
      "Epoch 45/100\n",
      "10/10 [==============================] - 4s 381ms/step - loss: 1.6600e-04 - val_loss: 0.0051\n",
      "Epoch 46/100\n",
      "10/10 [==============================] - 4s 380ms/step - loss: 1.8760e-04 - val_loss: 0.0069\n",
      "Epoch 47/100\n",
      "10/10 [==============================] - 4s 382ms/step - loss: 1.6883e-04 - val_loss: 0.0052\n",
      "Epoch 48/100\n",
      "10/10 [==============================] - 4s 380ms/step - loss: 1.6166e-04 - val_loss: 0.0047\n",
      "Epoch 49/100\n",
      "10/10 [==============================] - 4s 382ms/step - loss: 1.6065e-04 - val_loss: 0.0050\n",
      "Epoch 50/100\n",
      "10/10 [==============================] - 4s 381ms/step - loss: 1.6103e-04 - val_loss: 0.0040\n",
      "Epoch 51/100\n",
      "10/10 [==============================] - 4s 382ms/step - loss: 1.7418e-04 - val_loss: 0.0035\n",
      "Epoch 52/100\n",
      "10/10 [==============================] - 4s 388ms/step - loss: 1.5388e-04 - val_loss: 0.0032\n",
      "Epoch 53/100\n",
      "10/10 [==============================] - 4s 397ms/step - loss: 1.6002e-04 - val_loss: 0.0044\n",
      "Epoch 54/100\n",
      "10/10 [==============================] - 4s 410ms/step - loss: 1.5190e-04 - val_loss: 0.0042\n",
      "Epoch 55/100\n",
      "10/10 [==============================] - 5s 459ms/step - loss: 1.6338e-04 - val_loss: 0.0028\n",
      "Epoch 56/100\n",
      "10/10 [==============================] - 4s 427ms/step - loss: 1.6005e-04 - val_loss: 0.0034\n",
      "Epoch 57/100\n",
      "10/10 [==============================] - 4s 430ms/step - loss: 1.5324e-04 - val_loss: 0.0045\n",
      "Epoch 58/100\n",
      "10/10 [==============================] - 4s 404ms/step - loss: 1.7115e-04 - val_loss: 0.0032\n",
      "Epoch 59/100\n",
      "10/10 [==============================] - 4s 421ms/step - loss: 1.7670e-04 - val_loss: 0.0022\n",
      "Epoch 60/100\n",
      "10/10 [==============================] - 5s 451ms/step - loss: 1.4580e-04 - val_loss: 0.0042\n",
      "Epoch 61/100\n",
      "10/10 [==============================] - 5s 467ms/step - loss: 1.6593e-04 - val_loss: 0.0037\n",
      "Epoch 62/100\n",
      "10/10 [==============================] - 4s 432ms/step - loss: 1.6176e-04 - val_loss: 0.0021\n",
      "Epoch 63/100\n",
      "10/10 [==============================] - 4s 394ms/step - loss: 1.5125e-04 - val_loss: 0.0020\n",
      "Epoch 64/100\n",
      "10/10 [==============================] - 4s 429ms/step - loss: 1.4054e-04 - val_loss: 0.0030\n",
      "Epoch 65/100\n",
      "10/10 [==============================] - 4s 388ms/step - loss: 1.3886e-04 - val_loss: 0.0018\n",
      "Epoch 66/100\n",
      "10/10 [==============================] - 4s 382ms/step - loss: 1.4265e-04 - val_loss: 0.0020\n",
      "Epoch 67/100\n",
      "10/10 [==============================] - 4s 376ms/step - loss: 1.5504e-04 - val_loss: 0.0037\n",
      "Epoch 68/100\n",
      "10/10 [==============================] - 4s 375ms/step - loss: 1.7039e-04 - val_loss: 0.0022\n",
      "Epoch 69/100\n",
      "10/10 [==============================] - 4s 378ms/step - loss: 1.7222e-04 - val_loss: 0.0024\n",
      "Epoch 70/100\n",
      "10/10 [==============================] - 4s 396ms/step - loss: 1.4182e-04 - val_loss: 0.0032\n",
      "Epoch 71/100\n",
      "10/10 [==============================] - 4s 376ms/step - loss: 1.4262e-04 - val_loss: 0.0029\n",
      "Epoch 72/100\n",
      "10/10 [==============================] - 4s 375ms/step - loss: 1.3439e-04 - val_loss: 0.0023\n",
      "Epoch 73/100\n",
      "10/10 [==============================] - 4s 375ms/step - loss: 1.3069e-04 - val_loss: 0.0024\n",
      "Epoch 74/100\n",
      "10/10 [==============================] - 4s 377ms/step - loss: 1.2968e-04 - val_loss: 0.0025\n",
      "Epoch 75/100\n",
      "10/10 [==============================] - 4s 376ms/step - loss: 1.2875e-04 - val_loss: 0.0023\n",
      "Epoch 76/100\n",
      "10/10 [==============================] - 4s 376ms/step - loss: 1.2562e-04 - val_loss: 0.0020\n",
      "Epoch 77/100\n",
      "10/10 [==============================] - 4s 376ms/step - loss: 1.3428e-04 - val_loss: 0.0012\n",
      "Epoch 78/100\n"
     ]
    },
    {
     "name": "stdout",
     "output_type": "stream",
     "text": [
      "10/10 [==============================] - 4s 375ms/step - loss: 1.4461e-04 - val_loss: 0.0026\n",
      "Epoch 79/100\n",
      "10/10 [==============================] - 4s 374ms/step - loss: 1.2799e-04 - val_loss: 0.0025\n",
      "Epoch 80/100\n",
      "10/10 [==============================] - 4s 374ms/step - loss: 1.2541e-04 - val_loss: 0.0042\n",
      "Epoch 81/100\n",
      "10/10 [==============================] - 4s 377ms/step - loss: 1.2939e-04 - val_loss: 0.0016\n",
      "Epoch 82/100\n",
      "10/10 [==============================] - 4s 380ms/step - loss: 1.2592e-04 - val_loss: 0.0020\n",
      "Epoch 83/100\n",
      "10/10 [==============================] - 4s 376ms/step - loss: 1.2226e-04 - val_loss: 0.0012\n",
      "Epoch 84/100\n",
      "10/10 [==============================] - 4s 373ms/step - loss: 1.4131e-04 - val_loss: 0.0032\n",
      "Epoch 85/100\n",
      "10/10 [==============================] - 4s 374ms/step - loss: 1.2218e-04 - val_loss: 0.0020\n",
      "Epoch 86/100\n",
      "10/10 [==============================] - 4s 375ms/step - loss: 1.1844e-04 - val_loss: 0.0021\n",
      "Epoch 87/100\n",
      "10/10 [==============================] - 4s 376ms/step - loss: 1.2685e-04 - val_loss: 0.0019\n",
      "Epoch 88/100\n",
      "10/10 [==============================] - 4s 373ms/step - loss: 1.3028e-04 - val_loss: 0.0034\n",
      "Epoch 89/100\n",
      "10/10 [==============================] - 4s 376ms/step - loss: 1.1880e-04 - val_loss: 0.0015\n",
      "Epoch 90/100\n",
      "10/10 [==============================] - 4s 407ms/step - loss: 1.1956e-04 - val_loss: 0.0037\n",
      "Epoch 91/100\n",
      "10/10 [==============================] - 4s 373ms/step - loss: 1.1823e-04 - val_loss: 0.0019\n",
      "Epoch 92/100\n",
      "10/10 [==============================] - 4s 374ms/step - loss: 1.1695e-04 - val_loss: 0.0023\n",
      "Epoch 93/100\n",
      "10/10 [==============================] - 4s 376ms/step - loss: 1.1885e-04 - val_loss: 0.0021\n",
      "Epoch 94/100\n",
      "10/10 [==============================] - 4s 376ms/step - loss: 1.1414e-04 - val_loss: 0.0024\n",
      "Epoch 95/100\n",
      "10/10 [==============================] - 4s 376ms/step - loss: 1.1122e-04 - val_loss: 0.0027\n",
      "Epoch 96/100\n",
      "10/10 [==============================] - 4s 379ms/step - loss: 1.1233e-04 - val_loss: 0.0023\n",
      "Epoch 97/100\n",
      "10/10 [==============================] - 4s 376ms/step - loss: 1.0534e-04 - val_loss: 0.0021\n",
      "Epoch 98/100\n",
      "10/10 [==============================] - 4s 376ms/step - loss: 1.0097e-04 - val_loss: 0.0012\n",
      "Epoch 99/100\n",
      "10/10 [==============================] - 4s 373ms/step - loss: 1.0408e-04 - val_loss: 0.0021\n",
      "Epoch 100/100\n",
      "10/10 [==============================] - 4s 374ms/step - loss: 1.0309e-04 - val_loss: 0.0015\n"
     ]
    },
    {
     "data": {
      "text/plain": [
       "<tensorflow.python.keras.callbacks.History at 0x12032a63148>"
      ]
     },
     "execution_count": 99,
     "metadata": {},
     "output_type": "execute_result"
    }
   ],
   "source": [
    "model.fit(X_train,y_train,validation_data=(X_test,ytest),epochs=100,batch_size=64,verbose=1)"
   ]
  },
  {
   "cell_type": "code",
   "execution_count": 100,
   "metadata": {},
   "outputs": [],
   "source": [
    "import tensorflow as tf"
   ]
  },
  {
   "cell_type": "code",
   "execution_count": 101,
   "metadata": {},
   "outputs": [],
   "source": [
    "### Lets Do the prediction and check performance metrics\n",
    "train_predict=model.predict(X_train)\n",
    "test_predict=model.predict(X_test)"
   ]
  },
  {
   "cell_type": "code",
   "execution_count": 102,
   "metadata": {},
   "outputs": [],
   "source": [
    "##Transformback to original form\n",
    "train_predict=scaler.inverse_transform(train_predict)\n",
    "test_predict=scaler.inverse_transform(test_predict)"
   ]
  },
  {
   "cell_type": "code",
   "execution_count": 103,
   "metadata": {},
   "outputs": [
    {
     "data": {
      "text/plain": [
       "161.56926688910883"
      ]
     },
     "execution_count": 103,
     "metadata": {},
     "output_type": "execute_result"
    }
   ],
   "source": [
    "### Calculate RMSE performance metrics\n",
    "import math\n",
    "from sklearn.metrics import mean_squared_error\n",
    "math.sqrt(mean_squared_error(y_train,train_predict))"
   ]
  },
  {
   "cell_type": "code",
   "execution_count": 104,
   "metadata": {},
   "outputs": [
    {
     "data": {
      "text/plain": [
       "298.465371243594"
      ]
     },
     "execution_count": 104,
     "metadata": {},
     "output_type": "execute_result"
    }
   ],
   "source": [
    "### Test Data RMSE\n",
    "math.sqrt(mean_squared_error(ytest,test_predict))"
   ]
  },
  {
   "cell_type": "code",
   "execution_count": 106,
   "metadata": {
    "scrolled": true
   },
   "outputs": [
    {
     "data": {
      "image/png": "[encoded data removed]",
      "text/plain": [
       "<Figure size 432x288 with 1 Axes>"
      ]
     },
     "metadata": {
      "needs_background": "light"
     },
     "output_type": "display_data"
    }
   ],
   "source": [
    "### Plotting \n",
    "# shift train predictions for plotting\n",
    "look_back=200\n",
    "trainPredictPlot = numpy.empty_like(df1)\n",
    "trainPredictPlot[:, :] = np.nan\n",
    "trainPredictPlot[look_back:len(train_predict)+look_back, :] = train_predict\n",
    "# shift test predictions for plotting\n",
    "testPredictPlot = numpy.empty_like(df1)\n",
    "testPredictPlot[:, :] = numpy.nan\n",
    "testPredictPlot[len(train_predict)+(look_back*2)+1:len(df1)-1, :] = test_predict\n",
    "# plot baseline and predictions\n",
    "plt.plot(scaler.inverse_transform(df1))\n",
    "plt.plot(trainPredictPlot)\n",
    "plt.plot(testPredictPlot)\n",
    "plt.show()"
   ]
  },
  {
   "cell_type": "code",
   "execution_count": 107,
   "metadata": {},
   "outputs": [
    {
     "data": {
      "text/plain": [
       "440"
      ]
     },
     "execution_count": 107,
     "metadata": {},
     "output_type": "execute_result"
    }
   ],
   "source": [
    "len(test_data)"
   ]
  },
  {
   "cell_type": "code",
   "execution_count": 108,
   "metadata": {},
   "outputs": [
    {
     "data": {
      "text/plain": [
       "(1, 100)"
      ]
     },
     "execution_count": 108,
     "metadata": {},
     "output_type": "execute_result"
    }
   ],
   "source": [
    "# Taking previous 100 days data\n",
    "x_input=test_data[340:].reshape(1,-1)\n",
    "x_input.shape"
   ]
  },
  {
   "cell_type": "code",
   "execution_count": 109,
   "metadata": {},
   "outputs": [],
   "source": [
    "temp_input=list(x_input)\n",
    "temp_input=temp_input[0].tolist()"
   ]
  },
  {
   "cell_type": "code",
   "execution_count": 110,
   "metadata": {},
   "outputs": [
    {
     "data": {
      "text/plain": [
       "100"
      ]
     },
     "execution_count": 110,
     "metadata": {},
     "output_type": "execute_result"
    }
   ],
   "source": [
    "#Previous 100 days data fro, \n",
    "len(temp_input)"
   ]
  },
  {
   "cell_type": "code",
   "execution_count": 111,
   "metadata": {},
   "outputs": [
    {
     "name": "stdout",
     "output_type": "stream",
     "text": [
      "WARNING:tensorflow:Model was constructed with shape (None, 200, 1) for input Tensor(\"lstm_6_input:0\", shape=(None, 200, 1), dtype=float32), but it was called on an input with incompatible shape (None, 100, 1).\n",
      "[0.89052683]\n",
      "101\n",
      "1 day input [0.36570723 0.41668886 0.40932969 0.42540367 0.43005156 0.44278487\n",
      " 0.47619163 0.46984919 0.47532015 0.46590331 0.45169334 0.43097146\n",
      " 0.44968409 0.44709385 0.46631485 0.466799   0.45568762 0.47783776\n",
      " 0.49253189 0.4810816  0.49098259 0.50163403 0.50906582 0.51659445\n",
      " 0.53206323 0.54387664 0.53516183 0.5260597  0.53063497 0.52620494\n",
      " 0.5437556  0.53934978 0.55409233 0.54833087 0.55326926 0.54804038\n",
      " 0.55138105 0.55171996 0.55096952 0.56043477 0.56404173 0.56835072\n",
      " 0.56157254 0.5837953  0.58854003 0.61403084 0.63545474 0.59444673\n",
      " 0.60146699 0.61161006 0.63361495 0.63242877 0.63276768 0.62790191\n",
      " 0.65005205 0.66859522 0.65293277 0.6645041  0.63736716 0.65709652\n",
      " 0.66440727 0.66273693 0.66273693 0.68631533 0.68350723 0.7045196\n",
      " 0.70848968 0.7101116  0.70582682 0.72112615 0.72758963 0.71594568\n",
      " 0.71405747 0.7337142  0.72056937 0.72320802 0.680336   0.67810889\n",
      " 0.69936333 0.68428188 0.70159045 0.71272604 0.81023506 0.83616161\n",
      " 0.84320608 0.84705512 0.8842383  0.8572224  0.87286064 0.84039798\n",
      " 0.87559612 0.89496236 0.89396984 0.8910649  0.90031228 0.90171633\n",
      " 0.92657774 0.98559636 1.         0.89052683]\n",
      "1 day output [[0.8994856]]\n",
      "2 day input [0.41668886 0.40932969 0.42540367 0.43005156 0.44278487 0.47619163\n",
      " 0.46984919 0.47532015 0.46590331 0.45169334 0.43097146 0.44968409\n",
      " 0.44709385 0.46631485 0.466799   0.45568762 0.47783776 0.49253189\n",
      " 0.4810816  0.49098259 0.50163403 0.50906582 0.51659445 0.53206323\n",
      " 0.54387664 0.53516183 0.5260597  0.53063497 0.52620494 0.5437556\n",
      " 0.53934978 0.55409233 0.54833087 0.55326926 0.54804038 0.55138105\n",
      " 0.55171996 0.55096952 0.56043477 0.56404173 0.56835072 0.56157254\n",
      " 0.5837953  0.58854003 0.61403084 0.63545474 0.59444673 0.60146699\n",
      " 0.61161006 0.63361495 0.63242877 0.63276768 0.62790191 0.65005205\n",
      " 0.66859522 0.65293277 0.6645041  0.63736716 0.65709652 0.66440727\n",
      " 0.66273693 0.66273693 0.68631533 0.68350723 0.7045196  0.70848968\n",
      " 0.7101116  0.70582682 0.72112615 0.72758963 0.71594568 0.71405747\n",
      " 0.7337142  0.72056937 0.72320802 0.680336   0.67810889 0.69936333\n",
      " 0.68428188 0.70159045 0.71272604 0.81023506 0.83616161 0.84320608\n",
      " 0.84705512 0.8842383  0.8572224  0.87286064 0.84039798 0.87559612\n",
      " 0.89496236 0.89396984 0.8910649  0.90031228 0.90171633 0.92657774\n",
      " 0.98559636 1.         0.89052683 0.89948559]\n",
      "2 day output [[0.90058017]]\n",
      "3 day input [0.40932969 0.42540367 0.43005156 0.44278487 0.47619163 0.46984919\n",
      " 0.47532015 0.46590331 0.45169334 0.43097146 0.44968409 0.44709385\n",
      " 0.46631485 0.466799   0.45568762 0.47783776 0.49253189 0.4810816\n",
      " 0.49098259 0.50163403 0.50906582 0.51659445 0.53206323 0.54387664\n",
      " 0.53516183 0.5260597  0.53063497 0.52620494 0.5437556  0.53934978\n",
      " 0.55409233 0.54833087 0.55326926 0.54804038 0.55138105 0.55171996\n",
      " 0.55096952 0.56043477 0.56404173 0.56835072 0.56157254 0.5837953\n",
      " 0.58854003 0.61403084 0.63545474 0.59444673 0.60146699 0.61161006\n",
      " 0.63361495 0.63242877 0.63276768 0.62790191 0.65005205 0.66859522\n",
      " 0.65293277 0.6645041  0.63736716 0.65709652 0.66440727 0.66273693\n",
      " 0.66273693 0.68631533 0.68350723 0.7045196  0.70848968 0.7101116\n",
      " 0.70582682 0.72112615 0.72758963 0.71594568 0.71405747 0.7337142\n",
      " 0.72056937 0.72320802 0.680336   0.67810889 0.69936333 0.68428188\n",
      " 0.70159045 0.71272604 0.81023506 0.83616161 0.84320608 0.84705512\n",
      " 0.8842383  0.8572224  0.87286064 0.84039798 0.87559612 0.89496236\n",
      " 0.89396984 0.8910649  0.90031228 0.90171633 0.92657774 0.98559636\n",
      " 1.         0.89052683 0.89948559 0.90058017]\n",
      "3 day output [[0.8960849]]\n",
      "4 day input [0.42540367 0.43005156 0.44278487 0.47619163 0.46984919 0.47532015\n",
      " 0.46590331 0.45169334 0.43097146 0.44968409 0.44709385 0.46631485\n",
      " 0.466799   0.45568762 0.47783776 0.49253189 0.4810816  0.49098259\n",
      " 0.50163403 0.50906582 0.51659445 0.53206323 0.54387664 0.53516183\n",
      " 0.5260597  0.53063497 0.52620494 0.5437556  0.53934978 0.55409233\n",
      " 0.54833087 0.55326926 0.54804038 0.55138105 0.55171996 0.55096952\n",
      " 0.56043477 0.56404173 0.56835072 0.56157254 0.5837953  0.58854003\n",
      " 0.61403084 0.63545474 0.59444673 0.60146699 0.61161006 0.63361495\n",
      " 0.63242877 0.63276768 0.62790191 0.65005205 0.66859522 0.65293277\n",
      " 0.6645041  0.63736716 0.65709652 0.66440727 0.66273693 0.66273693\n",
      " 0.68631533 0.68350723 0.7045196  0.70848968 0.7101116  0.70582682\n",
      " 0.72112615 0.72758963 0.71594568 0.71405747 0.7337142  0.72056937\n",
      " 0.72320802 0.680336   0.67810889 0.69936333 0.68428188 0.70159045\n",
      " 0.71272604 0.81023506 0.83616161 0.84320608 0.84705512 0.8842383\n",
      " 0.8572224  0.87286064 0.84039798 0.87559612 0.89496236 0.89396984\n",
      " 0.8910649  0.90031228 0.90171633 0.92657774 0.98559636 1.\n",
      " 0.89052683 0.89948559 0.90058017 0.8960849 ]\n",
      "4 day output [[0.8882745]]\n",
      "5 day input [0.43005156 0.44278487 0.47619163 0.46984919 0.47532015 0.46590331\n",
      " 0.45169334 0.43097146 0.44968409 0.44709385 0.46631485 0.466799\n",
      " 0.45568762 0.47783776 0.49253189 0.4810816  0.49098259 0.50163403\n",
      " 0.50906582 0.51659445 0.53206323 0.54387664 0.53516183 0.5260597\n",
      " 0.53063497 0.52620494 0.5437556  0.53934978 0.55409233 0.54833087\n",
      " 0.55326926 0.54804038 0.55138105 0.55171996 0.55096952 0.56043477\n",
      " 0.56404173 0.56835072 0.56157254 0.5837953  0.58854003 0.61403084\n",
      " 0.63545474 0.59444673 0.60146699 0.61161006 0.63361495 0.63242877\n",
      " 0.63276768 0.62790191 0.65005205 0.66859522 0.65293277 0.6645041\n",
      " 0.63736716 0.65709652 0.66440727 0.66273693 0.66273693 0.68631533\n",
      " 0.68350723 0.7045196  0.70848968 0.7101116  0.70582682 0.72112615\n",
      " 0.72758963 0.71594568 0.71405747 0.7337142  0.72056937 0.72320802\n",
      " 0.680336   0.67810889 0.69936333 0.68428188 0.70159045 0.71272604\n",
      " 0.81023506 0.83616161 0.84320608 0.84705512 0.8842383  0.8572224\n",
      " 0.87286064 0.84039798 0.87559612 0.89496236 0.89396984 0.8910649\n",
      " 0.90031228 0.90171633 0.92657774 0.98559636 1.         0.89052683\n",
      " 0.89948559 0.90058017 0.8960849  0.88827449]\n",
      "5 day output [[0.8788043]]\n",
      "6 day input [0.44278487 0.47619163 0.46984919 0.47532015 0.46590331 0.45169334\n",
      " 0.43097146 0.44968409 0.44709385 0.46631485 0.466799   0.45568762\n",
      " 0.47783776 0.49253189 0.4810816  0.49098259 0.50163403 0.50906582\n",
      " 0.51659445 0.53206323 0.54387664 0.53516183 0.5260597  0.53063497\n",
      " 0.52620494 0.5437556  0.53934978 0.55409233 0.54833087 0.55326926\n",
      " 0.54804038 0.55138105 0.55171996 0.55096952 0.56043477 0.56404173\n",
      " 0.56835072 0.56157254 0.5837953  0.58854003 0.61403084 0.63545474\n",
      " 0.59444673 0.60146699 0.61161006 0.63361495 0.63242877 0.63276768\n",
      " 0.62790191 0.65005205 0.66859522 0.65293277 0.6645041  0.63736716\n",
      " 0.65709652 0.66440727 0.66273693 0.66273693 0.68631533 0.68350723\n",
      " 0.7045196  0.70848968 0.7101116  0.70582682 0.72112615 0.72758963\n",
      " 0.71594568 0.71405747 0.7337142  0.72056937 0.72320802 0.680336\n",
      " 0.67810889 0.69936333 0.68428188 0.70159045 0.71272604 0.81023506\n",
      " 0.83616161 0.84320608 0.84705512 0.8842383  0.8572224  0.87286064\n",
      " 0.84039798 0.87559612 0.89496236 0.89396984 0.8910649  0.90031228\n",
      " 0.90171633 0.92657774 0.98559636 1.         0.89052683 0.89948559\n",
      " 0.90058017 0.8960849  0.88827449 0.87880433]\n",
      "6 day output [[0.86870193]]\n",
      "7 day input [0.47619163 0.46984919 0.47532015 0.46590331 0.45169334 0.43097146\n",
      " 0.44968409 0.44709385 0.46631485 0.466799   0.45568762 0.47783776\n",
      " 0.49253189 0.4810816  0.49098259 0.50163403 0.50906582 0.51659445\n",
      " 0.53206323 0.54387664 0.53516183 0.5260597  0.53063497 0.52620494\n",
      " 0.5437556  0.53934978 0.55409233 0.54833087 0.55326926 0.54804038\n",
      " 0.55138105 0.55171996 0.55096952 0.56043477 0.56404173 0.56835072\n",
      " 0.56157254 0.5837953  0.58854003 0.61403084 0.63545474 0.59444673\n",
      " 0.60146699 0.61161006 0.63361495 0.63242877 0.63276768 0.62790191\n",
      " 0.65005205 0.66859522 0.65293277 0.6645041  0.63736716 0.65709652\n",
      " 0.66440727 0.66273693 0.66273693 0.68631533 0.68350723 0.7045196\n",
      " 0.70848968 0.7101116  0.70582682 0.72112615 0.72758963 0.71594568\n",
      " 0.71405747 0.7337142  0.72056937 0.72320802 0.680336   0.67810889\n",
      " 0.69936333 0.68428188 0.70159045 0.71272604 0.81023506 0.83616161\n",
      " 0.84320608 0.84705512 0.8842383  0.8572224  0.87286064 0.84039798\n",
      " 0.87559612 0.89496236 0.89396984 0.8910649  0.90031228 0.90171633\n",
      " 0.92657774 0.98559636 1.         0.89052683 0.89948559 0.90058017\n",
      " 0.8960849  0.88827449 0.87880433 0.86870193]\n",
      "7 day output [[0.85854346]]\n",
      "8 day input [0.46984919 0.47532015 0.46590331 0.45169334 0.43097146 0.44968409\n",
      " 0.44709385 0.46631485 0.466799   0.45568762 0.47783776 0.49253189\n",
      " 0.4810816  0.49098259 0.50163403 0.50906582 0.51659445 0.53206323\n",
      " 0.54387664 0.53516183 0.5260597  0.53063497 0.52620494 0.5437556\n",
      " 0.53934978 0.55409233 0.54833087 0.55326926 0.54804038 0.55138105\n",
      " 0.55171996 0.55096952 0.56043477 0.56404173 0.56835072 0.56157254\n",
      " 0.5837953  0.58854003 0.61403084 0.63545474 0.59444673 0.60146699\n",
      " 0.61161006 0.63361495 0.63242877 0.63276768 0.62790191 0.65005205\n",
      " 0.66859522 0.65293277 0.6645041  0.63736716 0.65709652 0.66440727\n",
      " 0.66273693 0.66273693 0.68631533 0.68350723 0.7045196  0.70848968\n",
      " 0.7101116  0.70582682 0.72112615 0.72758963 0.71594568 0.71405747\n",
      " 0.7337142  0.72056937 0.72320802 0.680336   0.67810889 0.69936333\n",
      " 0.68428188 0.70159045 0.71272604 0.81023506 0.83616161 0.84320608\n",
      " 0.84705512 0.8842383  0.8572224  0.87286064 0.84039798 0.87559612\n",
      " 0.89496236 0.89396984 0.8910649  0.90031228 0.90171633 0.92657774\n",
      " 0.98559636 1.         0.89052683 0.89948559 0.90058017 0.8960849\n",
      " 0.88827449 0.87880433 0.86870193 0.85854346]\n"
     ]
    },
    {
     "name": "stdout",
     "output_type": "stream",
     "text": [
      "8 day output [[0.8486323]]\n",
      "9 day input [0.47532015 0.46590331 0.45169334 0.43097146 0.44968409 0.44709385\n",
      " 0.46631485 0.466799   0.45568762 0.47783776 0.49253189 0.4810816\n",
      " 0.49098259 0.50163403 0.50906582 0.51659445 0.53206323 0.54387664\n",
      " 0.53516183 0.5260597  0.53063497 0.52620494 0.5437556  0.53934978\n",
      " 0.55409233 0.54833087 0.55326926 0.54804038 0.55138105 0.55171996\n",
      " 0.55096952 0.56043477 0.56404173 0.56835072 0.56157254 0.5837953\n",
      " 0.58854003 0.61403084 0.63545474 0.59444673 0.60146699 0.61161006\n",
      " 0.63361495 0.63242877 0.63276768 0.62790191 0.65005205 0.66859522\n",
      " 0.65293277 0.6645041  0.63736716 0.65709652 0.66440727 0.66273693\n",
      " 0.66273693 0.68631533 0.68350723 0.7045196  0.70848968 0.7101116\n",
      " 0.70582682 0.72112615 0.72758963 0.71594568 0.71405747 0.7337142\n",
      " 0.72056937 0.72320802 0.680336   0.67810889 0.69936333 0.68428188\n",
      " 0.70159045 0.71272604 0.81023506 0.83616161 0.84320608 0.84705512\n",
      " 0.8842383  0.8572224  0.87286064 0.84039798 0.87559612 0.89496236\n",
      " 0.89396984 0.8910649  0.90031228 0.90171633 0.92657774 0.98559636\n",
      " 1.         0.89052683 0.89948559 0.90058017 0.8960849  0.88827449\n",
      " 0.87880433 0.86870193 0.85854346 0.84863228]\n",
      "9 day output [[0.8391251]]\n",
      "10 day input [0.46590331 0.45169334 0.43097146 0.44968409 0.44709385 0.46631485\n",
      " 0.466799   0.45568762 0.47783776 0.49253189 0.4810816  0.49098259\n",
      " 0.50163403 0.50906582 0.51659445 0.53206323 0.54387664 0.53516183\n",
      " 0.5260597  0.53063497 0.52620494 0.5437556  0.53934978 0.55409233\n",
      " 0.54833087 0.55326926 0.54804038 0.55138105 0.55171996 0.55096952\n",
      " 0.56043477 0.56404173 0.56835072 0.56157254 0.5837953  0.58854003\n",
      " 0.61403084 0.63545474 0.59444673 0.60146699 0.61161006 0.63361495\n",
      " 0.63242877 0.63276768 0.62790191 0.65005205 0.66859522 0.65293277\n",
      " 0.6645041  0.63736716 0.65709652 0.66440727 0.66273693 0.66273693\n",
      " 0.68631533 0.68350723 0.7045196  0.70848968 0.7101116  0.70582682\n",
      " 0.72112615 0.72758963 0.71594568 0.71405747 0.7337142  0.72056937\n",
      " 0.72320802 0.680336   0.67810889 0.69936333 0.68428188 0.70159045\n",
      " 0.71272604 0.81023506 0.83616161 0.84320608 0.84705512 0.8842383\n",
      " 0.8572224  0.87286064 0.84039798 0.87559612 0.89496236 0.89396984\n",
      " 0.8910649  0.90031228 0.90171633 0.92657774 0.98559636 1.\n",
      " 0.89052683 0.89948559 0.90058017 0.8960849  0.88827449 0.87880433\n",
      " 0.86870193 0.85854346 0.84863228 0.8391251 ]\n",
      "10 day output [[0.83010465]]\n",
      "11 day input [0.45169334 0.43097146 0.44968409 0.44709385 0.46631485 0.466799\n",
      " 0.45568762 0.47783776 0.49253189 0.4810816  0.49098259 0.50163403\n",
      " 0.50906582 0.51659445 0.53206323 0.54387664 0.53516183 0.5260597\n",
      " 0.53063497 0.52620494 0.5437556  0.53934978 0.55409233 0.54833087\n",
      " 0.55326926 0.54804038 0.55138105 0.55171996 0.55096952 0.56043477\n",
      " 0.56404173 0.56835072 0.56157254 0.5837953  0.58854003 0.61403084\n",
      " 0.63545474 0.59444673 0.60146699 0.61161006 0.63361495 0.63242877\n",
      " 0.63276768 0.62790191 0.65005205 0.66859522 0.65293277 0.6645041\n",
      " 0.63736716 0.65709652 0.66440727 0.66273693 0.66273693 0.68631533\n",
      " 0.68350723 0.7045196  0.70848968 0.7101116  0.70582682 0.72112615\n",
      " 0.72758963 0.71594568 0.71405747 0.7337142  0.72056937 0.72320802\n",
      " 0.680336   0.67810889 0.69936333 0.68428188 0.70159045 0.71272604\n",
      " 0.81023506 0.83616161 0.84320608 0.84705512 0.8842383  0.8572224\n",
      " 0.87286064 0.84039798 0.87559612 0.89496236 0.89396984 0.8910649\n",
      " 0.90031228 0.90171633 0.92657774 0.98559636 1.         0.89052683\n",
      " 0.89948559 0.90058017 0.8960849  0.88827449 0.87880433 0.86870193\n",
      " 0.85854346 0.84863228 0.8391251  0.83010465]\n",
      "11 day output [[0.8216162]]\n",
      "12 day input [0.43097146 0.44968409 0.44709385 0.46631485 0.466799   0.45568762\n",
      " 0.47783776 0.49253189 0.4810816  0.49098259 0.50163403 0.50906582\n",
      " 0.51659445 0.53206323 0.54387664 0.53516183 0.5260597  0.53063497\n",
      " 0.52620494 0.5437556  0.53934978 0.55409233 0.54833087 0.55326926\n",
      " 0.54804038 0.55138105 0.55171996 0.55096952 0.56043477 0.56404173\n",
      " 0.56835072 0.56157254 0.5837953  0.58854003 0.61403084 0.63545474\n",
      " 0.59444673 0.60146699 0.61161006 0.63361495 0.63242877 0.63276768\n",
      " 0.62790191 0.65005205 0.66859522 0.65293277 0.6645041  0.63736716\n",
      " 0.65709652 0.66440727 0.66273693 0.66273693 0.68631533 0.68350723\n",
      " 0.7045196  0.70848968 0.7101116  0.70582682 0.72112615 0.72758963\n",
      " 0.71594568 0.71405747 0.7337142  0.72056937 0.72320802 0.680336\n",
      " 0.67810889 0.69936333 0.68428188 0.70159045 0.71272604 0.81023506\n",
      " 0.83616161 0.84320608 0.84705512 0.8842383  0.8572224  0.87286064\n",
      " 0.84039798 0.87559612 0.89496236 0.89396984 0.8910649  0.90031228\n",
      " 0.90171633 0.92657774 0.98559636 1.         0.89052683 0.89948559\n",
      " 0.90058017 0.8960849  0.88827449 0.87880433 0.86870193 0.85854346\n",
      " 0.84863228 0.8391251  0.83010465 0.82161617]\n",
      "12 day output [[0.81368357]]\n",
      "13 day input [0.44968409 0.44709385 0.46631485 0.466799   0.45568762 0.47783776\n",
      " 0.49253189 0.4810816  0.49098259 0.50163403 0.50906582 0.51659445\n",
      " 0.53206323 0.54387664 0.53516183 0.5260597  0.53063497 0.52620494\n",
      " 0.5437556  0.53934978 0.55409233 0.54833087 0.55326926 0.54804038\n",
      " 0.55138105 0.55171996 0.55096952 0.56043477 0.56404173 0.56835072\n",
      " 0.56157254 0.5837953  0.58854003 0.61403084 0.63545474 0.59444673\n",
      " 0.60146699 0.61161006 0.63361495 0.63242877 0.63276768 0.62790191\n",
      " 0.65005205 0.66859522 0.65293277 0.6645041  0.63736716 0.65709652\n",
      " 0.66440727 0.66273693 0.66273693 0.68631533 0.68350723 0.7045196\n",
      " 0.70848968 0.7101116  0.70582682 0.72112615 0.72758963 0.71594568\n",
      " 0.71405747 0.7337142  0.72056937 0.72320802 0.680336   0.67810889\n",
      " 0.69936333 0.68428188 0.70159045 0.71272604 0.81023506 0.83616161\n",
      " 0.84320608 0.84705512 0.8842383  0.8572224  0.87286064 0.84039798\n",
      " 0.87559612 0.89496236 0.89396984 0.8910649  0.90031228 0.90171633\n",
      " 0.92657774 0.98559636 1.         0.89052683 0.89948559 0.90058017\n",
      " 0.8960849  0.88827449 0.87880433 0.86870193 0.85854346 0.84863228\n",
      " 0.8391251  0.83010465 0.82161617 0.81368357]\n",
      "13 day output [[0.80631435]]\n",
      "14 day input [0.44709385 0.46631485 0.466799   0.45568762 0.47783776 0.49253189\n",
      " 0.4810816  0.49098259 0.50163403 0.50906582 0.51659445 0.53206323\n",
      " 0.54387664 0.53516183 0.5260597  0.53063497 0.52620494 0.5437556\n",
      " 0.53934978 0.55409233 0.54833087 0.55326926 0.54804038 0.55138105\n",
      " 0.55171996 0.55096952 0.56043477 0.56404173 0.56835072 0.56157254\n",
      " 0.5837953  0.58854003 0.61403084 0.63545474 0.59444673 0.60146699\n",
      " 0.61161006 0.63361495 0.63242877 0.63276768 0.62790191 0.65005205\n",
      " 0.66859522 0.65293277 0.6645041  0.63736716 0.65709652 0.66440727\n",
      " 0.66273693 0.66273693 0.68631533 0.68350723 0.7045196  0.70848968\n",
      " 0.7101116  0.70582682 0.72112615 0.72758963 0.71594568 0.71405747\n",
      " 0.7337142  0.72056937 0.72320802 0.680336   0.67810889 0.69936333\n",
      " 0.68428188 0.70159045 0.71272604 0.81023506 0.83616161 0.84320608\n",
      " 0.84705512 0.8842383  0.8572224  0.87286064 0.84039798 0.87559612\n",
      " 0.89496236 0.89396984 0.8910649  0.90031228 0.90171633 0.92657774\n",
      " 0.98559636 1.         0.89052683 0.89948559 0.90058017 0.8960849\n",
      " 0.88827449 0.87880433 0.86870193 0.85854346 0.84863228 0.8391251\n",
      " 0.83010465 0.82161617 0.81368357 0.80631435]\n",
      "14 day output [[0.7995014]]\n",
      "15 day input [0.46631485 0.466799   0.45568762 0.47783776 0.49253189 0.4810816\n",
      " 0.49098259 0.50163403 0.50906582 0.51659445 0.53206323 0.54387664\n",
      " 0.53516183 0.5260597  0.53063497 0.52620494 0.5437556  0.53934978\n",
      " 0.55409233 0.54833087 0.55326926 0.54804038 0.55138105 0.55171996\n",
      " 0.55096952 0.56043477 0.56404173 0.56835072 0.56157254 0.5837953\n",
      " 0.58854003 0.61403084 0.63545474 0.59444673 0.60146699 0.61161006\n",
      " 0.63361495 0.63242877 0.63276768 0.62790191 0.65005205 0.66859522\n",
      " 0.65293277 0.6645041  0.63736716 0.65709652 0.66440727 0.66273693\n",
      " 0.66273693 0.68631533 0.68350723 0.7045196  0.70848968 0.7101116\n",
      " 0.70582682 0.72112615 0.72758963 0.71594568 0.71405747 0.7337142\n",
      " 0.72056937 0.72320802 0.680336   0.67810889 0.69936333 0.68428188\n",
      " 0.70159045 0.71272604 0.81023506 0.83616161 0.84320608 0.84705512\n",
      " 0.8842383  0.8572224  0.87286064 0.84039798 0.87559612 0.89496236\n",
      " 0.89396984 0.8910649  0.90031228 0.90171633 0.92657774 0.98559636\n",
      " 1.         0.89052683 0.89948559 0.90058017 0.8960849  0.88827449\n",
      " 0.87880433 0.86870193 0.85854346 0.84863228 0.8391251  0.83010465\n",
      " 0.82161617 0.81368357 0.80631435 0.79950142]\n",
      "15 day output [[0.7932265]]\n",
      "16 day input [0.466799   0.45568762 0.47783776 0.49253189 0.4810816  0.49098259\n",
      " 0.50163403 0.50906582 0.51659445 0.53206323 0.54387664 0.53516183\n",
      " 0.5260597  0.53063497 0.52620494 0.5437556  0.53934978 0.55409233\n",
      " 0.54833087 0.55326926 0.54804038 0.55138105 0.55171996 0.55096952\n",
      " 0.56043477 0.56404173 0.56835072 0.56157254 0.5837953  0.58854003\n",
      " 0.61403084 0.63545474 0.59444673 0.60146699 0.61161006 0.63361495\n",
      " 0.63242877 0.63276768 0.62790191 0.65005205 0.66859522 0.65293277\n",
      " 0.6645041  0.63736716 0.65709652 0.66440727 0.66273693 0.66273693\n",
      " 0.68631533 0.68350723 0.7045196  0.70848968 0.7101116  0.70582682\n",
      " 0.72112615 0.72758963 0.71594568 0.71405747 0.7337142  0.72056937\n",
      " 0.72320802 0.680336   0.67810889 0.69936333 0.68428188 0.70159045\n",
      " 0.71272604 0.81023506 0.83616161 0.84320608 0.84705512 0.8842383\n",
      " 0.8572224  0.87286064 0.84039798 0.87559612 0.89496236 0.89396984\n",
      " 0.8910649  0.90031228 0.90171633 0.92657774 0.98559636 1.\n",
      " 0.89052683 0.89948559 0.90058017 0.8960849  0.88827449 0.87880433\n",
      " 0.86870193 0.85854346 0.84863228 0.8391251  0.83010465 0.82161617\n",
      " 0.81368357 0.80631435 0.79950142 0.79322648]\n",
      "16 day output [[0.7874595]]\n",
      "17 day input [0.45568762 0.47783776 0.49253189 0.4810816  0.49098259 0.50163403\n",
      " 0.50906582 0.51659445 0.53206323 0.54387664 0.53516183 0.5260597\n",
      " 0.53063497 0.52620494 0.5437556  0.53934978 0.55409233 0.54833087\n",
      " 0.55326926 0.54804038 0.55138105 0.55171996 0.55096952 0.56043477\n",
      " 0.56404173 0.56835072 0.56157254 0.5837953  0.58854003 0.61403084\n",
      " 0.63545474 0.59444673 0.60146699 0.61161006 0.63361495 0.63242877\n",
      " 0.63276768 0.62790191 0.65005205 0.66859522 0.65293277 0.6645041\n",
      " 0.63736716 0.65709652 0.66440727 0.66273693 0.66273693 0.68631533\n",
      " 0.68350723 0.7045196  0.70848968 0.7101116  0.70582682 0.72112615\n",
      " 0.72758963 0.71594568 0.71405747 0.7337142  0.72056937 0.72320802\n",
      " 0.680336   0.67810889 0.69936333 0.68428188 0.70159045 0.71272604\n",
      " 0.81023506 0.83616161 0.84320608 0.84705512 0.8842383  0.8572224\n",
      " 0.87286064 0.84039798 0.87559612 0.89496236 0.89396984 0.8910649\n",
      " 0.90031228 0.90171633 0.92657774 0.98559636 1.         0.89052683\n",
      " 0.89948559 0.90058017 0.8960849  0.88827449 0.87880433 0.86870193\n",
      " 0.85854346 0.84863228 0.8391251  0.83010465 0.82161617 0.81368357\n",
      " 0.80631435 0.79950142 0.79322648 0.78745949]\n",
      "17 day output [[0.78216237]]\n",
      "18 day input [0.47783776 0.49253189 0.4810816  0.49098259 0.50163403 0.50906582\n",
      " 0.51659445 0.53206323 0.54387664 0.53516183 0.5260597  0.53063497\n",
      " 0.52620494 0.5437556  0.53934978 0.55409233 0.54833087 0.55326926\n",
      " 0.54804038 0.55138105 0.55171996 0.55096952 0.56043477 0.56404173\n",
      " 0.56835072 0.56157254 0.5837953  0.58854003 0.61403084 0.63545474\n",
      " 0.59444673 0.60146699 0.61161006 0.63361495 0.63242877 0.63276768\n",
      " 0.62790191 0.65005205 0.66859522 0.65293277 0.6645041  0.63736716\n",
      " 0.65709652 0.66440727 0.66273693 0.66273693 0.68631533 0.68350723\n",
      " 0.7045196  0.70848968 0.7101116  0.70582682 0.72112615 0.72758963\n",
      " 0.71594568 0.71405747 0.7337142  0.72056937 0.72320802 0.680336\n",
      " 0.67810889 0.69936333 0.68428188 0.70159045 0.71272604 0.81023506\n",
      " 0.83616161 0.84320608 0.84705512 0.8842383  0.8572224  0.87286064\n",
      " 0.84039798 0.87559612 0.89496236 0.89396984 0.8910649  0.90031228\n",
      " 0.90171633 0.92657774 0.98559636 1.         0.89052683 0.89948559\n",
      " 0.90058017 0.8960849  0.88827449 0.87880433 0.86870193 0.85854346\n",
      " 0.84863228 0.8391251  0.83010465 0.82161617 0.81368357 0.80631435\n",
      " 0.79950142 0.79322648 0.78745949 0.78216237]\n"
     ]
    },
    {
     "name": "stdout",
     "output_type": "stream",
     "text": [
      "18 day output [[0.7772896]]\n",
      "19 day input [0.49253189 0.4810816  0.49098259 0.50163403 0.50906582 0.51659445\n",
      " 0.53206323 0.54387664 0.53516183 0.5260597  0.53063497 0.52620494\n",
      " 0.5437556  0.53934978 0.55409233 0.54833087 0.55326926 0.54804038\n",
      " 0.55138105 0.55171996 0.55096952 0.56043477 0.56404173 0.56835072\n",
      " 0.56157254 0.5837953  0.58854003 0.61403084 0.63545474 0.59444673\n",
      " 0.60146699 0.61161006 0.63361495 0.63242877 0.63276768 0.62790191\n",
      " 0.65005205 0.66859522 0.65293277 0.6645041  0.63736716 0.65709652\n",
      " 0.66440727 0.66273693 0.66273693 0.68631533 0.68350723 0.7045196\n",
      " 0.70848968 0.7101116  0.70582682 0.72112615 0.72758963 0.71594568\n",
      " 0.71405747 0.7337142  0.72056937 0.72320802 0.680336   0.67810889\n",
      " 0.69936333 0.68428188 0.70159045 0.71272604 0.81023506 0.83616161\n",
      " 0.84320608 0.84705512 0.8842383  0.8572224  0.87286064 0.84039798\n",
      " 0.87559612 0.89496236 0.89396984 0.8910649  0.90031228 0.90171633\n",
      " 0.92657774 0.98559636 1.         0.89052683 0.89948559 0.90058017\n",
      " 0.8960849  0.88827449 0.87880433 0.86870193 0.85854346 0.84863228\n",
      " 0.8391251  0.83010465 0.82161617 0.81368357 0.80631435 0.79950142\n",
      " 0.79322648 0.78745949 0.78216237 0.77728963]\n",
      "19 day output [[0.77279246]]\n",
      "20 day input [0.4810816  0.49098259 0.50163403 0.50906582 0.51659445 0.53206323\n",
      " 0.54387664 0.53516183 0.5260597  0.53063497 0.52620494 0.5437556\n",
      " 0.53934978 0.55409233 0.54833087 0.55326926 0.54804038 0.55138105\n",
      " 0.55171996 0.55096952 0.56043477 0.56404173 0.56835072 0.56157254\n",
      " 0.5837953  0.58854003 0.61403084 0.63545474 0.59444673 0.60146699\n",
      " 0.61161006 0.63361495 0.63242877 0.63276768 0.62790191 0.65005205\n",
      " 0.66859522 0.65293277 0.6645041  0.63736716 0.65709652 0.66440727\n",
      " 0.66273693 0.66273693 0.68631533 0.68350723 0.7045196  0.70848968\n",
      " 0.7101116  0.70582682 0.72112615 0.72758963 0.71594568 0.71405747\n",
      " 0.7337142  0.72056937 0.72320802 0.680336   0.67810889 0.69936333\n",
      " 0.68428188 0.70159045 0.71272604 0.81023506 0.83616161 0.84320608\n",
      " 0.84705512 0.8842383  0.8572224  0.87286064 0.84039798 0.87559612\n",
      " 0.89496236 0.89396984 0.8910649  0.90031228 0.90171633 0.92657774\n",
      " 0.98559636 1.         0.89052683 0.89948559 0.90058017 0.8960849\n",
      " 0.88827449 0.87880433 0.86870193 0.85854346 0.84863228 0.8391251\n",
      " 0.83010465 0.82161617 0.81368357 0.80631435 0.79950142 0.79322648\n",
      " 0.78745949 0.78216237 0.77728963 0.77279246]\n",
      "20 day output [[0.7686198]]\n",
      "21 day input [0.49098259 0.50163403 0.50906582 0.51659445 0.53206323 0.54387664\n",
      " 0.53516183 0.5260597  0.53063497 0.52620494 0.5437556  0.53934978\n",
      " 0.55409233 0.54833087 0.55326926 0.54804038 0.55138105 0.55171996\n",
      " 0.55096952 0.56043477 0.56404173 0.56835072 0.56157254 0.5837953\n",
      " 0.58854003 0.61403084 0.63545474 0.59444673 0.60146699 0.61161006\n",
      " 0.63361495 0.63242877 0.63276768 0.62790191 0.65005205 0.66859522\n",
      " 0.65293277 0.6645041  0.63736716 0.65709652 0.66440727 0.66273693\n",
      " 0.66273693 0.68631533 0.68350723 0.7045196  0.70848968 0.7101116\n",
      " 0.70582682 0.72112615 0.72758963 0.71594568 0.71405747 0.7337142\n",
      " 0.72056937 0.72320802 0.680336   0.67810889 0.69936333 0.68428188\n",
      " 0.70159045 0.71272604 0.81023506 0.83616161 0.84320608 0.84705512\n",
      " 0.8842383  0.8572224  0.87286064 0.84039798 0.87559612 0.89496236\n",
      " 0.89396984 0.8910649  0.90031228 0.90171633 0.92657774 0.98559636\n",
      " 1.         0.89052683 0.89948559 0.90058017 0.8960849  0.88827449\n",
      " 0.87880433 0.86870193 0.85854346 0.84863228 0.8391251  0.83010465\n",
      " 0.82161617 0.81368357 0.80631435 0.79950142 0.79322648 0.78745949\n",
      " 0.78216237 0.77728963 0.77279246 0.76861978]\n",
      "21 day output [[0.76471996]]\n",
      "22 day input [0.50163403 0.50906582 0.51659445 0.53206323 0.54387664 0.53516183\n",
      " 0.5260597  0.53063497 0.52620494 0.5437556  0.53934978 0.55409233\n",
      " 0.54833087 0.55326926 0.54804038 0.55138105 0.55171996 0.55096952\n",
      " 0.56043477 0.56404173 0.56835072 0.56157254 0.5837953  0.58854003\n",
      " 0.61403084 0.63545474 0.59444673 0.60146699 0.61161006 0.63361495\n",
      " 0.63242877 0.63276768 0.62790191 0.65005205 0.66859522 0.65293277\n",
      " 0.6645041  0.63736716 0.65709652 0.66440727 0.66273693 0.66273693\n",
      " 0.68631533 0.68350723 0.7045196  0.70848968 0.7101116  0.70582682\n",
      " 0.72112615 0.72758963 0.71594568 0.71405747 0.7337142  0.72056937\n",
      " 0.72320802 0.680336   0.67810889 0.69936333 0.68428188 0.70159045\n",
      " 0.71272604 0.81023506 0.83616161 0.84320608 0.84705512 0.8842383\n",
      " 0.8572224  0.87286064 0.84039798 0.87559612 0.89496236 0.89396984\n",
      " 0.8910649  0.90031228 0.90171633 0.92657774 0.98559636 1.\n",
      " 0.89052683 0.89948559 0.90058017 0.8960849  0.88827449 0.87880433\n",
      " 0.86870193 0.85854346 0.84863228 0.8391251  0.83010465 0.82161617\n",
      " 0.81368357 0.80631435 0.79950142 0.79322648 0.78745949 0.78216237\n",
      " 0.77728963 0.77279246 0.76861978 0.76471996]\n",
      "22 day output [[0.76104355]]\n",
      "23 day input [0.50906582 0.51659445 0.53206323 0.54387664 0.53516183 0.5260597\n",
      " 0.53063497 0.52620494 0.5437556  0.53934978 0.55409233 0.54833087\n",
      " 0.55326926 0.54804038 0.55138105 0.55171996 0.55096952 0.56043477\n",
      " 0.56404173 0.56835072 0.56157254 0.5837953  0.58854003 0.61403084\n",
      " 0.63545474 0.59444673 0.60146699 0.61161006 0.63361495 0.63242877\n",
      " 0.63276768 0.62790191 0.65005205 0.66859522 0.65293277 0.6645041\n",
      " 0.63736716 0.65709652 0.66440727 0.66273693 0.66273693 0.68631533\n",
      " 0.68350723 0.7045196  0.70848968 0.7101116  0.70582682 0.72112615\n",
      " 0.72758963 0.71594568 0.71405747 0.7337142  0.72056937 0.72320802\n",
      " 0.680336   0.67810889 0.69936333 0.68428188 0.70159045 0.71272604\n",
      " 0.81023506 0.83616161 0.84320608 0.84705512 0.8842383  0.8572224\n",
      " 0.87286064 0.84039798 0.87559612 0.89496236 0.89396984 0.8910649\n",
      " 0.90031228 0.90171633 0.92657774 0.98559636 1.         0.89052683\n",
      " 0.89948559 0.90058017 0.8960849  0.88827449 0.87880433 0.86870193\n",
      " 0.85854346 0.84863228 0.8391251  0.83010465 0.82161617 0.81368357\n",
      " 0.80631435 0.79950142 0.79322648 0.78745949 0.78216237 0.77728963\n",
      " 0.77279246 0.76861978 0.76471996 0.76104355]\n",
      "23 day output [[0.75754285]]\n",
      "24 day input [0.51659445 0.53206323 0.54387664 0.53516183 0.5260597  0.53063497\n",
      " 0.52620494 0.5437556  0.53934978 0.55409233 0.54833087 0.55326926\n",
      " 0.54804038 0.55138105 0.55171996 0.55096952 0.56043477 0.56404173\n",
      " 0.56835072 0.56157254 0.5837953  0.58854003 0.61403084 0.63545474\n",
      " 0.59444673 0.60146699 0.61161006 0.63361495 0.63242877 0.63276768\n",
      " 0.62790191 0.65005205 0.66859522 0.65293277 0.6645041  0.63736716\n",
      " 0.65709652 0.66440727 0.66273693 0.66273693 0.68631533 0.68350723\n",
      " 0.7045196  0.70848968 0.7101116  0.70582682 0.72112615 0.72758963\n",
      " 0.71594568 0.71405747 0.7337142  0.72056937 0.72320802 0.680336\n",
      " 0.67810889 0.69936333 0.68428188 0.70159045 0.71272604 0.81023506\n",
      " 0.83616161 0.84320608 0.84705512 0.8842383  0.8572224  0.87286064\n",
      " 0.84039798 0.87559612 0.89496236 0.89396984 0.8910649  0.90031228\n",
      " 0.90171633 0.92657774 0.98559636 1.         0.89052683 0.89948559\n",
      " 0.90058017 0.8960849  0.88827449 0.87880433 0.86870193 0.85854346\n",
      " 0.84863228 0.8391251  0.83010465 0.82161617 0.81368357 0.80631435\n",
      " 0.79950142 0.79322648 0.78745949 0.78216237 0.77728963 0.77279246\n",
      " 0.76861978 0.76471996 0.76104355 0.75754285]\n",
      "24 day output [[0.7541745]]\n",
      "25 day input [0.53206323 0.54387664 0.53516183 0.5260597  0.53063497 0.52620494\n",
      " 0.5437556  0.53934978 0.55409233 0.54833087 0.55326926 0.54804038\n",
      " 0.55138105 0.55171996 0.55096952 0.56043477 0.56404173 0.56835072\n",
      " 0.56157254 0.5837953  0.58854003 0.61403084 0.63545474 0.59444673\n",
      " 0.60146699 0.61161006 0.63361495 0.63242877 0.63276768 0.62790191\n",
      " 0.65005205 0.66859522 0.65293277 0.6645041  0.63736716 0.65709652\n",
      " 0.66440727 0.66273693 0.66273693 0.68631533 0.68350723 0.7045196\n",
      " 0.70848968 0.7101116  0.70582682 0.72112615 0.72758963 0.71594568\n",
      " 0.71405747 0.7337142  0.72056937 0.72320802 0.680336   0.67810889\n",
      " 0.69936333 0.68428188 0.70159045 0.71272604 0.81023506 0.83616161\n",
      " 0.84320608 0.84705512 0.8842383  0.8572224  0.87286064 0.84039798\n",
      " 0.87559612 0.89496236 0.89396984 0.8910649  0.90031228 0.90171633\n",
      " 0.92657774 0.98559636 1.         0.89052683 0.89948559 0.90058017\n",
      " 0.8960849  0.88827449 0.87880433 0.86870193 0.85854346 0.84863228\n",
      " 0.8391251  0.83010465 0.82161617 0.81368357 0.80631435 0.79950142\n",
      " 0.79322648 0.78745949 0.78216237 0.77728963 0.77279246 0.76861978\n",
      " 0.76471996 0.76104355 0.75754285 0.75417447]\n",
      "25 day output [[0.75089926]]\n",
      "26 day input [0.54387664 0.53516183 0.5260597  0.53063497 0.52620494 0.5437556\n",
      " 0.53934978 0.55409233 0.54833087 0.55326926 0.54804038 0.55138105\n",
      " 0.55171996 0.55096952 0.56043477 0.56404173 0.56835072 0.56157254\n",
      " 0.5837953  0.58854003 0.61403084 0.63545474 0.59444673 0.60146699\n",
      " 0.61161006 0.63361495 0.63242877 0.63276768 0.62790191 0.65005205\n",
      " 0.66859522 0.65293277 0.6645041  0.63736716 0.65709652 0.66440727\n",
      " 0.66273693 0.66273693 0.68631533 0.68350723 0.7045196  0.70848968\n",
      " 0.7101116  0.70582682 0.72112615 0.72758963 0.71594568 0.71405747\n",
      " 0.7337142  0.72056937 0.72320802 0.680336   0.67810889 0.69936333\n",
      " 0.68428188 0.70159045 0.71272604 0.81023506 0.83616161 0.84320608\n",
      " 0.84705512 0.8842383  0.8572224  0.87286064 0.84039798 0.87559612\n",
      " 0.89496236 0.89396984 0.8910649  0.90031228 0.90171633 0.92657774\n",
      " 0.98559636 1.         0.89052683 0.89948559 0.90058017 0.8960849\n",
      " 0.88827449 0.87880433 0.86870193 0.85854346 0.84863228 0.8391251\n",
      " 0.83010465 0.82161617 0.81368357 0.80631435 0.79950142 0.79322648\n",
      " 0.78745949 0.78216237 0.77728963 0.77279246 0.76861978 0.76471996\n",
      " 0.76104355 0.75754285 0.75417447 0.75089926]\n",
      "26 day output [[0.74768245]]\n",
      "27 day input [0.53516183 0.5260597  0.53063497 0.52620494 0.5437556  0.53934978\n",
      " 0.55409233 0.54833087 0.55326926 0.54804038 0.55138105 0.55171996\n",
      " 0.55096952 0.56043477 0.56404173 0.56835072 0.56157254 0.5837953\n",
      " 0.58854003 0.61403084 0.63545474 0.59444673 0.60146699 0.61161006\n",
      " 0.63361495 0.63242877 0.63276768 0.62790191 0.65005205 0.66859522\n",
      " 0.65293277 0.6645041  0.63736716 0.65709652 0.66440727 0.66273693\n",
      " 0.66273693 0.68631533 0.68350723 0.7045196  0.70848968 0.7101116\n",
      " 0.70582682 0.72112615 0.72758963 0.71594568 0.71405747 0.7337142\n",
      " 0.72056937 0.72320802 0.680336   0.67810889 0.69936333 0.68428188\n",
      " 0.70159045 0.71272604 0.81023506 0.83616161 0.84320608 0.84705512\n",
      " 0.8842383  0.8572224  0.87286064 0.84039798 0.87559612 0.89496236\n",
      " 0.89396984 0.8910649  0.90031228 0.90171633 0.92657774 0.98559636\n",
      " 1.         0.89052683 0.89948559 0.90058017 0.8960849  0.88827449\n",
      " 0.87880433 0.86870193 0.85854346 0.84863228 0.8391251  0.83010465\n",
      " 0.82161617 0.81368357 0.80631435 0.79950142 0.79322648 0.78745949\n",
      " 0.78216237 0.77728963 0.77279246 0.76861978 0.76471996 0.76104355\n",
      " 0.75754285 0.75417447 0.75089926 0.74768245]\n"
     ]
    },
    {
     "name": "stdout",
     "output_type": "stream",
     "text": [
      "27 day output [[0.7444945]]\n",
      "28 day input [0.5260597  0.53063497 0.52620494 0.5437556  0.53934978 0.55409233\n",
      " 0.54833087 0.55326926 0.54804038 0.55138105 0.55171996 0.55096952\n",
      " 0.56043477 0.56404173 0.56835072 0.56157254 0.5837953  0.58854003\n",
      " 0.61403084 0.63545474 0.59444673 0.60146699 0.61161006 0.63361495\n",
      " 0.63242877 0.63276768 0.62790191 0.65005205 0.66859522 0.65293277\n",
      " 0.6645041  0.63736716 0.65709652 0.66440727 0.66273693 0.66273693\n",
      " 0.68631533 0.68350723 0.7045196  0.70848968 0.7101116  0.70582682\n",
      " 0.72112615 0.72758963 0.71594568 0.71405747 0.7337142  0.72056937\n",
      " 0.72320802 0.680336   0.67810889 0.69936333 0.68428188 0.70159045\n",
      " 0.71272604 0.81023506 0.83616161 0.84320608 0.84705512 0.8842383\n",
      " 0.8572224  0.87286064 0.84039798 0.87559612 0.89496236 0.89396984\n",
      " 0.8910649  0.90031228 0.90171633 0.92657774 0.98559636 1.\n",
      " 0.89052683 0.89948559 0.90058017 0.8960849  0.88827449 0.87880433\n",
      " 0.86870193 0.85854346 0.84863228 0.8391251  0.83010465 0.82161617\n",
      " 0.81368357 0.80631435 0.79950142 0.79322648 0.78745949 0.78216237\n",
      " 0.77728963 0.77279246 0.76861978 0.76471996 0.76104355 0.75754285\n",
      " 0.75417447 0.75089926 0.74768245 0.7444945 ]\n",
      "28 day output [[0.74131143]]\n",
      "29 day input [0.53063497 0.52620494 0.5437556  0.53934978 0.55409233 0.54833087\n",
      " 0.55326926 0.54804038 0.55138105 0.55171996 0.55096952 0.56043477\n",
      " 0.56404173 0.56835072 0.56157254 0.5837953  0.58854003 0.61403084\n",
      " 0.63545474 0.59444673 0.60146699 0.61161006 0.63361495 0.63242877\n",
      " 0.63276768 0.62790191 0.65005205 0.66859522 0.65293277 0.6645041\n",
      " 0.63736716 0.65709652 0.66440727 0.66273693 0.66273693 0.68631533\n",
      " 0.68350723 0.7045196  0.70848968 0.7101116  0.70582682 0.72112615\n",
      " 0.72758963 0.71594568 0.71405747 0.7337142  0.72056937 0.72320802\n",
      " 0.680336   0.67810889 0.69936333 0.68428188 0.70159045 0.71272604\n",
      " 0.81023506 0.83616161 0.84320608 0.84705512 0.8842383  0.8572224\n",
      " 0.87286064 0.84039798 0.87559612 0.89496236 0.89396984 0.8910649\n",
      " 0.90031228 0.90171633 0.92657774 0.98559636 1.         0.89052683\n",
      " 0.89948559 0.90058017 0.8960849  0.88827449 0.87880433 0.86870193\n",
      " 0.85854346 0.84863228 0.8391251  0.83010465 0.82161617 0.81368357\n",
      " 0.80631435 0.79950142 0.79322648 0.78745949 0.78216237 0.77728963\n",
      " 0.77279246 0.76861978 0.76471996 0.76104355 0.75754285 0.75417447\n",
      " 0.75089926 0.74768245 0.7444945  0.74131143]\n",
      "29 day output [[0.7381132]]\n"
     ]
    }
   ],
   "source": [
    "# demonstrate prediction for next 30 days\n",
    "from numpy import array\n",
    "\n",
    "lst_output=[]\n",
    "n_steps=100\n",
    "i=0\n",
    "while(i<30):\n",
    "    \n",
    "    if(len(temp_input)>100):\n",
    "        #print(temp_input)\n",
    "        x_input=np.array(temp_input[1:])\n",
    "        print(\"{} day input {}\".format(i,x_input))\n",
    "        x_input=x_input.reshape(1,-1)\n",
    "        x_input = x_input.reshape((1, n_steps, 1))\n",
    "        #print(x_input)\n",
    "        yhat = model.predict(x_input, verbose=0)\n",
    "        print(\"{} day output {}\".format(i,yhat))\n",
    "        temp_input.extend(yhat[0].tolist())\n",
    "        temp_input=temp_input[1:]\n",
    "        #print(temp_input)\n",
    "        lst_output.extend(yhat.tolist())\n",
    "        i=i+1\n",
    "    else:\n",
    "        x_input = x_input.reshape((1, n_steps,1))\n",
    "        yhat = model.predict(x_input, verbose=0)\n",
    "        print(yhat[0])\n",
    "        temp_input.extend(yhat[0].tolist())\n",
    "        print(len(temp_input))\n",
    "        lst_output.extend(yhat.tolist())\n",
    "        i=i+1"
   ]
  },
  {
   "cell_type": "code",
   "execution_count": 112,
   "metadata": {},
   "outputs": [
    {
     "name": "stdout",
     "output_type": "stream",
     "text": [
      "30\n"
     ]
    }
   ],
   "source": [
    "print(len(lst_output))"
   ]
  },
  {
   "cell_type": "code",
   "execution_count": 113,
   "metadata": {},
   "outputs": [],
   "source": [
    "day_new=np.arange(1,101)\n",
    "day_pred=np.arange(101,131)"
   ]
  },
  {
   "cell_type": "code",
   "execution_count": 114,
   "metadata": {},
   "outputs": [
    {
     "data": {
      "text/plain": [
       "[<matplotlib.lines.Line2D at 0x120410def08>]"
      ]
     },
     "execution_count": 114,
     "metadata": {},
     "output_type": "execute_result"
    },
    {
     "data": {
      "image/png": "[encoded data removed]",
      "text/plain": [
       "<Figure size 432x288 with 1 Axes>"
      ]
     },
     "metadata": {
      "needs_background": "light"
     },
     "output_type": "display_data"
    }
   ],
   "source": [
    "plt.plot(day_new,scaler.inverse_transform(df1[1157:]))\n",
    "plt.plot(day_pred,scaler.inverse_transform(lst_output))"
   ]
  },
  {
   "cell_type": "code",
   "execution_count": 115,
   "metadata": {},
   "outputs": [
    {
     "data": {
      "text/plain": [
       "[<matplotlib.lines.Line2D at 0x12036208748>]"
      ]
     },
     "execution_count": 115,
     "metadata": {},
     "output_type": "execute_result"
    },
    {
     "data": {
      "image/png": "[encoded data removed]",
      "text/plain": [
       "<Figure size 432x288 with 1 Axes>"
      ]
     },
     "metadata": {
      "needs_background": "light"
     },
     "output_type": "display_data"
    }
   ],
   "source": [
    "df3=df1.tolist()\n",
    "df3.extend(lst_output)\n",
    "plt.plot(df3[1200:])"
   ]
  },
  {
   "cell_type": "code",
   "execution_count": null,
   "metadata": {},
   "outputs": [],
   "source": []
  }
 ],
 "metadata": {
  "kernelspec": {
   "display_name": "Python 3",
   "language": "python",
   "name": "python3"
  },
  "language_info": {
   "codemirror_mode": {
    "name": "ipython",
    "version": 3
   },
   "file_extension": ".py",
   "mimetype": "text/x-python",
   "name": "python",
   "nbconvert_exporter": "python",
   "pygments_lexer": "ipython3",
   "version": "3.7.6"
  }
 },
 "nbformat": 4,
 "nbformat_minor": 4
}
