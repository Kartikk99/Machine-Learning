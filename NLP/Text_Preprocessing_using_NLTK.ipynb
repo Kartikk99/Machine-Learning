{
 "cells": [
  {
   "cell_type": "code",
   "execution_count": 1,
   "metadata": {},
   "outputs": [],
   "source": [
    "import nltk"
   ]
  },
  {
   "cell_type": "code",
   "execution_count": 2,
   "metadata": {},
   "outputs": [
    {
     "name": "stdout",
     "output_type": "stream",
     "text": [
      "showing info https://raw.githubusercontent.com/nltk/nltk_data/gh-pages/index.xml\n"
     ]
    },
    {
     "data": {
      "text/plain": [
       "True"
      ]
     },
     "execution_count": 2,
     "metadata": {},
     "output_type": "execute_result"
    }
   ],
   "source": [
    "nltk.download()"
   ]
  },
  {
   "cell_type": "code",
   "execution_count": 3,
   "metadata": {},
   "outputs": [],
   "source": [
    "paragraph = \"\"\"I have three visions for India. In 3000 years of our history, people from all over \n",
    "               the world have come and invaded us, captured our lands, conquered our minds. \n",
    "               From Alexander onwards, the Greeks, the Turks, the Moguls, the Portuguese, the British,\n",
    "               the French, the Dutch, all of them came and looted us, took over what was ours. \n",
    "               Yet we have not done this to any other nation. We have not conquered anyone. \n",
    "               We have not grabbed their land, their culture, \n",
    "               their history and tried to enforce our way of life on them. \n",
    "               Why? Because we respect the freedom of others.That is why my \n",
    "               first vision is that of freedom. I believe that India got its first vision of \n",
    "               this in 1857, when we started the War of Independence. It is this freedom that\n",
    "               we must protect and nurture and build on. If we are not free, no one will respect us.\n",
    "               My second vision for India’s development. For fifty years we have been a developing nation.\n",
    "               It is time we see ourselves as a developed nation. We are among the top 5 nations of the world\n",
    "               in terms of GDP. We have a 10 percent growth rate in most areas. Our poverty levels are falling.\n",
    "               Our achievements are being globally recognised today. Yet we lack the self-confidence to\n",
    "               see ourselves as a developed nation, self-reliant and self-assured. Isn’t this incorrect?\n",
    "               I have a third vision. India must stand up to the world. Because I believe that unless India \n",
    "               stands up to the world, no one will respect us. Only strength respects strength. We must be \n",
    "               strong not only as a military power but also as an economic power. Both must go hand-in-hand. \n",
    "               My good fortune was to have worked with three great minds. Dr. Vikram Sarabhai of the Dept. of \n",
    "               space, Professor Satish Dhawan, who succeeded him and Dr. Brahm Prakash, father of nuclear material.\n",
    "               I was lucky to have worked with all three of them closely and consider this the great opportunity of my life. \n",
    "               I see four milestones in my career\"\"\""
   ]
  },
  {
   "cell_type": "code",
   "execution_count": 4,
   "metadata": {},
   "outputs": [
    {
     "data": {
      "text/plain": [
       "['I have three visions for India.',\n",
       " 'In 3000 years of our history, people from all over \\n               the world have come and invaded us, captured our lands, conquered our minds.',\n",
       " 'From Alexander onwards, the Greeks, the Turks, the Moguls, the Portuguese, the British,\\n               the French, the Dutch, all of them came and looted us, took over what was ours.',\n",
       " 'Yet we have not done this to any other nation.',\n",
       " 'We have not conquered anyone.',\n",
       " 'We have not grabbed their land, their culture, \\n               their history and tried to enforce our way of life on them.',\n",
       " 'Why?',\n",
       " 'Because we respect the freedom of others.That is why my \\n               first vision is that of freedom.',\n",
       " 'I believe that India got its first vision of \\n               this in 1857, when we started the War of Independence.',\n",
       " 'It is this freedom that\\n               we must protect and nurture and build on.',\n",
       " 'If we are not free, no one will respect us.',\n",
       " 'My second vision for India’s development.',\n",
       " 'For fifty years we have been a developing nation.',\n",
       " 'It is time we see ourselves as a developed nation.',\n",
       " 'We are among the top 5 nations of the world\\n               in terms of GDP.',\n",
       " 'We have a 10 percent growth rate in most areas.',\n",
       " 'Our poverty levels are falling.',\n",
       " 'Our achievements are being globally recognised today.',\n",
       " 'Yet we lack the self-confidence to\\n               see ourselves as a developed nation, self-reliant and self-assured.',\n",
       " 'Isn’t this incorrect?',\n",
       " 'I have a third vision.',\n",
       " 'India must stand up to the world.',\n",
       " 'Because I believe that unless India \\n               stands up to the world, no one will respect us.',\n",
       " 'Only strength respects strength.',\n",
       " 'We must be \\n               strong not only as a military power but also as an economic power.',\n",
       " 'Both must go hand-in-hand.',\n",
       " 'My good fortune was to have worked with three great minds.',\n",
       " 'Dr. Vikram Sarabhai of the Dept.',\n",
       " 'of \\n               space, Professor Satish Dhawan, who succeeded him and Dr. Brahm Prakash, father of nuclear material.',\n",
       " 'I was lucky to have worked with all three of them closely and consider this the great opportunity of my life.',\n",
       " 'I see four milestones in my career']"
      ]
     },
     "execution_count": 4,
     "metadata": {},
     "output_type": "execute_result"
    }
   ],
   "source": [
    "sentences= nltk.sent_tokenize(paragraph)\n",
    "sentences"
   ]
  },
  {
   "cell_type": "code",
   "execution_count": 8,
   "metadata": {},
   "outputs": [
    {
     "data": {
      "text/plain": [
       "399"
      ]
     },
     "execution_count": 8,
     "metadata": {},
     "output_type": "execute_result"
    }
   ],
   "source": [
    "words= nltk.word_tokenize(paragraph)\n",
    "len(words)"
   ]
  },
  {
   "cell_type": "markdown",
   "metadata": {},
   "source": [
    "# Stemming"
   ]
  },
  {
   "cell_type": "code",
   "execution_count": 9,
   "metadata": {},
   "outputs": [],
   "source": [
    "from nltk.stem import PorterStemmer\n",
    "from nltk.corpus import stopwords"
   ]
  },
  {
   "cell_type": "code",
   "execution_count": 10,
   "metadata": {},
   "outputs": [],
   "source": [
    "stemmer= PorterStemmer()"
   ]
  },
  {
   "cell_type": "code",
   "execution_count": 24,
   "metadata": {},
   "outputs": [],
   "source": [
    "# Stemming\n",
    "for i in range(len(sentences)):\n",
    "    words = nltk.word_tokenize(sentences[i])\n",
    "    words = [stemmer.stem(word) for word in words if word not in set(stopwords.words('english'))]\n",
    "    sentences[i] = ' '.join(words)   "
   ]
  },
  {
   "cell_type": "code",
   "execution_count": 19,
   "metadata": {},
   "outputs": [
    {
     "data": {
      "text/plain": [
       "['I three vision india . In 3000 year histori , peopl world come invad us , captur land , conquer mind . alexand onward , greek , turk , mogul , portugu , british , french , dutch , came loot us , took . yet done nation . We conquer anyon . We grab land , cultur , histori tri enforc way life . whi ? becau respect freedom others.that first vision freedom . I believ india got first vision 1857 , start war independ . It freedom must protect nurtur build . If free , one respect us . My second vision india ’ develop . fifti year develop nation . It time see develop nation . We among top 5 nation world term gdp . We 10 percent growth rate area . poverti level fall . achiev global recogni today . yet lack self-confid see develop nation , self-r self-assur . ’ incorrect ? I third vision . india must stand world . becau I believ unless india stand world , one respect us . onli strength respect strength . We must strong militari power also econom power . must go hand-in-hand . My good fortun work three great mind . dr. vikram sarabhai dept . space , professor satish dhawan , succeed dr. brahm prakash , father nuclear materi . I lucki work three close consid great opportun life . I see four mileston career',\n",
       " 'I three vision india . In 3000 year histori , peopl world come invad us , captur land , conquer mind . alexand onward , greek , turk , mogul , portugu , british , french , dutch , came loot us , took . yet done nation . We conquer anyon . We grab land , cultur , histori tri enforc way life . whi ? becau respect freedom others.that first vision freedom . I believ india got first vision 1857 , start war independ . It freedom must protect nurtur build . If free , one respect us . My second vision india ’ develop . fifti year develop nation . It time see develop nation . We among top 5 nation world term gdp . We 10 percent growth rate area . poverti level fall . achiev global recogni today . yet lack self-confid see develop nation , self-r self-assur . ’ incorrect ? I third vision . india must stand world . becau I believ unless india stand world , one respect us . onli strength respect strength . We must strong militari power also econom power . must go hand-in-hand . My good fortun work three great mind . dr. vikram sarabhai dept . space , professor satish dhawan , succeed dr. brahm prakash , father nuclear materi . I lucki work three close consid great opportun life . I see four mileston career',\n",
       " 'I three vision india . In 3000 year histori , peopl world come invad us , captur land , conquer mind . alexand onward , greek , turk , mogul , portugu , british , french , dutch , came loot us , took . yet done nation . We conquer anyon . We grab land , cultur , histori tri enforc way life . whi ? becau respect freedom others.that first vision freedom . I believ india got first vision 1857 , start war independ . It freedom must protect nurtur build . If free , one respect us . My second vision india ’ develop . fifti year develop nation . It time see develop nation . We among top 5 nation world term gdp . We 10 percent growth rate area . poverti level fall . achiev global recogni today . yet lack self-confid see develop nation , self-r self-assur . ’ incorrect ? I third vision . india must stand world . becau I believ unless india stand world , one respect us . onli strength respect strength . We must strong militari power also econom power . must go hand-in-hand . My good fortun work three great mind . dr. vikram sarabhai dept . space , professor satish dhawan , succeed dr. brahm prakash , father nuclear materi . I lucki work three close consid great opportun life . I see four mileston career',\n",
       " 'I three vision india . In 3000 year histori , peopl world come invad us , captur land , conquer mind . alexand onward , greek , turk , mogul , portugu , british , french , dutch , came loot us , took . yet done nation . We conquer anyon . We grab land , cultur , histori tri enforc way life . whi ? becau respect freedom others.that first vision freedom . I believ india got first vision 1857 , start war independ . It freedom must protect nurtur build . If free , one respect us . My second vision india ’ develop . fifti year develop nation . It time see develop nation . We among top 5 nation world term gdp . We 10 percent growth rate area . poverti level fall . achiev global recogni today . yet lack self-confid see develop nation , self-r self-assur . ’ incorrect ? I third vision . india must stand world . becau I believ unless india stand world , one respect us . onli strength respect strength . We must strong militari power also econom power . must go hand-in-hand . My good fortun work three great mind . dr. vikram sarabhai dept . space , professor satish dhawan , succeed dr. brahm prakash , father nuclear materi . I lucki work three close consid great opportun life . I see four mileston career',\n",
       " 'I three vision india . In 3000 year histori , peopl world come invad us , captur land , conquer mind . alexand onward , greek , turk , mogul , portugu , british , french , dutch , came loot us , took . yet done nation . We conquer anyon . We grab land , cultur , histori tri enforc way life . whi ? becau respect freedom others.that first vision freedom . I believ india got first vision 1857 , start war independ . It freedom must protect nurtur build . If free , one respect us . My second vision india ’ develop . fifti year develop nation . It time see develop nation . We among top 5 nation world term gdp . We 10 percent growth rate area . poverti level fall . achiev global recogni today . yet lack self-confid see develop nation , self-r self-assur . ’ incorrect ? I third vision . india must stand world . becau I believ unless india stand world , one respect us . onli strength respect strength . We must strong militari power also econom power . must go hand-in-hand . My good fortun work three great mind . dr. vikram sarabhai dept . space , professor satish dhawan , succeed dr. brahm prakash , father nuclear materi . I lucki work three close consid great opportun life . I see four mileston career',\n",
       " 'I three vision india . In 3000 year histori , peopl world come invad us , captur land , conquer mind . alexand onward , greek , turk , mogul , portugu , british , french , dutch , came loot us , took . yet done nation . We conquer anyon . We grab land , cultur , histori tri enforc way life . whi ? becau respect freedom others.that first vision freedom . I believ india got first vision 1857 , start war independ . It freedom must protect nurtur build . If free , one respect us . My second vision india ’ develop . fifti year develop nation . It time see develop nation . We among top 5 nation world term gdp . We 10 percent growth rate area . poverti level fall . achiev global recogni today . yet lack self-confid see develop nation , self-r self-assur . ’ incorrect ? I third vision . india must stand world . becau I believ unless india stand world , one respect us . onli strength respect strength . We must strong militari power also econom power . must go hand-in-hand . My good fortun work three great mind . dr. vikram sarabhai dept . space , professor satish dhawan , succeed dr. brahm prakash , father nuclear materi . I lucki work three close consid great opportun life . I see four mileston career',\n",
       " 'I three vision india . In 3000 year histori , peopl world come invad us , captur land , conquer mind . alexand onward , greek , turk , mogul , portugu , british , french , dutch , came loot us , took . yet done nation . We conquer anyon . We grab land , cultur , histori tri enforc way life . whi ? becau respect freedom others.that first vision freedom . I believ india got first vision 1857 , start war independ . It freedom must protect nurtur build . If free , one respect us . My second vision india ’ develop . fifti year develop nation . It time see develop nation . We among top 5 nation world term gdp . We 10 percent growth rate area . poverti level fall . achiev global recogni today . yet lack self-confid see develop nation , self-r self-assur . ’ incorrect ? I third vision . india must stand world . becau I believ unless india stand world , one respect us . onli strength respect strength . We must strong militari power also econom power . must go hand-in-hand . My good fortun work three great mind . dr. vikram sarabhai dept . space , professor satish dhawan , succeed dr. brahm prakash , father nuclear materi . I lucki work three close consid great opportun life . I see four mileston career',\n",
       " 'I three vision india . In 3000 year histori , peopl world come invad us , captur land , conquer mind . alexand onward , greek , turk , mogul , portugu , british , french , dutch , came loot us , took . yet done nation . We conquer anyon . We grab land , cultur , histori tri enforc way life . whi ? becau respect freedom others.that first vision freedom . I believ india got first vision 1857 , start war independ . It freedom must protect nurtur build . If free , one respect us . My second vision india ’ develop . fifti year develop nation . It time see develop nation . We among top 5 nation world term gdp . We 10 percent growth rate area . poverti level fall . achiev global recogni today . yet lack self-confid see develop nation , self-r self-assur . ’ incorrect ? I third vision . india must stand world . becau I believ unless india stand world , one respect us . onli strength respect strength . We must strong militari power also econom power . must go hand-in-hand . My good fortun work three great mind . dr. vikram sarabhai dept . space , professor satish dhawan , succeed dr. brahm prakash , father nuclear materi . I lucki work three close consid great opportun life . I see four mileston career',\n",
       " 'I three vision india . In 3000 year histori , peopl world come invad us , captur land , conquer mind . alexand onward , greek , turk , mogul , portugu , british , french , dutch , came loot us , took . yet done nation . We conquer anyon . We grab land , cultur , histori tri enforc way life . whi ? becau respect freedom others.that first vision freedom . I believ india got first vision 1857 , start war independ . It freedom must protect nurtur build . If free , one respect us . My second vision india ’ develop . fifti year develop nation . It time see develop nation . We among top 5 nation world term gdp . We 10 percent growth rate area . poverti level fall . achiev global recogni today . yet lack self-confid see develop nation , self-r self-assur . ’ incorrect ? I third vision . india must stand world . becau I believ unless india stand world , one respect us . onli strength respect strength . We must strong militari power also econom power . must go hand-in-hand . My good fortun work three great mind . dr. vikram sarabhai dept . space , professor satish dhawan , succeed dr. brahm prakash , father nuclear materi . I lucki work three close consid great opportun life . I see four mileston career',\n",
       " 'I three vision india . In 3000 year histori , peopl world come invad us , captur land , conquer mind . alexand onward , greek , turk , mogul , portugu , british , french , dutch , came loot us , took . yet done nation . We conquer anyon . We grab land , cultur , histori tri enforc way life . whi ? becau respect freedom others.that first vision freedom . I believ india got first vision 1857 , start war independ . It freedom must protect nurtur build . If free , one respect us . My second vision india ’ develop . fifti year develop nation . It time see develop nation . We among top 5 nation world term gdp . We 10 percent growth rate area . poverti level fall . achiev global recogni today . yet lack self-confid see develop nation , self-r self-assur . ’ incorrect ? I third vision . india must stand world . becau I believ unless india stand world , one respect us . onli strength respect strength . We must strong militari power also econom power . must go hand-in-hand . My good fortun work three great mind . dr. vikram sarabhai dept . space , professor satish dhawan , succeed dr. brahm prakash , father nuclear materi . I lucki work three close consid great opportun life . I see four mileston career',\n",
       " 'I three vision india . In 3000 year histori , peopl world come invad us , captur land , conquer mind . alexand onward , greek , turk , mogul , portugu , british , french , dutch , came loot us , took . yet done nation . We conquer anyon . We grab land , cultur , histori tri enforc way life . whi ? becau respect freedom others.that first vision freedom . I believ india got first vision 1857 , start war independ . It freedom must protect nurtur build . If free , one respect us . My second vision india ’ develop . fifti year develop nation . It time see develop nation . We among top 5 nation world term gdp . We 10 percent growth rate area . poverti level fall . achiev global recogni today . yet lack self-confid see develop nation , self-r self-assur . ’ incorrect ? I third vision . india must stand world . becau I believ unless india stand world , one respect us . onli strength respect strength . We must strong militari power also econom power . must go hand-in-hand . My good fortun work three great mind . dr. vikram sarabhai dept . space , professor satish dhawan , succeed dr. brahm prakash , father nuclear materi . I lucki work three close consid great opportun life . I see four mileston career',\n",
       " 'I three vision india . In 3000 year histori , peopl world come invad us , captur land , conquer mind . alexand onward , greek , turk , mogul , portugu , british , french , dutch , came loot us , took . yet done nation . We conquer anyon . We grab land , cultur , histori tri enforc way life . whi ? becau respect freedom others.that first vision freedom . I believ india got first vision 1857 , start war independ . It freedom must protect nurtur build . If free , one respect us . My second vision india ’ develop . fifti year develop nation . It time see develop nation . We among top 5 nation world term gdp . We 10 percent growth rate area . poverti level fall . achiev global recogni today . yet lack self-confid see develop nation , self-r self-assur . ’ incorrect ? I third vision . india must stand world . becau I believ unless india stand world , one respect us . onli strength respect strength . We must strong militari power also econom power . must go hand-in-hand . My good fortun work three great mind . dr. vikram sarabhai dept . space , professor satish dhawan , succeed dr. brahm prakash , father nuclear materi . I lucki work three close consid great opportun life . I see four mileston career',\n",
       " 'I three vision india . In 3000 year histori , peopl world come invad us , captur land , conquer mind . alexand onward , greek , turk , mogul , portugu , british , french , dutch , came loot us , took . yet done nation . We conquer anyon . We grab land , cultur , histori tri enforc way life . whi ? becau respect freedom others.that first vision freedom . I believ india got first vision 1857 , start war independ . It freedom must protect nurtur build . If free , one respect us . My second vision india ’ develop . fifti year develop nation . It time see develop nation . We among top 5 nation world term gdp . We 10 percent growth rate area . poverti level fall . achiev global recogni today . yet lack self-confid see develop nation , self-r self-assur . ’ incorrect ? I third vision . india must stand world . becau I believ unless india stand world , one respect us . onli strength respect strength . We must strong militari power also econom power . must go hand-in-hand . My good fortun work three great mind . dr. vikram sarabhai dept . space , professor satish dhawan , succeed dr. brahm prakash , father nuclear materi . I lucki work three close consid great opportun life . I see four mileston career',\n",
       " 'I three vision india . In 3000 year histori , peopl world come invad us , captur land , conquer mind . alexand onward , greek , turk , mogul , portugu , british , french , dutch , came loot us , took . yet done nation . We conquer anyon . We grab land , cultur , histori tri enforc way life . whi ? becau respect freedom others.that first vision freedom . I believ india got first vision 1857 , start war independ . It freedom must protect nurtur build . If free , one respect us . My second vision india ’ develop . fifti year develop nation . It time see develop nation . We among top 5 nation world term gdp . We 10 percent growth rate area . poverti level fall . achiev global recogni today . yet lack self-confid see develop nation , self-r self-assur . ’ incorrect ? I third vision . india must stand world . becau I believ unless india stand world , one respect us . onli strength respect strength . We must strong militari power also econom power . must go hand-in-hand . My good fortun work three great mind . dr. vikram sarabhai dept . space , professor satish dhawan , succeed dr. brahm prakash , father nuclear materi . I lucki work three close consid great opportun life . I see four mileston career',\n",
       " 'I three vision india . In 3000 year histori , peopl world come invad us , captur land , conquer mind . alexand onward , greek , turk , mogul , portugu , british , french , dutch , came loot us , took . yet done nation . We conquer anyon . We grab land , cultur , histori tri enforc way life . whi ? becau respect freedom others.that first vision freedom . I believ india got first vision 1857 , start war independ . It freedom must protect nurtur build . If free , one respect us . My second vision india ’ develop . fifti year develop nation . It time see develop nation . We among top 5 nation world term gdp . We 10 percent growth rate area . poverti level fall . achiev global recogni today . yet lack self-confid see develop nation , self-r self-assur . ’ incorrect ? I third vision . india must stand world . becau I believ unless india stand world , one respect us . onli strength respect strength . We must strong militari power also econom power . must go hand-in-hand . My good fortun work three great mind . dr. vikram sarabhai dept . space , professor satish dhawan , succeed dr. brahm prakash , father nuclear materi . I lucki work three close consid great opportun life . I see four mileston career',\n",
       " 'I three vision india . In 3000 year histori , peopl world come invad us , captur land , conquer mind . alexand onward , greek , turk , mogul , portugu , british , french , dutch , came loot us , took . yet done nation . We conquer anyon . We grab land , cultur , histori tri enforc way life . whi ? becau respect freedom others.that first vision freedom . I believ india got first vision 1857 , start war independ . It freedom must protect nurtur build . If free , one respect us . My second vision india ’ develop . fifti year develop nation . It time see develop nation . We among top 5 nation world term gdp . We 10 percent growth rate area . poverti level fall . achiev global recogni today . yet lack self-confid see develop nation , self-r self-assur . ’ incorrect ? I third vision . india must stand world . becau I believ unless india stand world , one respect us . onli strength respect strength . We must strong militari power also econom power . must go hand-in-hand . My good fortun work three great mind . dr. vikram sarabhai dept . space , professor satish dhawan , succeed dr. brahm prakash , father nuclear materi . I lucki work three close consid great opportun life . I see four mileston career',\n",
       " 'I three vision india . In 3000 year histori , peopl world come invad us , captur land , conquer mind . alexand onward , greek , turk , mogul , portugu , british , french , dutch , came loot us , took . yet done nation . We conquer anyon . We grab land , cultur , histori tri enforc way life . whi ? becau respect freedom others.that first vision freedom . I believ india got first vision 1857 , start war independ . It freedom must protect nurtur build . If free , one respect us . My second vision india ’ develop . fifti year develop nation . It time see develop nation . We among top 5 nation world term gdp . We 10 percent growth rate area . poverti level fall . achiev global recogni today . yet lack self-confid see develop nation , self-r self-assur . ’ incorrect ? I third vision . india must stand world . becau I believ unless india stand world , one respect us . onli strength respect strength . We must strong militari power also econom power . must go hand-in-hand . My good fortun work three great mind . dr. vikram sarabhai dept . space , professor satish dhawan , succeed dr. brahm prakash , father nuclear materi . I lucki work three close consid great opportun life . I see four mileston career',\n",
       " 'I three vision india . In 3000 year histori , peopl world come invad us , captur land , conquer mind . alexand onward , greek , turk , mogul , portugu , british , french , dutch , came loot us , took . yet done nation . We conquer anyon . We grab land , cultur , histori tri enforc way life . whi ? becau respect freedom others.that first vision freedom . I believ india got first vision 1857 , start war independ . It freedom must protect nurtur build . If free , one respect us . My second vision india ’ develop . fifti year develop nation . It time see develop nation . We among top 5 nation world term gdp . We 10 percent growth rate area . poverti level fall . achiev global recogni today . yet lack self-confid see develop nation , self-r self-assur . ’ incorrect ? I third vision . india must stand world . becau I believ unless india stand world , one respect us . onli strength respect strength . We must strong militari power also econom power . must go hand-in-hand . My good fortun work three great mind . dr. vikram sarabhai dept . space , professor satish dhawan , succeed dr. brahm prakash , father nuclear materi . I lucki work three close consid great opportun life . I see four mileston career',\n",
       " 'I three vision india . In 3000 year histori , peopl world come invad us , captur land , conquer mind . alexand onward , greek , turk , mogul , portugu , british , french , dutch , came loot us , took . yet done nation . We conquer anyon . We grab land , cultur , histori tri enforc way life . whi ? becau respect freedom others.that first vision freedom . I believ india got first vision 1857 , start war independ . It freedom must protect nurtur build . If free , one respect us . My second vision india ’ develop . fifti year develop nation . It time see develop nation . We among top 5 nation world term gdp . We 10 percent growth rate area . poverti level fall . achiev global recogni today . yet lack self-confid see develop nation , self-r self-assur . ’ incorrect ? I third vision . india must stand world . becau I believ unless india stand world , one respect us . onli strength respect strength . We must strong militari power also econom power . must go hand-in-hand . My good fortun work three great mind . dr. vikram sarabhai dept . space , professor satish dhawan , succeed dr. brahm prakash , father nuclear materi . I lucki work three close consid great opportun life . I see four mileston career',\n",
       " 'I three vision india . In 3000 year histori , peopl world come invad us , captur land , conquer mind . alexand onward , greek , turk , mogul , portugu , british , french , dutch , came loot us , took . yet done nation . We conquer anyon . We grab land , cultur , histori tri enforc way life . whi ? becau respect freedom others.that first vision freedom . I believ india got first vision 1857 , start war independ . It freedom must protect nurtur build . If free , one respect us . My second vision india ’ develop . fifti year develop nation . It time see develop nation . We among top 5 nation world term gdp . We 10 percent growth rate area . poverti level fall . achiev global recogni today . yet lack self-confid see develop nation , self-r self-assur . ’ incorrect ? I third vision . india must stand world . becau I believ unless india stand world , one respect us . onli strength respect strength . We must strong militari power also econom power . must go hand-in-hand . My good fortun work three great mind . dr. vikram sarabhai dept . space , professor satish dhawan , succeed dr. brahm prakash , father nuclear materi . I lucki work three close consid great opportun life . I see four mileston career',\n",
       " 'I three vision india . In 3000 year histori , peopl world come invad us , captur land , conquer mind . alexand onward , greek , turk , mogul , portugu , british , french , dutch , came loot us , took . yet done nation . We conquer anyon . We grab land , cultur , histori tri enforc way life . whi ? becau respect freedom others.that first vision freedom . I believ india got first vision 1857 , start war independ . It freedom must protect nurtur build . If free , one respect us . My second vision india ’ develop . fifti year develop nation . It time see develop nation . We among top 5 nation world term gdp . We 10 percent growth rate area . poverti level fall . achiev global recogni today . yet lack self-confid see develop nation , self-r self-assur . ’ incorrect ? I third vision . india must stand world . becau I believ unless india stand world , one respect us . onli strength respect strength . We must strong militari power also econom power . must go hand-in-hand . My good fortun work three great mind . dr. vikram sarabhai dept . space , professor satish dhawan , succeed dr. brahm prakash , father nuclear materi . I lucki work three close consid great opportun life . I see four mileston career',\n",
       " 'I three vision india . In 3000 year histori , peopl world come invad us , captur land , conquer mind . alexand onward , greek , turk , mogul , portugu , british , french , dutch , came loot us , took . yet done nation . We conquer anyon . We grab land , cultur , histori tri enforc way life . whi ? becau respect freedom others.that first vision freedom . I believ india got first vision 1857 , start war independ . It freedom must protect nurtur build . If free , one respect us . My second vision india ’ develop . fifti year develop nation . It time see develop nation . We among top 5 nation world term gdp . We 10 percent growth rate area . poverti level fall . achiev global recogni today . yet lack self-confid see develop nation , self-r self-assur . ’ incorrect ? I third vision . india must stand world . becau I believ unless india stand world , one respect us . onli strength respect strength . We must strong militari power also econom power . must go hand-in-hand . My good fortun work three great mind . dr. vikram sarabhai dept . space , professor satish dhawan , succeed dr. brahm prakash , father nuclear materi . I lucki work three close consid great opportun life . I see four mileston career',\n",
       " 'I three vision india . In 3000 year histori , peopl world come invad us , captur land , conquer mind . alexand onward , greek , turk , mogul , portugu , british , french , dutch , came loot us , took . yet done nation . We conquer anyon . We grab land , cultur , histori tri enforc way life . whi ? becau respect freedom others.that first vision freedom . I believ india got first vision 1857 , start war independ . It freedom must protect nurtur build . If free , one respect us . My second vision india ’ develop . fifti year develop nation . It time see develop nation . We among top 5 nation world term gdp . We 10 percent growth rate area . poverti level fall . achiev global recogni today . yet lack self-confid see develop nation , self-r self-assur . ’ incorrect ? I third vision . india must stand world . becau I believ unless india stand world , one respect us . onli strength respect strength . We must strong militari power also econom power . must go hand-in-hand . My good fortun work three great mind . dr. vikram sarabhai dept . space , professor satish dhawan , succeed dr. brahm prakash , father nuclear materi . I lucki work three close consid great opportun life . I see four mileston career',\n",
       " 'I three vision india . In 3000 year histori , peopl world come invad us , captur land , conquer mind . alexand onward , greek , turk , mogul , portugu , british , french , dutch , came loot us , took . yet done nation . We conquer anyon . We grab land , cultur , histori tri enforc way life . whi ? becau respect freedom others.that first vision freedom . I believ india got first vision 1857 , start war independ . It freedom must protect nurtur build . If free , one respect us . My second vision india ’ develop . fifti year develop nation . It time see develop nation . We among top 5 nation world term gdp . We 10 percent growth rate area . poverti level fall . achiev global recogni today . yet lack self-confid see develop nation , self-r self-assur . ’ incorrect ? I third vision . india must stand world . becau I believ unless india stand world , one respect us . onli strength respect strength . We must strong militari power also econom power . must go hand-in-hand . My good fortun work three great mind . dr. vikram sarabhai dept . space , professor satish dhawan , succeed dr. brahm prakash , father nuclear materi . I lucki work three close consid great opportun life . I see four mileston career',\n",
       " 'I three vision india . In 3000 year histori , peopl world come invad us , captur land , conquer mind . alexand onward , greek , turk , mogul , portugu , british , french , dutch , came loot us , took . yet done nation . We conquer anyon . We grab land , cultur , histori tri enforc way life . whi ? becau respect freedom others.that first vision freedom . I believ india got first vision 1857 , start war independ . It freedom must protect nurtur build . If free , one respect us . My second vision india ’ develop . fifti year develop nation . It time see develop nation . We among top 5 nation world term gdp . We 10 percent growth rate area . poverti level fall . achiev global recogni today . yet lack self-confid see develop nation , self-r self-assur . ’ incorrect ? I third vision . india must stand world . becau I believ unless india stand world , one respect us . onli strength respect strength . We must strong militari power also econom power . must go hand-in-hand . My good fortun work three great mind . dr. vikram sarabhai dept . space , professor satish dhawan , succeed dr. brahm prakash , father nuclear materi . I lucki work three close consid great opportun life . I see four mileston career',\n",
       " 'I three vision india . In 3000 year histori , peopl world come invad us , captur land , conquer mind . alexand onward , greek , turk , mogul , portugu , british , french , dutch , came loot us , took . yet done nation . We conquer anyon . We grab land , cultur , histori tri enforc way life . whi ? becau respect freedom others.that first vision freedom . I believ india got first vision 1857 , start war independ . It freedom must protect nurtur build . If free , one respect us . My second vision india ’ develop . fifti year develop nation . It time see develop nation . We among top 5 nation world term gdp . We 10 percent growth rate area . poverti level fall . achiev global recogni today . yet lack self-confid see develop nation , self-r self-assur . ’ incorrect ? I third vision . india must stand world . becau I believ unless india stand world , one respect us . onli strength respect strength . We must strong militari power also econom power . must go hand-in-hand . My good fortun work three great mind . dr. vikram sarabhai dept . space , professor satish dhawan , succeed dr. brahm prakash , father nuclear materi . I lucki work three close consid great opportun life . I see four mileston career',\n",
       " 'I three vision india . In 3000 year histori , peopl world come invad us , captur land , conquer mind . alexand onward , greek , turk , mogul , portugu , british , french , dutch , came loot us , took . yet done nation . We conquer anyon . We grab land , cultur , histori tri enforc way life . whi ? becau respect freedom others.that first vision freedom . I believ india got first vision 1857 , start war independ . It freedom must protect nurtur build . If free , one respect us . My second vision india ’ develop . fifti year develop nation . It time see develop nation . We among top 5 nation world term gdp . We 10 percent growth rate area . poverti level fall . achiev global recogni today . yet lack self-confid see develop nation , self-r self-assur . ’ incorrect ? I third vision . india must stand world . becau I believ unless india stand world , one respect us . onli strength respect strength . We must strong militari power also econom power . must go hand-in-hand . My good fortun work three great mind . dr. vikram sarabhai dept . space , professor satish dhawan , succeed dr. brahm prakash , father nuclear materi . I lucki work three close consid great opportun life . I see four mileston career',\n",
       " 'I three vision india . In 3000 year histori , peopl world come invad us , captur land , conquer mind . alexand onward , greek , turk , mogul , portugu , british , french , dutch , came loot us , took . yet done nation . We conquer anyon . We grab land , cultur , histori tri enforc way life . whi ? becau respect freedom others.that first vision freedom . I believ india got first vision 1857 , start war independ . It freedom must protect nurtur build . If free , one respect us . My second vision india ’ develop . fifti year develop nation . It time see develop nation . We among top 5 nation world term gdp . We 10 percent growth rate area . poverti level fall . achiev global recogni today . yet lack self-confid see develop nation , self-r self-assur . ’ incorrect ? I third vision . india must stand world . becau I believ unless india stand world , one respect us . onli strength respect strength . We must strong militari power also econom power . must go hand-in-hand . My good fortun work three great mind . dr. vikram sarabhai dept . space , professor satish dhawan , succeed dr. brahm prakash , father nuclear materi . I lucki work three close consid great opportun life . I see four mileston career',\n",
       " 'I three vision india . In 3000 year histori , peopl world come invad us , captur land , conquer mind . alexand onward , greek , turk , mogul , portugu , british , french , dutch , came loot us , took . yet done nation . We conquer anyon . We grab land , cultur , histori tri enforc way life . whi ? becau respect freedom others.that first vision freedom . I believ india got first vision 1857 , start war independ . It freedom must protect nurtur build . If free , one respect us . My second vision india ’ develop . fifti year develop nation . It time see develop nation . We among top 5 nation world term gdp . We 10 percent growth rate area . poverti level fall . achiev global recogni today . yet lack self-confid see develop nation , self-r self-assur . ’ incorrect ? I third vision . india must stand world . becau I believ unless india stand world , one respect us . onli strength respect strength . We must strong militari power also econom power . must go hand-in-hand . My good fortun work three great mind . dr. vikram sarabhai dept . space , professor satish dhawan , succeed dr. brahm prakash , father nuclear materi . I lucki work three close consid great opportun life . I see four mileston career',\n",
       " 'I three vision india . In 3000 year histori , peopl world come invad us , captur land , conquer mind . alexand onward , greek , turk , mogul , portugu , british , french , dutch , came loot us , took . yet done nation . We conquer anyon . We grab land , cultur , histori tri enforc way life . whi ? becau respect freedom others.that first vision freedom . I believ india got first vision 1857 , start war independ . It freedom must protect nurtur build . If free , one respect us . My second vision india ’ develop . fifti year develop nation . It time see develop nation . We among top 5 nation world term gdp . We 10 percent growth rate area . poverti level fall . achiev global recogni today . yet lack self-confid see develop nation , self-r self-assur . ’ incorrect ? I third vision . india must stand world . becau I believ unless india stand world , one respect us . onli strength respect strength . We must strong militari power also econom power . must go hand-in-hand . My good fortun work three great mind . dr. vikram sarabhai dept . space , professor satish dhawan , succeed dr. brahm prakash , father nuclear materi . I lucki work three close consid great opportun life . I see four mileston career',\n",
       " 'I three vision india . In 3000 year histori , peopl world come invad us , captur land , conquer mind . alexand onward , greek , turk , mogul , portugu , british , french , dutch , came loot us , took . yet done nation . We conquer anyon . We grab land , cultur , histori tri enforc way life . whi ? becau respect freedom others.that first vision freedom . I believ india got first vision 1857 , start war independ . It freedom must protect nurtur build . If free , one respect us . My second vision india ’ develop . fifti year develop nation . It time see develop nation . We among top 5 nation world term gdp . We 10 percent growth rate area . poverti level fall . achiev global recogni today . yet lack self-confid see develop nation , self-r self-assur . ’ incorrect ? I third vision . india must stand world . becau I believ unless india stand world , one respect us . onli strength respect strength . We must strong militari power also econom power . must go hand-in-hand . My good fortun work three great mind . dr. vikram sarabhai dept . space , professor satish dhawan , succeed dr. brahm prakash , father nuclear materi . I lucki work three close consid great opportun life . I see four mileston career']"
      ]
     },
     "execution_count": 19,
     "metadata": {},
     "output_type": "execute_result"
    }
   ],
   "source": [
    "sentences"
   ]
  },
  {
   "cell_type": "markdown",
   "metadata": {},
   "source": [
    "# Lemmatization"
   ]
  },
  {
   "cell_type": "code",
   "execution_count": 20,
   "metadata": {},
   "outputs": [],
   "source": [
    "from nltk.stem import WordNetLemmatizer"
   ]
  },
  {
   "cell_type": "code",
   "execution_count": 21,
   "metadata": {},
   "outputs": [],
   "source": [
    "lemmatizer = WordNetLemmatizer()"
   ]
  },
  {
   "cell_type": "code",
   "execution_count": 25,
   "metadata": {},
   "outputs": [
    {
     "data": {
      "text/plain": [
       "['I have three visions for India.',\n",
       " 'In 3000 years of our history, people from all over \\n               the world have come and invaded us, captured our lands, conquered our minds.',\n",
       " 'From Alexander onwards, the Greeks, the Turks, the Moguls, the Portuguese, the British,\\n               the French, the Dutch, all of them came and looted us, took over what was ours.',\n",
       " 'Yet we have not done this to any other nation.',\n",
       " 'We have not conquered anyone.',\n",
       " 'We have not grabbed their land, their culture, \\n               their history and tried to enforce our way of life on them.',\n",
       " 'Why?',\n",
       " 'Because we respect the freedom of others.That is why my \\n               first vision is that of freedom.',\n",
       " 'I believe that India got its first vision of \\n               this in 1857, when we started the War of Independence.',\n",
       " 'It is this freedom that\\n               we must protect and nurture and build on.',\n",
       " 'If we are not free, no one will respect us.',\n",
       " 'My second vision for India’s development.',\n",
       " 'For fifty years we have been a developing nation.',\n",
       " 'It is time we see ourselves as a developed nation.',\n",
       " 'We are among the top 5 nations of the world\\n               in terms of GDP.',\n",
       " 'We have a 10 percent growth rate in most areas.',\n",
       " 'Our poverty levels are falling.',\n",
       " 'Our achievements are being globally recognised today.',\n",
       " 'Yet we lack the self-confidence to\\n               see ourselves as a developed nation, self-reliant and self-assured.',\n",
       " 'Isn’t this incorrect?',\n",
       " 'I have a third vision.',\n",
       " 'India must stand up to the world.',\n",
       " 'Because I believe that unless India \\n               stands up to the world, no one will respect us.',\n",
       " 'Only strength respects strength.',\n",
       " 'We must be \\n               strong not only as a military power but also as an economic power.',\n",
       " 'Both must go hand-in-hand.',\n",
       " 'My good fortune was to have worked with three great minds.',\n",
       " 'Dr. Vikram Sarabhai of the Dept.',\n",
       " 'of \\n               space, Professor Satish Dhawan, who succeeded him and Dr. Brahm Prakash, father of nuclear material.',\n",
       " 'I was lucky to have worked with all three of them closely and consider this the great opportunity of my life.',\n",
       " 'I see four milestones in my career']"
      ]
     },
     "execution_count": 25,
     "metadata": {},
     "output_type": "execute_result"
    }
   ],
   "source": [
    "sentences_lemmat= nltk.sent_tokenize(paragraph)\n",
    "sentences_lemmat"
   ]
  },
  {
   "cell_type": "code",
   "execution_count": 26,
   "metadata": {},
   "outputs": [],
   "source": [
    "# Lemmatization\n",
    "for i in range(len(sentences_lemmat)):\n",
    "    words = nltk.word_tokenize(sentences_lemmat[i])\n",
    "    words = [lemmatizer.lemmatize(word) for word in words if word not in set(stopwords.words('english'))]\n",
    "    sentences_lemmat[i] = ' '.join(words)   "
   ]
  },
  {
   "cell_type": "code",
   "execution_count": 27,
   "metadata": {},
   "outputs": [
    {
     "data": {
      "text/plain": [
       "['I three vision India .',\n",
       " 'In 3000 year history , people world come invaded u , captured land , conquered mind .',\n",
       " 'From Alexander onwards , Greeks , Turks , Moguls , Portuguese , British , French , Dutch , came looted u , took .',\n",
       " 'Yet done nation .',\n",
       " 'We conquered anyone .',\n",
       " 'We grabbed land , culture , history tried enforce way life .',\n",
       " 'Why ?',\n",
       " 'Because respect freedom others.That first vision freedom .',\n",
       " 'I believe India got first vision 1857 , started War Independence .',\n",
       " 'It freedom must protect nurture build .',\n",
       " 'If free , one respect u .',\n",
       " 'My second vision India ’ development .',\n",
       " 'For fifty year developing nation .',\n",
       " 'It time see developed nation .',\n",
       " 'We among top 5 nation world term GDP .',\n",
       " 'We 10 percent growth rate area .',\n",
       " 'Our poverty level falling .',\n",
       " 'Our achievement globally recognised today .',\n",
       " 'Yet lack self-confidence see developed nation , self-reliant self-assured .',\n",
       " 'Isn ’ incorrect ?',\n",
       " 'I third vision .',\n",
       " 'India must stand world .',\n",
       " 'Because I believe unless India stand world , one respect u .',\n",
       " 'Only strength respect strength .',\n",
       " 'We must strong military power also economic power .',\n",
       " 'Both must go hand-in-hand .',\n",
       " 'My good fortune worked three great mind .',\n",
       " 'Dr. Vikram Sarabhai Dept .',\n",
       " 'space , Professor Satish Dhawan , succeeded Dr. Brahm Prakash , father nuclear material .',\n",
       " 'I lucky worked three closely consider great opportunity life .',\n",
       " 'I see four milestone career']"
      ]
     },
     "execution_count": 27,
     "metadata": {},
     "output_type": "execute_result"
    }
   ],
   "source": [
    "sentences_lemmat"
   ]
  },
  {
   "cell_type": "markdown",
   "metadata": {},
   "source": [
    "# Bag of Words"
   ]
  },
  {
   "cell_type": "code",
   "execution_count": 28,
   "metadata": {},
   "outputs": [],
   "source": [
    "paragraph =  \"\"\"I have three visions for India. In 3000 years of our history, people from all over \n",
    "               the world have come and invaded us, captured our lands, conquered our minds. \n",
    "               From Alexander onwards, the Greeks, the Turks, the Moguls, the Portuguese, the British,\n",
    "               the French, the Dutch, all of them came and looted us, took over what was ours. \n",
    "               Yet we have not done this to any other nation. We have not conquered anyone. \n",
    "               We have not grabbed their land, their culture, \n",
    "               their history and tried to enforce our way of life on them. \n",
    "               Why? Because we respect the freedom of others.That is why my \n",
    "               first vision is that of freedom. I believe that India got its first vision of \n",
    "               this in 1857, when we started the War of Independence. It is this freedom that\n",
    "               we must protect and nurture and build on. If we are not free, no one will respect us.\n",
    "               My second vision for India’s development. For fifty years we have been a developing nation.\n",
    "               It is time we see ourselves as a developed nation. We are among the top 5 nations of the world\n",
    "               in terms of GDP. We have a 10 percent growth rate in most areas. Our poverty levels are falling.\n",
    "               Our achievements are being globally recognised today. Yet we lack the self-confidence to\n",
    "               see ourselves as a developed nation, self-reliant and self-assured. Isn’t this incorrect?\n",
    "               I have a third vision. India must stand up to the world. Because I believe that unless India \n",
    "               stands up to the world, no one will respect us. Only strength respects strength. We must be \n",
    "               strong not only as a military power but also as an economic power. Both must go hand-in-hand. \n",
    "               My good fortune was to have worked with three great minds. Dr. Vikram Sarabhai of the Dept. of \n",
    "               space, Professor Satish Dhawan, who succeeded him and Dr. Brahm Prakash, father of nuclear material.\n",
    "               I was lucky to have worked with all three of them closely and consider this the great opportunity of my life. \n",
    "               I see four milestones in my career\"\"\""
   ]
  },
  {
   "cell_type": "code",
   "execution_count": 29,
   "metadata": {},
   "outputs": [],
   "source": [
    "import re"
   ]
  },
  {
   "cell_type": "code",
   "execution_count": 40,
   "metadata": {},
   "outputs": [],
   "source": [
    "ps= PorterStemmer()\n",
    "wl= WordNetLemmatizer()\n",
    "sentences_bow= nltk.sent_tokenize(paragraph)"
   ]
  },
  {
   "cell_type": "code",
   "execution_count": 41,
   "metadata": {},
   "outputs": [],
   "source": [
    "corpus= []"
   ]
  },
  {
   "cell_type": "code",
   "execution_count": 42,
   "metadata": {},
   "outputs": [],
   "source": [
    "for i in range(len(sentences_bow)):\n",
    "    review = re.sub('[^a-zA-Z]', ' ', sentences_bow[i])        # Replace all other symbols except for alphabets.\n",
    "    review = review.lower()\n",
    "    review = review.split()             # Gets the list of words.\n",
    "    review = [wl.lemmatize(word) for word in review if not word in set(stopwords.words('english'))]\n",
    "    review = ' '.join(review)\n",
    "    corpus.append(review)"
   ]
  },
  {
   "cell_type": "code",
   "execution_count": 43,
   "metadata": {},
   "outputs": [
    {
     "data": {
      "text/plain": [
       "['three vision india',\n",
       " 'year history people world come invaded u captured land conquered mind',\n",
       " 'alexander onwards greek turk mogul portuguese british french dutch came looted u took',\n",
       " 'yet done nation',\n",
       " 'conquered anyone',\n",
       " 'grabbed land culture history tried enforce way life',\n",
       " '',\n",
       " 'respect freedom others first vision freedom',\n",
       " 'believe india got first vision started war independence',\n",
       " 'freedom must protect nurture build',\n",
       " 'free one respect u',\n",
       " 'second vision india development',\n",
       " 'fifty year developing nation',\n",
       " 'time see developed nation',\n",
       " 'among top nation world term gdp',\n",
       " 'percent growth rate area',\n",
       " 'poverty level falling',\n",
       " 'achievement globally recognised today',\n",
       " 'yet lack self confidence see developed nation self reliant self assured',\n",
       " 'incorrect',\n",
       " 'third vision',\n",
       " 'india must stand world',\n",
       " 'believe unless india stand world one respect u',\n",
       " 'strength respect strength',\n",
       " 'must strong military power also economic power',\n",
       " 'must go hand hand',\n",
       " 'good fortune worked three great mind',\n",
       " 'dr vikram sarabhai dept',\n",
       " 'space professor satish dhawan succeeded dr brahm prakash father nuclear material',\n",
       " 'lucky worked three closely consider great opportunity life',\n",
       " 'see four milestone career']"
      ]
     },
     "execution_count": 43,
     "metadata": {},
     "output_type": "execute_result"
    }
   ],
   "source": [
    "corpus"
   ]
  },
  {
   "cell_type": "code",
   "execution_count": 51,
   "metadata": {},
   "outputs": [],
   "source": [
    "# Creating the Bag of Words model\n",
    "from sklearn.feature_extraction.text import CountVectorizer\n",
    "cv = CountVectorizer()\n",
    "X = cv.fit_transform(corpus).toarray()"
   ]
  },
  {
   "cell_type": "code",
   "execution_count": 52,
   "metadata": {},
   "outputs": [
    {
     "data": {
      "text/plain": [
       "array([[0, 0, 0, ..., 0, 0, 0],\n",
       "       [0, 0, 0, ..., 1, 1, 0],\n",
       "       [0, 1, 0, ..., 0, 0, 0],\n",
       "       ...,\n",
       "       [0, 0, 0, ..., 0, 0, 0],\n",
       "       [0, 0, 0, ..., 0, 0, 0],\n",
       "       [0, 0, 0, ..., 0, 0, 0]], dtype=int64)"
      ]
     },
     "execution_count": 52,
     "metadata": {},
     "output_type": "execute_result"
    }
   ],
   "source": [
    "X"
   ]
  },
  {
   "cell_type": "markdown",
   "metadata": {},
   "source": [
    "# TF-IDF"
   ]
  },
  {
   "cell_type": "code",
   "execution_count": 46,
   "metadata": {},
   "outputs": [],
   "source": [
    "sentences_tf_idf= nltk.sent_tokenize(paragraph)"
   ]
  },
  {
   "cell_type": "code",
   "execution_count": 47,
   "metadata": {},
   "outputs": [],
   "source": [
    "corpus= []"
   ]
  },
  {
   "cell_type": "code",
   "execution_count": 49,
   "metadata": {},
   "outputs": [],
   "source": [
    "for i in range(len(sentences_tf_idf)):\n",
    "    review = re.sub('[^a-zA-Z]', ' ', sentences_tf_idf[i])\n",
    "    review = review.lower()\n",
    "    review = review.split()\n",
    "    review = [wl.lemmatize(word) for word in review if not word in set(stopwords.words('english'))]\n",
    "    review = ' '.join(review)\n",
    "    corpus.append(review)"
   ]
  },
  {
   "cell_type": "code",
   "execution_count": 50,
   "metadata": {},
   "outputs": [
    {
     "data": {
      "text/plain": [
       "array([[0.        , 0.        , 0.        , ..., 0.        , 0.        ,\n",
       "        0.        ],\n",
       "       [0.        , 0.        , 0.        , ..., 0.25883507, 0.30512561,\n",
       "        0.        ],\n",
       "       [0.        , 0.28867513, 0.        , ..., 0.        , 0.        ,\n",
       "        0.        ],\n",
       "       ...,\n",
       "       [0.        , 0.        , 0.        , ..., 0.        , 0.        ,\n",
       "        0.        ],\n",
       "       [0.        , 0.        , 0.        , ..., 0.        , 0.        ,\n",
       "        0.        ],\n",
       "       [0.        , 0.        , 0.        , ..., 0.        , 0.        ,\n",
       "        0.        ]])"
      ]
     },
     "execution_count": 50,
     "metadata": {},
     "output_type": "execute_result"
    }
   ],
   "source": [
    "# Creating the TF-IDF model\n",
    "from sklearn.feature_extraction.text import TfidfVectorizer\n",
    "cv = TfidfVectorizer()\n",
    "X = cv.fit_transform(corpus).toarray()\n",
    "X"
   ]
  },
  {
   "cell_type": "code",
   "execution_count": null,
   "metadata": {},
   "outputs": [],
   "source": []
  }
 ],
 "metadata": {
  "kernelspec": {
   "display_name": "Python 3",
   "language": "python",
   "name": "python3"
  },
  "language_info": {
   "codemirror_mode": {
    "name": "ipython",
    "version": 3
   },
   "file_extension": ".py",
   "mimetype": "text/x-python",
   "name": "python",
   "nbconvert_exporter": "python",
   "pygments_lexer": "ipython3",
   "version": "3.7.6"
  }
 },
 "nbformat": 4,
 "nbformat_minor": 4
}
