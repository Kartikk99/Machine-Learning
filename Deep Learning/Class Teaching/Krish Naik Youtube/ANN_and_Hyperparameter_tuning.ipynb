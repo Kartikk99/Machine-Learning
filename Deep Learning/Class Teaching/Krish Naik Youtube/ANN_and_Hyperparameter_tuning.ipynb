{
 "cells": [
  {
   "cell_type": "code",
   "execution_count": 2,
   "metadata": {},
   "outputs": [],
   "source": [
    "import numpy as np\n",
    "import matplotlib.pyplot as plt\n",
    "import pandas as pd"
   ]
  },
  {
   "cell_type": "code",
   "execution_count": 3,
   "metadata": {},
   "outputs": [],
   "source": [
    "dataset = pd.read_csv('Churn_Modelling.csv')\n",
    "X = dataset.iloc[:, 3:13]\n",
    "y = dataset.iloc[:, 13]"
   ]
  },
  {
   "cell_type": "code",
   "execution_count": 4,
   "metadata": {},
   "outputs": [],
   "source": [
    "#Create dummy variables\n",
    "geography=pd.get_dummies(X[\"Geography\"],drop_first=True)\n",
    "gender=pd.get_dummies(X['Gender'],drop_first=True)"
   ]
  },
  {
   "cell_type": "code",
   "execution_count": 5,
   "metadata": {},
   "outputs": [],
   "source": [
    "## Concatenate the Data Frames\n",
    "\n",
    "X=pd.concat([X,geography,gender],axis=1)"
   ]
  },
  {
   "cell_type": "code",
   "execution_count": 6,
   "metadata": {},
   "outputs": [],
   "source": [
    "## Drop Unnecessary columns\n",
    "X=X.drop(['Geography','Gender'],axis=1)"
   ]
  },
  {
   "cell_type": "code",
   "execution_count": 13,
   "metadata": {},
   "outputs": [],
   "source": [
    "# Splitting the dataset into the Training set and Test set\n",
    "from sklearn.model_selection import train_test_split\n",
    "X_train, X_test, y_train, y_test = train_test_split(X, y, test_size = 0.2, random_state = 0, stratify= dataset['Exited'])"
   ]
  },
  {
   "cell_type": "code",
   "execution_count": 8,
   "metadata": {},
   "outputs": [],
   "source": [
    "# Feature Scaling\n",
    "from sklearn.preprocessing import StandardScaler\n",
    "sc = StandardScaler()\n",
    "X_train = sc.fit_transform(X_train)\n",
    "X_test = sc.transform(X_test)"
   ]
  },
  {
   "cell_type": "code",
   "execution_count": 9,
   "metadata": {},
   "outputs": [],
   "source": [
    "# Importing the Keras libraries and packages\n",
    "import keras\n",
    "from keras.models import Sequential\n",
    "from keras.layers import Dense        # To create Hidden layers.\n",
    "from keras.layers import LeakyReLU,PReLU,ELU       # Activaction Funcitons\n",
    "from keras.layers import Dropout      # Regularization Parameter"
   ]
  },
  {
   "cell_type": "code",
   "execution_count": 47,
   "metadata": {},
   "outputs": [],
   "source": [
    "classifier = Sequential()"
   ]
  },
  {
   "cell_type": "code",
   "execution_count": 48,
   "metadata": {},
   "outputs": [],
   "source": [
    "classifier.add(Dense(units= 10, activation= 'relu', kernel_initializer= 'he_normal', input_dim= 11))"
   ]
  },
  {
   "cell_type": "code",
   "execution_count": 51,
   "metadata": {},
   "outputs": [],
   "source": [
    "classifier.add(Dropout(0.4))"
   ]
  },
  {
   "cell_type": "code",
   "execution_count": 52,
   "metadata": {},
   "outputs": [],
   "source": [
    "classifier.add(Dense(units= 15, activation= 'relu', kernel_initializer= 'he_normal'))"
   ]
  },
  {
   "cell_type": "code",
   "execution_count": 54,
   "metadata": {},
   "outputs": [],
   "source": [
    "classifier.add(Dropout(0.3))"
   ]
  },
  {
   "cell_type": "code",
   "execution_count": 55,
   "metadata": {},
   "outputs": [],
   "source": [
    "classifier.add(Dense(units= 20, activation= 'relu', kernel_initializer= 'he_normal'))"
   ]
  },
  {
   "cell_type": "code",
   "execution_count": 56,
   "metadata": {},
   "outputs": [],
   "source": [
    "classifier.add(Dropout(0.3))"
   ]
  },
  {
   "cell_type": "code",
   "execution_count": 57,
   "metadata": {},
   "outputs": [],
   "source": [
    "classifier.add(Dense(units= 1, activation= 'sigmoid', kernel_initializer= 'glorot_uniform'))"
   ]
  },
  {
   "cell_type": "code",
   "execution_count": 58,
   "metadata": {},
   "outputs": [],
   "source": [
    "classifier.compile(optimizer='Adamax', loss= 'binary_crossentropy', metrics=['accuracy'])"
   ]
  },
  {
   "cell_type": "code",
   "execution_count": 59,
   "metadata": {},
   "outputs": [
    {
     "name": "stdout",
     "output_type": "stream",
     "text": [
      "Epoch 1/100\n",
      "  1/560 [..............................] - ETA: 0s - loss: 24576.5508 - accuracy: 0.3000WARNING:tensorflow:Callbacks method `on_train_batch_begin` is slow compared to the batch time (batch time: 0.0000s vs `on_train_batch_begin` time: 0.0040s). Check your callbacks.\n",
      "560/560 [==============================] - 1s 3ms/step - loss: 11088.9854 - accuracy: 0.5973 - val_loss: 2474.0386 - val_accuracy: 0.8062\n",
      "Epoch 2/100\n",
      "560/560 [==============================] - 1s 2ms/step - loss: 4247.3037 - accuracy: 0.6227 - val_loss: 962.5555 - val_accuracy: 0.8062\n",
      "Epoch 3/100\n",
      "560/560 [==============================] - 1s 2ms/step - loss: 1962.7522 - accuracy: 0.6495 - val_loss: 324.2708 - val_accuracy: 0.8062\n",
      "Epoch 4/100\n",
      "560/560 [==============================] - 1s 2ms/step - loss: 839.9996 - accuracy: 0.6598 - val_loss: 140.9569 - val_accuracy: 0.8062\n",
      "Epoch 5/100\n",
      "560/560 [==============================] - 1s 3ms/step - loss: 371.1320 - accuracy: 0.6796 - val_loss: 48.4412 - val_accuracy: 0.8062\n",
      "Epoch 6/100\n",
      "560/560 [==============================] - 1s 2ms/step - loss: 124.5314 - accuracy: 0.7084 - val_loss: 9.3413 - val_accuracy: 0.8062\n",
      "Epoch 7/100\n",
      "560/560 [==============================] - 1s 2ms/step - loss: 44.4106 - accuracy: 0.7530 - val_loss: 3.6805 - val_accuracy: 0.8062\n",
      "Epoch 8/100\n",
      "560/560 [==============================] - 1s 2ms/step - loss: 24.0287 - accuracy: 0.7611 - val_loss: 2.2647 - val_accuracy: 0.7979\n",
      "Epoch 9/100\n",
      "560/560 [==============================] - 1s 2ms/step - loss: 10.9265 - accuracy: 0.7673 - val_loss: 1.2670 - val_accuracy: 0.8050\n",
      "Epoch 10/100\n",
      "560/560 [==============================] - 1s 2ms/step - loss: 3.7067 - accuracy: 0.7784 - val_loss: 0.8740 - val_accuracy: 0.8062\n",
      "Epoch 11/100\n",
      "560/560 [==============================] - 1s 2ms/step - loss: 2.7757 - accuracy: 0.7812 - val_loss: 0.6716 - val_accuracy: 0.8062\n",
      "Epoch 12/100\n",
      "560/560 [==============================] - 1s 2ms/step - loss: 1.5325 - accuracy: 0.7830 - val_loss: 0.5637 - val_accuracy: 0.8062\n",
      "Epoch 13/100\n",
      "560/560 [==============================] - 1s 2ms/step - loss: 0.8907 - accuracy: 0.7886 - val_loss: 0.5460 - val_accuracy: 0.8062\n",
      "Epoch 14/100\n",
      "560/560 [==============================] - 1s 2ms/step - loss: 0.6722 - accuracy: 0.7884 - val_loss: 0.5274 - val_accuracy: 0.8062\n",
      "Epoch 15/100\n",
      "560/560 [==============================] - 1s 3ms/step - loss: 0.5826 - accuracy: 0.7896 - val_loss: 0.5255 - val_accuracy: 0.8062\n",
      "Epoch 16/100\n",
      "560/560 [==============================] - 1s 2ms/step - loss: 0.5745 - accuracy: 0.7904 - val_loss: 0.5243 - val_accuracy: 0.8062\n",
      "Epoch 17/100\n",
      "560/560 [==============================] - 1s 2ms/step - loss: 0.5396 - accuracy: 0.7905 - val_loss: 0.5166 - val_accuracy: 0.8062\n",
      "Epoch 18/100\n",
      "560/560 [==============================] - 1s 3ms/step - loss: 0.5447 - accuracy: 0.7902 - val_loss: 0.5148 - val_accuracy: 0.8062\n",
      "Epoch 19/100\n",
      "560/560 [==============================] - 2s 3ms/step - loss: 0.5410 - accuracy: 0.7907 - val_loss: 0.5100 - val_accuracy: 0.8062\n",
      "Epoch 20/100\n",
      "560/560 [==============================] - 2s 4ms/step - loss: 0.5482 - accuracy: 0.7904 - val_loss: 0.5064 - val_accuracy: 0.8062\n",
      "Epoch 21/100\n",
      "560/560 [==============================] - 1s 2ms/step - loss: 0.5356 - accuracy: 0.7912 - val_loss: 0.5035 - val_accuracy: 0.8062\n",
      "Epoch 22/100\n",
      "560/560 [==============================] - 1s 2ms/step - loss: 0.5239 - accuracy: 0.7905 - val_loss: 0.5008 - val_accuracy: 0.8062\n",
      "Epoch 23/100\n",
      "560/560 [==============================] - 2s 3ms/step - loss: 0.5156 - accuracy: 0.7920 - val_loss: 0.4987 - val_accuracy: 0.8062\n",
      "Epoch 24/100\n",
      "560/560 [==============================] - 1s 2ms/step - loss: 0.5252 - accuracy: 0.7904 - val_loss: 0.4971 - val_accuracy: 0.8062\n",
      "Epoch 25/100\n",
      "560/560 [==============================] - 2s 3ms/step - loss: 0.5135 - accuracy: 0.7912 - val_loss: 0.4965 - val_accuracy: 0.8062\n",
      "Epoch 26/100\n",
      "560/560 [==============================] - 1s 3ms/step - loss: 0.5150 - accuracy: 0.7920 - val_loss: 0.4956 - val_accuracy: 0.8062\n",
      "Epoch 27/100\n",
      "560/560 [==============================] - 1s 2ms/step - loss: 0.5166 - accuracy: 0.7920 - val_loss: 0.4948 - val_accuracy: 0.8062\n",
      "Epoch 28/100\n",
      "560/560 [==============================] - 1s 2ms/step - loss: 0.5176 - accuracy: 0.7916 - val_loss: 0.4941 - val_accuracy: 0.8062\n",
      "Epoch 29/100\n",
      "560/560 [==============================] - 1s 2ms/step - loss: 0.5146 - accuracy: 0.7916 - val_loss: 0.4939 - val_accuracy: 0.8062\n",
      "Epoch 30/100\n",
      "560/560 [==============================] - 1s 2ms/step - loss: 0.5140 - accuracy: 0.7916 - val_loss: 0.4935 - val_accuracy: 0.8062\n",
      "Epoch 31/100\n",
      "560/560 [==============================] - 1s 2ms/step - loss: 0.5133 - accuracy: 0.7918 - val_loss: 0.4929 - val_accuracy: 0.8062\n",
      "Epoch 32/100\n",
      "560/560 [==============================] - 1s 3ms/step - loss: 0.5122 - accuracy: 0.7918 - val_loss: 0.4929 - val_accuracy: 0.8062\n",
      "Epoch 33/100\n",
      "560/560 [==============================] - 2s 4ms/step - loss: 0.5138 - accuracy: 0.7920 - val_loss: 0.4928 - val_accuracy: 0.8062\n",
      "Epoch 34/100\n",
      "560/560 [==============================] - 2s 4ms/step - loss: 0.5136 - accuracy: 0.7918 - val_loss: 0.4928 - val_accuracy: 0.8062\n",
      "Epoch 35/100\n",
      "560/560 [==============================] - 2s 4ms/step - loss: 0.5120 - accuracy: 0.7920 - val_loss: 0.4931 - val_accuracy: 0.8062\n",
      "Epoch 36/100\n",
      "560/560 [==============================] - 2s 3ms/step - loss: 0.5115 - accuracy: 0.7920 - val_loss: 0.4931 - val_accuracy: 0.8062\n",
      "Epoch 37/100\n",
      "560/560 [==============================] - 2s 3ms/step - loss: 0.5115 - accuracy: 0.7920 - val_loss: 0.4932 - val_accuracy: 0.8062\n",
      "Epoch 38/100\n",
      "560/560 [==============================] - 1s 2ms/step - loss: 0.5128 - accuracy: 0.7920 - val_loss: 0.4932 - val_accuracy: 0.8062\n",
      "Epoch 39/100\n",
      "560/560 [==============================] - 1s 2ms/step - loss: 0.5134 - accuracy: 0.7920 - val_loss: 0.4927 - val_accuracy: 0.8062\n",
      "Epoch 40/100\n",
      "560/560 [==============================] - 1s 2ms/step - loss: 0.5134 - accuracy: 0.7921 - val_loss: 0.4926 - val_accuracy: 0.8062\n",
      "Epoch 41/100\n",
      "560/560 [==============================] - 2s 3ms/step - loss: 0.5121 - accuracy: 0.7920 - val_loss: 0.4927 - val_accuracy: 0.8062\n",
      "Epoch 42/100\n",
      "560/560 [==============================] - 1s 2ms/step - loss: 0.5119 - accuracy: 0.7920 - val_loss: 0.4928 - val_accuracy: 0.8062\n",
      "Epoch 43/100\n",
      "560/560 [==============================] - 1s 2ms/step - loss: 0.5120 - accuracy: 0.7920 - val_loss: 0.4926 - val_accuracy: 0.8062\n",
      "Epoch 44/100\n",
      "560/560 [==============================] - 1s 2ms/step - loss: 0.5121 - accuracy: 0.7918 - val_loss: 0.4926 - val_accuracy: 0.8062\n",
      "Epoch 45/100\n",
      "560/560 [==============================] - 1s 2ms/step - loss: 0.5127 - accuracy: 0.7918 - val_loss: 0.4929 - val_accuracy: 0.8062\n",
      "Epoch 46/100\n",
      "560/560 [==============================] - 1s 2ms/step - loss: 0.5127 - accuracy: 0.7918 - val_loss: 0.4940 - val_accuracy: 0.8062\n",
      "Epoch 47/100\n",
      "560/560 [==============================] - 1s 2ms/step - loss: 0.5126 - accuracy: 0.7921 - val_loss: 0.4946 - val_accuracy: 0.8062\n",
      "Epoch 48/100\n",
      "560/560 [==============================] - 1s 2ms/step - loss: 0.5121 - accuracy: 0.7918 - val_loss: 0.4943 - val_accuracy: 0.8062\n",
      "Epoch 49/100\n",
      "560/560 [==============================] - 1s 2ms/step - loss: 0.5120 - accuracy: 0.7918 - val_loss: 0.4937 - val_accuracy: 0.8062\n",
      "Epoch 50/100\n",
      "560/560 [==============================] - 1s 2ms/step - loss: 0.5134 - accuracy: 0.7920 - val_loss: 0.4939 - val_accuracy: 0.8062\n",
      "Epoch 51/100\n",
      "560/560 [==============================] - 1s 2ms/step - loss: 0.5122 - accuracy: 0.7918 - val_loss: 0.4940 - val_accuracy: 0.8062\n",
      "Epoch 52/100\n",
      "560/560 [==============================] - 1s 2ms/step - loss: 0.5128 - accuracy: 0.7920 - val_loss: 0.4939 - val_accuracy: 0.8062\n",
      "Epoch 53/100\n",
      "560/560 [==============================] - 1s 2ms/step - loss: 0.5116 - accuracy: 0.7920 - val_loss: 0.4935 - val_accuracy: 0.8062\n",
      "Epoch 54/100\n",
      "560/560 [==============================] - 1s 2ms/step - loss: 0.5113 - accuracy: 0.7920 - val_loss: 0.4939 - val_accuracy: 0.8062\n",
      "Epoch 55/100\n",
      "560/560 [==============================] - 1s 2ms/step - loss: 0.5118 - accuracy: 0.7920 - val_loss: 0.4941 - val_accuracy: 0.8062\n"
     ]
    },
    {
     "name": "stdout",
     "output_type": "stream",
     "text": [
      "Epoch 56/100\n",
      "560/560 [==============================] - 2s 3ms/step - loss: 0.5118 - accuracy: 0.7920 - val_loss: 0.4941 - val_accuracy: 0.8062\n",
      "Epoch 57/100\n",
      "560/560 [==============================] - 1s 2ms/step - loss: 0.5111 - accuracy: 0.7920 - val_loss: 0.4939 - val_accuracy: 0.8062\n",
      "Epoch 58/100\n",
      "560/560 [==============================] - 1s 2ms/step - loss: 0.5123 - accuracy: 0.7920 - val_loss: 0.4937 - val_accuracy: 0.8062\n",
      "Epoch 59/100\n",
      "560/560 [==============================] - 1s 2ms/step - loss: 0.5115 - accuracy: 0.7920 - val_loss: 0.4936 - val_accuracy: 0.8062\n",
      "Epoch 60/100\n",
      "560/560 [==============================] - 1s 2ms/step - loss: 0.5111 - accuracy: 0.7918 - val_loss: 0.4936 - val_accuracy: 0.8062\n",
      "Epoch 61/100\n",
      "560/560 [==============================] - 1s 2ms/step - loss: 0.5123 - accuracy: 0.7920 - val_loss: 0.4935 - val_accuracy: 0.8062\n",
      "Epoch 62/100\n",
      "560/560 [==============================] - 1s 2ms/step - loss: 0.5118 - accuracy: 0.7920 - val_loss: 0.4933 - val_accuracy: 0.8062\n",
      "Epoch 63/100\n",
      "560/560 [==============================] - 1s 2ms/step - loss: 0.5112 - accuracy: 0.7920 - val_loss: 0.4933 - val_accuracy: 0.8062\n",
      "Epoch 64/100\n",
      "560/560 [==============================] - 1s 2ms/step - loss: 0.5113 - accuracy: 0.7920 - val_loss: 0.4938 - val_accuracy: 0.8062\n",
      "Epoch 65/100\n",
      "560/560 [==============================] - 1s 2ms/step - loss: 0.5126 - accuracy: 0.7920 - val_loss: 0.4937 - val_accuracy: 0.8062\n",
      "Epoch 66/100\n",
      "560/560 [==============================] - 1s 2ms/step - loss: 0.5115 - accuracy: 0.7920 - val_loss: 0.4932 - val_accuracy: 0.8062\n",
      "Epoch 67/100\n",
      "560/560 [==============================] - 1s 2ms/step - loss: 0.5134 - accuracy: 0.7918 - val_loss: 0.4930 - val_accuracy: 0.8062\n",
      "Epoch 68/100\n",
      "560/560 [==============================] - 1s 2ms/step - loss: 0.5113 - accuracy: 0.7920 - val_loss: 0.4934 - val_accuracy: 0.8062\n",
      "Epoch 69/100\n",
      "560/560 [==============================] - 1s 2ms/step - loss: 0.5111 - accuracy: 0.7920 - val_loss: 0.4937 - val_accuracy: 0.8062\n",
      "Epoch 70/100\n",
      "560/560 [==============================] - 1s 2ms/step - loss: 0.5123 - accuracy: 0.7920 - val_loss: 0.4932 - val_accuracy: 0.8062\n",
      "Epoch 71/100\n",
      "560/560 [==============================] - 1s 2ms/step - loss: 0.5119 - accuracy: 0.7920 - val_loss: 0.4935 - val_accuracy: 0.8062\n",
      "Epoch 72/100\n",
      "560/560 [==============================] - 1s 2ms/step - loss: 0.5120 - accuracy: 0.7920 - val_loss: 0.4932 - val_accuracy: 0.8062\n",
      "Epoch 73/100\n",
      "560/560 [==============================] - 1s 2ms/step - loss: 0.5118 - accuracy: 0.7920 - val_loss: 0.4932 - val_accuracy: 0.8062\n",
      "Epoch 74/100\n",
      "560/560 [==============================] - 1s 2ms/step - loss: 0.5112 - accuracy: 0.7920 - val_loss: 0.4936 - val_accuracy: 0.8062\n",
      "Epoch 75/100\n",
      "560/560 [==============================] - 1s 2ms/step - loss: 0.5122 - accuracy: 0.7920 - val_loss: 0.4944 - val_accuracy: 0.8062\n",
      "Epoch 76/100\n",
      "560/560 [==============================] - 1s 2ms/step - loss: 0.5120 - accuracy: 0.7920 - val_loss: 0.4940 - val_accuracy: 0.8062\n",
      "Epoch 77/100\n",
      "560/560 [==============================] - 1s 2ms/step - loss: 0.5121 - accuracy: 0.7918 - val_loss: 0.4935 - val_accuracy: 0.8062\n",
      "Epoch 78/100\n",
      "560/560 [==============================] - 1s 2ms/step - loss: 0.5120 - accuracy: 0.7920 - val_loss: 0.4931 - val_accuracy: 0.8062\n",
      "Epoch 79/100\n",
      "560/560 [==============================] - 1s 2ms/step - loss: 0.5119 - accuracy: 0.7918 - val_loss: 0.4929 - val_accuracy: 0.8062\n",
      "Epoch 80/100\n",
      "560/560 [==============================] - 1s 2ms/step - loss: 0.5113 - accuracy: 0.7920 - val_loss: 0.4929 - val_accuracy: 0.8062\n",
      "Epoch 81/100\n",
      "560/560 [==============================] - 1s 2ms/step - loss: 0.5111 - accuracy: 0.7920 - val_loss: 0.4929 - val_accuracy: 0.8062\n",
      "Epoch 82/100\n",
      "560/560 [==============================] - 1s 2ms/step - loss: 0.5125 - accuracy: 0.7920 - val_loss: 0.4931 - val_accuracy: 0.8062\n",
      "Epoch 83/100\n",
      "560/560 [==============================] - 1s 2ms/step - loss: 0.5118 - accuracy: 0.7920 - val_loss: 0.4930 - val_accuracy: 0.8062\n",
      "Epoch 84/100\n",
      "560/560 [==============================] - 1s 2ms/step - loss: 0.5124 - accuracy: 0.7918 - val_loss: 0.4929 - val_accuracy: 0.8062\n",
      "Epoch 85/100\n",
      "560/560 [==============================] - 1s 2ms/step - loss: 0.5123 - accuracy: 0.7916 - val_loss: 0.4929 - val_accuracy: 0.8062\n",
      "Epoch 86/100\n",
      "560/560 [==============================] - 1s 2ms/step - loss: 0.5122 - accuracy: 0.7920 - val_loss: 0.4929 - val_accuracy: 0.8062\n",
      "Epoch 87/100\n",
      "560/560 [==============================] - 1s 2ms/step - loss: 0.5114 - accuracy: 0.7920 - val_loss: 0.4929 - val_accuracy: 0.8062\n",
      "Epoch 88/100\n",
      "560/560 [==============================] - 1s 2ms/step - loss: 0.5114 - accuracy: 0.7920 - val_loss: 0.4935 - val_accuracy: 0.8062\n",
      "Epoch 89/100\n",
      "560/560 [==============================] - 1s 2ms/step - loss: 0.5119 - accuracy: 0.7920 - val_loss: 0.4938 - val_accuracy: 0.8062\n",
      "Epoch 90/100\n",
      "560/560 [==============================] - 1s 2ms/step - loss: 0.5125 - accuracy: 0.7920 - val_loss: 0.4937 - val_accuracy: 0.8062\n",
      "Epoch 91/100\n",
      "560/560 [==============================] - 1s 2ms/step - loss: 0.5110 - accuracy: 0.7920 - val_loss: 0.4940 - val_accuracy: 0.8062\n",
      "Epoch 92/100\n",
      "560/560 [==============================] - 1s 2ms/step - loss: 0.5120 - accuracy: 0.7920 - val_loss: 0.4934 - val_accuracy: 0.8062\n",
      "Epoch 93/100\n",
      "560/560 [==============================] - 1s 2ms/step - loss: 0.5118 - accuracy: 0.7920 - val_loss: 0.4931 - val_accuracy: 0.8062\n",
      "Epoch 94/100\n",
      "560/560 [==============================] - 1s 2ms/step - loss: 0.5115 - accuracy: 0.7920 - val_loss: 0.4933 - val_accuracy: 0.8062\n",
      "Epoch 95/100\n",
      "560/560 [==============================] - 1s 2ms/step - loss: 0.5114 - accuracy: 0.7920 - val_loss: 0.4929 - val_accuracy: 0.8062\n",
      "Epoch 96/100\n",
      "560/560 [==============================] - 1s 2ms/step - loss: 0.5114 - accuracy: 0.7920 - val_loss: 0.4927 - val_accuracy: 0.8062\n",
      "Epoch 97/100\n",
      "560/560 [==============================] - 1s 2ms/step - loss: 0.5112 - accuracy: 0.7920 - val_loss: 0.4930 - val_accuracy: 0.8062\n",
      "Epoch 98/100\n",
      "560/560 [==============================] - 1s 2ms/step - loss: 0.5124 - accuracy: 0.7920 - val_loss: 0.4931 - val_accuracy: 0.8062\n",
      "Epoch 99/100\n",
      "560/560 [==============================] - 1s 2ms/step - loss: 0.5111 - accuracy: 0.7920 - val_loss: 0.4929 - val_accuracy: 0.8062\n",
      "Epoch 100/100\n",
      "560/560 [==============================] - 1s 2ms/step - loss: 0.5110 - accuracy: 0.7920 - val_loss: 0.4935 - val_accuracy: 0.8062\n"
     ]
    }
   ],
   "source": [
    "model_history= classifier.fit(X_train, y_train, validation_split=0.3, batch_size=10, epochs= 100)"
   ]
  },
  {
   "cell_type": "code",
   "execution_count": 60,
   "metadata": {},
   "outputs": [],
   "source": [
    "# Predicting the Test set results\n",
    "y_pred = classifier.predict(X_test)\n",
    "y_pred = (y_pred > 0.5)"
   ]
  },
  {
   "cell_type": "code",
   "execution_count": 61,
   "metadata": {},
   "outputs": [
    {
     "data": {
      "text/plain": [
       "array([[1593,    0],\n",
       "       [ 407,    0]], dtype=int64)"
      ]
     },
     "execution_count": 61,
     "metadata": {},
     "output_type": "execute_result"
    }
   ],
   "source": [
    "# Making the Confusion Matrix\n",
    "from sklearn.metrics import confusion_matrix\n",
    "cm = confusion_matrix(y_test, y_pred)\n",
    "cm"
   ]
  },
  {
   "cell_type": "code",
   "execution_count": 62,
   "metadata": {},
   "outputs": [
    {
     "data": {
      "text/plain": [
       "0.7965"
      ]
     },
     "execution_count": 62,
     "metadata": {},
     "output_type": "execute_result"
    }
   ],
   "source": [
    "# Calculate the Accuracy\n",
    "from sklearn.metrics import accuracy_score\n",
    "score=accuracy_score(y_pred,y_test)\n",
    "score"
   ]
  },
  {
   "cell_type": "markdown",
   "metadata": {},
   "source": [
    "# HyperParamter Tuning"
   ]
  },
  {
   "cell_type": "code",
   "execution_count": 63,
   "metadata": {},
   "outputs": [],
   "source": [
    "## Perform Hyperparameter Optimization\n",
    "\n",
    "from keras.wrappers.scikit_learn import KerasClassifier\n",
    "from sklearn.model_selection import GridSearchCV"
   ]
  },
  {
   "cell_type": "code",
   "execution_count": 64,
   "metadata": {},
   "outputs": [],
   "source": [
    "from keras.models import Sequential\n",
    "from keras.layers import Dense, Activation, Embedding, Flatten, LeakyReLU, BatchNormalization, Dropout\n",
    "from keras.activations import relu, sigmoid"
   ]
  },
  {
   "cell_type": "code",
   "execution_count": 65,
   "metadata": {},
   "outputs": [],
   "source": [
    "def create_model(layers, activation):\n",
    "    model = Sequential()\n",
    "    for i, nodes in enumerate(layers):\n",
    "        if i==0:        # This is the input layer. The first layer.\n",
    "            model.add(Dense(nodes,input_dim=X_train.shape[1]))\n",
    "            model.add(Activation(activation))\n",
    "            model.add(Dropout(0.3))\n",
    "        else:\n",
    "            model.add(Dense(nodes))\n",
    "            model.add(Activation(activation))\n",
    "            model.add(Dropout(0.3))\n",
    "      \n",
    "    # Last Layer\n",
    "    model.add(Dense(units = 1, kernel_initializer= 'glorot_uniform', activation = 'sigmoid')) # Note: no activation beyond this point\n",
    "    \n",
    "    model.compile(optimizer='adam', loss='binary_crossentropy',metrics=['accuracy'])\n",
    "    return model"
   ]
  },
  {
   "cell_type": "code",
   "execution_count": 66,
   "metadata": {},
   "outputs": [],
   "source": [
    "model = KerasClassifier(build_fn=create_model, verbose=0)"
   ]
  },
  {
   "cell_type": "code",
   "execution_count": 69,
   "metadata": {},
   "outputs": [],
   "source": [
    "layers = [(20,), (40, 20), (45, 30, 15)]\n",
    "activations = ['sigmoid', 'relu']\n",
    "param_grid = dict(layers=layers, activation=activations, batch_size = [128, 256], epochs=[30])\n",
    "grid = GridSearchCV(estimator=model, param_grid=param_grid,cv=5)"
   ]
  },
  {
   "cell_type": "code",
   "execution_count": 70,
   "metadata": {},
   "outputs": [],
   "source": [
    "grid_result = grid.fit(X_train, y_train)"
   ]
  },
  {
   "cell_type": "code",
   "execution_count": 71,
   "metadata": {},
   "outputs": [
    {
     "data": {
      "text/plain": [
       "[0.7962499856948853,\n",
       " {'activation': 'sigmoid', 'batch_size': 128, 'epochs': 30, 'layers': (20,)}]"
      ]
     },
     "execution_count": 71,
     "metadata": {},
     "output_type": "execute_result"
    }
   ],
   "source": [
    "[grid_result.best_score_,grid_result.best_params_]"
   ]
  },
  {
   "cell_type": "code",
   "execution_count": 76,
   "metadata": {},
   "outputs": [],
   "source": [
    "# Predicting the Test set results\n",
    "y_pred = grid.predict(X_test)\n",
    "y_pred = (y_pred > 0.5)"
   ]
  },
  {
   "cell_type": "code",
   "execution_count": 77,
   "metadata": {},
   "outputs": [
    {
     "data": {
      "text/plain": [
       "array([[1593,    0],\n",
       "       [ 407,    0]], dtype=int64)"
      ]
     },
     "execution_count": 77,
     "metadata": {},
     "output_type": "execute_result"
    }
   ],
   "source": [
    "# Making the Confusion Matrix\n",
    "from sklearn.metrics import confusion_matrix\n",
    "cm = confusion_matrix(y_test, y_pred)\n",
    "cm"
   ]
  },
  {
   "cell_type": "code",
   "execution_count": 78,
   "metadata": {},
   "outputs": [
    {
     "data": {
      "text/plain": [
       "0.7965"
      ]
     },
     "execution_count": 78,
     "metadata": {},
     "output_type": "execute_result"
    }
   ],
   "source": [
    "# Calculate the Accuracy\n",
    "from sklearn.metrics import accuracy_score\n",
    "score=accuracy_score(y_pred,y_test)\n",
    "score"
   ]
  },
  {
   "cell_type": "code",
   "execution_count": null,
   "metadata": {},
   "outputs": [],
   "source": []
  }
 ],
 "metadata": {
  "kernelspec": {
   "display_name": "Python 3",
   "language": "python",
   "name": "python3"
  },
  "language_info": {
   "codemirror_mode": {
    "name": "ipython",
    "version": 3
   },
   "file_extension": ".py",
   "mimetype": "text/x-python",
   "name": "python",
   "nbconvert_exporter": "python",
   "pygments_lexer": "ipython3",
   "version": "3.7.6"
  }
 },
 "nbformat": 4,
 "nbformat_minor": 4
}
