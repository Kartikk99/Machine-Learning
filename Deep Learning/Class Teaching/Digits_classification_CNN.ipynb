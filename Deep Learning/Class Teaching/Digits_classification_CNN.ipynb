{
 "cells": [
  {
   "cell_type": "code",
   "execution_count": 1,
   "metadata": {},
   "outputs": [],
   "source": [
    "import tensorflow as tf\n",
    "from tensorflow import keras\n",
    "import numpy as np\n",
    "from matplotlib import pyplot as plt\n",
    "%matplotlib inline"
   ]
  },
  {
   "cell_type": "code",
   "execution_count": 2,
   "metadata": {},
   "outputs": [],
   "source": [
    "(x_train, y_train), (x_test, y_test)= keras.datasets.mnist.load_data()"
   ]
  },
  {
   "cell_type": "code",
   "execution_count": 3,
   "metadata": {},
   "outputs": [
    {
     "data": {
      "text/plain": [
       "60000"
      ]
     },
     "execution_count": 3,
     "metadata": {},
     "output_type": "execute_result"
    }
   ],
   "source": [
    "len(x_train)"
   ]
  },
  {
   "cell_type": "code",
   "execution_count": 4,
   "metadata": {},
   "outputs": [
    {
     "data": {
      "text/plain": [
       "10000"
      ]
     },
     "execution_count": 4,
     "metadata": {},
     "output_type": "execute_result"
    }
   ],
   "source": [
    "len(x_test)"
   ]
  },
  {
   "cell_type": "code",
   "execution_count": 5,
   "metadata": {},
   "outputs": [
    {
     "data": {
      "text/plain": [
       "(28, 28)"
      ]
     },
     "execution_count": 5,
     "metadata": {},
     "output_type": "execute_result"
    }
   ],
   "source": [
    "x_train[0].shape"
   ]
  },
  {
   "cell_type": "code",
   "execution_count": 6,
   "metadata": {},
   "outputs": [
    {
     "data": {
      "text/plain": [
       "<matplotlib.image.AxesImage at 0x18528f94548>"
      ]
     },
     "execution_count": 6,
     "metadata": {},
     "output_type": "execute_result"
    },
    {
     "data": {
      "image/png": "[encoded data removed]",
      "text/plain": [
       "<Figure size 288x288 with 1 Axes>"
      ]
     },
     "metadata": {
      "needs_background": "light"
     },
     "output_type": "display_data"
    }
   ],
   "source": [
    "plt.matshow(x_train[0])"
   ]
  },
  {
   "cell_type": "code",
   "execution_count": 7,
   "metadata": {},
   "outputs": [
    {
     "data": {
      "text/plain": [
       "5"
      ]
     },
     "execution_count": 7,
     "metadata": {},
     "output_type": "execute_result"
    }
   ],
   "source": [
    "y_train[0]"
   ]
  },
  {
   "cell_type": "code",
   "execution_count": 8,
   "metadata": {},
   "outputs": [],
   "source": [
    "# Scaling the values to increase the accuracy.\n",
    "x_train= x_train/ 255\n",
    "x_test= x_test/255"
   ]
  },
  {
   "cell_type": "code",
   "execution_count": 9,
   "metadata": {},
   "outputs": [],
   "source": [
    "x_train_flatten= x_train.reshape(len(x_train), 28*28)"
   ]
  },
  {
   "cell_type": "code",
   "execution_count": 10,
   "metadata": {},
   "outputs": [],
   "source": [
    "x_test_flatten= x_test.reshape(len(x_test), 28*28)"
   ]
  },
  {
   "cell_type": "code",
   "execution_count": 11,
   "metadata": {},
   "outputs": [
    {
     "data": {
      "text/plain": [
       "60000"
      ]
     },
     "execution_count": 11,
     "metadata": {},
     "output_type": "execute_result"
    }
   ],
   "source": [
    "len(x_train_flatten)"
   ]
  },
  {
   "cell_type": "code",
   "execution_count": 12,
   "metadata": {},
   "outputs": [
    {
     "data": {
      "text/plain": [
       "(10000, 784)"
      ]
     },
     "execution_count": 12,
     "metadata": {},
     "output_type": "execute_result"
    }
   ],
   "source": [
    "x_test_flatten.shape"
   ]
  },
  {
   "cell_type": "code",
   "execution_count": 13,
   "metadata": {},
   "outputs": [
    {
     "name": "stdout",
     "output_type": "stream",
     "text": [
      "Epoch 1/5\n",
      "1875/1875 [==============================] - 3s 1ms/step - loss: 0.4873 - accuracy: 0.8769\n",
      "Epoch 2/5\n",
      "1875/1875 [==============================] - 2s 1ms/step - loss: 0.3057 - accuracy: 0.9152\n",
      "Epoch 3/5\n",
      "1875/1875 [==============================] - 2s 1ms/step - loss: 0.2854 - accuracy: 0.9212\n",
      "Epoch 4/5\n",
      "1875/1875 [==============================] - 2s 1ms/step - loss: 0.2745 - accuracy: 0.9241\n",
      "Epoch 5/5\n",
      "1875/1875 [==============================] - 2s 1ms/step - loss: 0.2677 - accuracy: 0.9260\n"
     ]
    },
    {
     "data": {
      "text/plain": [
       "<tensorflow.python.keras.callbacks.History at 0x18525438a08>"
      ]
     },
     "execution_count": 13,
     "metadata": {},
     "output_type": "execute_result"
    }
   ],
   "source": [
    "model = keras.Sequential([\n",
    "    keras.layers.Dense(10, input_shape=(784,), activation= 'sigmoid' )\n",
    "])\n",
    "\n",
    "model.compile(\n",
    "    optimizer= 'adam', \n",
    "    loss= 'sparse_categorical_crossentropy',\n",
    "    metrics= ['accuracy']\n",
    "             )\n",
    "model.fit(x_train_flatten, y_train, epochs= 5)"
   ]
  },
  {
   "cell_type": "code",
   "execution_count": 14,
   "metadata": {},
   "outputs": [
    {
     "name": "stdout",
     "output_type": "stream",
     "text": [
      "313/313 [==============================] - 0s 1ms/step - loss: 0.2674 - accuracy: 0.9267\n"
     ]
    },
    {
     "data": {
      "text/plain": [
       "[0.2673887312412262, 0.9266999959945679]"
      ]
     },
     "execution_count": 14,
     "metadata": {},
     "output_type": "execute_result"
    }
   ],
   "source": [
    "model.evaluate(x_test_flatten, y_test)"
   ]
  },
  {
   "cell_type": "code",
   "execution_count": 15,
   "metadata": {},
   "outputs": [
    {
     "data": {
      "text/plain": [
       "<matplotlib.image.AxesImage at 0x185286fc788>"
      ]
     },
     "execution_count": 15,
     "metadata": {},
     "output_type": "execute_result"
    },
    {
     "data": {
      "image/png": "[encoded data removed]",
      "text/plain": [
       "<Figure size 288x288 with 1 Axes>"
      ]
     },
     "metadata": {
      "needs_background": "light"
     },
     "output_type": "display_data"
    }
   ],
   "source": [
    "plt.matshow(x_test[1])"
   ]
  },
  {
   "cell_type": "code",
   "execution_count": 16,
   "metadata": {},
   "outputs": [],
   "source": [
    "y_predicted= model.predict(x_test_flatten)"
   ]
  },
  {
   "cell_type": "code",
   "execution_count": 17,
   "metadata": {},
   "outputs": [
    {
     "data": {
      "text/plain": [
       "array([1.3544683e-05, 1.2412329e-10, 2.8547380e-05, 7.9213083e-03,\n",
       "       8.3645995e-07, 7.6572978e-05, 9.0297270e-10, 7.7298248e-01,\n",
       "       6.0975231e-05, 8.8354945e-04], dtype=float32)"
      ]
     },
     "execution_count": 17,
     "metadata": {},
     "output_type": "execute_result"
    }
   ],
   "source": [
    "y_predicted[0]"
   ]
  },
  {
   "cell_type": "code",
   "execution_count": 18,
   "metadata": {},
   "outputs": [
    {
     "data": {
      "text/plain": [
       "2"
      ]
     },
     "execution_count": 18,
     "metadata": {},
     "output_type": "execute_result"
    }
   ],
   "source": [
    "np.argmax(y_predicted[1])"
   ]
  },
  {
   "cell_type": "code",
   "execution_count": 19,
   "metadata": {},
   "outputs": [
    {
     "data": {
      "text/plain": [
       "[7, 2, 1, 0, 4]"
      ]
     },
     "execution_count": 19,
     "metadata": {},
     "output_type": "execute_result"
    }
   ],
   "source": [
    "#Convert y_predicted array values to label values using argmax function.\n",
    "y_predicted_labels= [np.argmax(i) for i in y_predicted]\n",
    "y_predicted_labels[:5]"
   ]
  },
  {
   "cell_type": "code",
   "execution_count": 20,
   "metadata": {},
   "outputs": [],
   "source": [
    "cm= tf.math.confusion_matrix(y_test, predictions= y_predicted_labels)"
   ]
  },
  {
   "cell_type": "code",
   "execution_count": 21,
   "metadata": {},
   "outputs": [
    {
     "data": {
      "text/plain": [
       "Text(69.0, 0.5, 'truth')"
      ]
     },
     "execution_count": 21,
     "metadata": {},
     "output_type": "execute_result"
    },
    {
     "data": {
      "image/png": "[encoded data removed]",
      "text/plain": [
       "<Figure size 720x504 with 2 Axes>"
      ]
     },
     "metadata": {
      "needs_background": "light"
     },
     "output_type": "display_data"
    }
   ],
   "source": [
    "import seaborn as sn\n",
    "plt.figure(figsize= (10,7))\n",
    "sn.heatmap(cm, annot= True, fmt= 'd')\n",
    "plt.xlabel('Predicted')\n",
    "plt.ylabel('truth')"
   ]
  },
  {
   "cell_type": "markdown",
   "metadata": {},
   "source": [
    "# Adding Hidden layer."
   ]
  },
  {
   "cell_type": "code",
   "execution_count": 22,
   "metadata": {},
   "outputs": [
    {
     "name": "stdout",
     "output_type": "stream",
     "text": [
      "Epoch 1/5\n",
      "1875/1875 [==============================] - 4s 2ms/step - loss: 0.2917 - accuracy: 0.9188\n",
      "Epoch 2/5\n",
      "1875/1875 [==============================] - 4s 2ms/step - loss: 0.1347 - accuracy: 0.9610\n",
      "Epoch 3/5\n",
      "1875/1875 [==============================] - 4s 2ms/step - loss: 0.0970 - accuracy: 0.9712\n",
      "Epoch 4/5\n",
      "1875/1875 [==============================] - 4s 2ms/step - loss: 0.0752 - accuracy: 0.9776\n",
      "Epoch 5/5\n",
      "1875/1875 [==============================] - 4s 2ms/step - loss: 0.0616 - accuracy: 0.9811\n"
     ]
    },
    {
     "data": {
      "text/plain": [
       "<tensorflow.python.keras.callbacks.History at 0x18526bab648>"
      ]
     },
     "execution_count": 22,
     "metadata": {},
     "output_type": "execute_result"
    }
   ],
   "source": [
    "model = keras.Sequential([\n",
    "    keras.layers.Dense(100, input_shape=(784,), activation= 'relu' ),\n",
    "    keras.layers.Dense(10, activation= 'sigmoid' )\n",
    "])\n",
    "\n",
    "model.compile(\n",
    "    optimizer= 'adam', \n",
    "    loss= 'sparse_categorical_crossentropy',\n",
    "    metrics= ['accuracy']\n",
    "             )\n",
    "model.fit(x_train_flatten, y_train, epochs= 5)"
   ]
  },
  {
   "cell_type": "code",
   "execution_count": 23,
   "metadata": {},
   "outputs": [
    {
     "name": "stdout",
     "output_type": "stream",
     "text": [
      "313/313 [==============================] - 0s 1ms/step - loss: 0.0804 - accuracy: 0.9756\n"
     ]
    },
    {
     "data": {
      "text/plain": [
       "[0.08038029074668884, 0.975600004196167]"
      ]
     },
     "execution_count": 23,
     "metadata": {},
     "output_type": "execute_result"
    }
   ],
   "source": [
    "model.evaluate(x_test_flatten, y_test)"
   ]
  },
  {
   "cell_type": "markdown",
   "metadata": {},
   "source": [
    "#Without preprocessing i.e. without Flatten"
   ]
  },
  {
   "cell_type": "code",
   "execution_count": 24,
   "metadata": {},
   "outputs": [
    {
     "name": "stdout",
     "output_type": "stream",
     "text": [
      "Epoch 1/15\n",
      "1875/1875 [==============================] - 4s 2ms/step - loss: 0.2977 - accuracy: 0.9178\n",
      "Epoch 2/15\n",
      "1875/1875 [==============================] - 4s 2ms/step - loss: 0.1349 - accuracy: 0.9603\n",
      "Epoch 3/15\n",
      "1875/1875 [==============================] - 4s 2ms/step - loss: 0.0955 - accuracy: 0.9712\n",
      "Epoch 4/15\n",
      "1875/1875 [==============================] - 4s 2ms/step - loss: 0.0732 - accuracy: 0.9779\n",
      "Epoch 5/15\n",
      "1875/1875 [==============================] - 4s 2ms/step - loss: 0.0587 - accuracy: 0.9821\n",
      "Epoch 6/15\n",
      "1875/1875 [==============================] - 4s 2ms/step - loss: 0.0490 - accuracy: 0.9849\n",
      "Epoch 7/15\n",
      "1875/1875 [==============================] - 4s 2ms/step - loss: 0.0400 - accuracy: 0.9880\n",
      "Epoch 8/15\n",
      "1875/1875 [==============================] - 4s 2ms/step - loss: 0.0343 - accuracy: 0.9894\n",
      "Epoch 9/15\n",
      "1875/1875 [==============================] - 4s 2ms/step - loss: 0.0286 - accuracy: 0.9914\n",
      "Epoch 10/15\n",
      "1875/1875 [==============================] - 4s 2ms/step - loss: 0.0244 - accuracy: 0.9928\n",
      "Epoch 11/15\n",
      "1875/1875 [==============================] - 4s 2ms/step - loss: 0.0210 - accuracy: 0.9935\n",
      "Epoch 12/15\n",
      "1875/1875 [==============================] - 4s 2ms/step - loss: 0.0173 - accuracy: 0.9950\n",
      "Epoch 13/15\n",
      "1875/1875 [==============================] - 4s 2ms/step - loss: 0.0161 - accuracy: 0.9952\n",
      "Epoch 14/15\n",
      "1875/1875 [==============================] - 4s 2ms/step - loss: 0.0139 - accuracy: 0.9960\n",
      "Epoch 15/15\n",
      "1875/1875 [==============================] - 4s 2ms/step - loss: 0.0125 - accuracy: 0.9963\n"
     ]
    },
    {
     "data": {
      "text/plain": [
       "<tensorflow.python.keras.callbacks.History at 0x18526bf3988>"
      ]
     },
     "execution_count": 24,
     "metadata": {},
     "output_type": "execute_result"
    }
   ],
   "source": [
    "model = keras.Sequential([\n",
    "    keras.layers.Flatten(input_shape= (28,28)),\n",
    "    keras.layers.Dense(100, activation= 'relu' ),\n",
    "    keras.layers.Dense(10, activation= 'sigmoid' )\n",
    "])\n",
    "\n",
    "model.compile(\n",
    "    optimizer= 'adam', \n",
    "    loss= 'sparse_categorical_crossentropy',\n",
    "    metrics= ['accuracy']\n",
    "             )\n",
    "model.fit(x_train, y_train, epochs= 15)"
   ]
  },
  {
   "cell_type": "code",
   "execution_count": 25,
   "metadata": {},
   "outputs": [
    {
     "name": "stdout",
     "output_type": "stream",
     "text": [
      "313/313 [==============================] - 0s 1ms/step - loss: 0.0909 - accuracy: 0.9761\n"
     ]
    },
    {
     "data": {
      "text/plain": [
       "[0.09087222814559937, 0.9761000275611877]"
      ]
     },
     "execution_count": 25,
     "metadata": {},
     "output_type": "execute_result"
    }
   ],
   "source": [
    "model.evaluate(x_test, y_test)"
   ]
  },
  {
   "cell_type": "code",
   "execution_count": 26,
   "metadata": {},
   "outputs": [
    {
     "name": "stdout",
     "output_type": "stream",
     "text": [
      "Epoch 1/15\n",
      "1875/1875 [==============================] - 4s 2ms/step - loss: 1.0088 - accuracy: 0.1334\n",
      "Epoch 2/15\n",
      "1875/1875 [==============================] - 4s 2ms/step - loss: 1.0000 - accuracy: 0.1325\n",
      "Epoch 3/15\n",
      "1875/1875 [==============================] - 4s 2ms/step - loss: 1.0000 - accuracy: 0.1244\n",
      "Epoch 4/15\n",
      "1875/1875 [==============================] - 4s 2ms/step - loss: 1.0000 - accuracy: 0.1168\n",
      "Epoch 5/15\n",
      "1875/1875 [==============================] - 4s 2ms/step - loss: 1.0000 - accuracy: 0.1115\n",
      "Epoch 6/15\n",
      "1875/1875 [==============================] - 4s 2ms/step - loss: 1.0000 - accuracy: 0.1074\n",
      "Epoch 7/15\n",
      "1875/1875 [==============================] - 4s 2ms/step - loss: 1.0000 - accuracy: 0.1047\n",
      "Epoch 8/15\n",
      "1875/1875 [==============================] - 4s 2ms/step - loss: 1.0000 - accuracy: 0.1032\n",
      "Epoch 9/15\n",
      "1875/1875 [==============================] - 4s 2ms/step - loss: 1.0000 - accuracy: 0.1016\n",
      "Epoch 10/15\n",
      "1875/1875 [==============================] - 4s 2ms/step - loss: 1.0000 - accuracy: 0.1008\n",
      "Epoch 11/15\n",
      "1875/1875 [==============================] - 4s 2ms/step - loss: 1.0000 - accuracy: 0.1006\n",
      "Epoch 12/15\n",
      "1875/1875 [==============================] - 4s 2ms/step - loss: 1.0000 - accuracy: 0.1002\n",
      "Epoch 13/15\n",
      "1875/1875 [==============================] - 4s 2ms/step - loss: 1.0000 - accuracy: 0.1002\n",
      "Epoch 14/15\n",
      "1875/1875 [==============================] - 4s 2ms/step - loss: 1.0000 - accuracy: 0.0998\n",
      "Epoch 15/15\n",
      "1875/1875 [==============================] - 4s 2ms/step - loss: 1.0000 - accuracy: 0.0996\n"
     ]
    },
    {
     "data": {
      "text/plain": [
       "<tensorflow.python.keras.callbacks.History at 0x18527cfc088>"
      ]
     },
     "execution_count": 26,
     "metadata": {},
     "output_type": "execute_result"
    }
   ],
   "source": [
    "model_poisson = keras.Sequential([\n",
    "    keras.layers.Flatten(input_shape= (28,28)),\n",
    "    keras.layers.Dense(100, activation= 'relu' ),\n",
    "    keras.layers.Dense(10, activation= 'sigmoid' )\n",
    "])\n",
    "\n",
    "model_poisson.compile(\n",
    "    optimizer= 'adam', \n",
    "    loss= 'poisson',\n",
    "    metrics= ['accuracy']\n",
    "             )\n",
    "model_poisson.fit(x_train, y_train, epochs= 15)"
   ]
  },
  {
   "cell_type": "code",
   "execution_count": 27,
   "metadata": {},
   "outputs": [
    {
     "name": "stdout",
     "output_type": "stream",
     "text": [
      "Epoch 1/15\n",
      "1875/1875 [==============================] - 4s 2ms/step - loss: 0.0301 - accuracy: 0.1228\n",
      "Epoch 2/15\n",
      "1875/1875 [==============================] - 4s 2ms/step - loss: 1.9411e-05 - accuracy: 0.1249\n",
      "Epoch 3/15\n",
      "1875/1875 [==============================] - 4s 2ms/step - loss: 3.1916e-06 - accuracy: 0.1157\n",
      "Epoch 4/15\n",
      "1875/1875 [==============================] - 4s 2ms/step - loss: -1.1694e-07 - accuracy: 0.1091\n",
      "Epoch 5/15\n",
      "1875/1875 [==============================] - 4s 2ms/step - loss: -1.0857e-06 - accuracy: 0.1046\n",
      "Epoch 6/15\n",
      "1875/1875 [==============================] - 4s 2ms/step - loss: -1.4124e-06 - accuracy: 0.1018\n",
      "Epoch 7/15\n",
      "1875/1875 [==============================] - 4s 2ms/step - loss: -1.5261e-06 - accuracy: 0.1006\n",
      "Epoch 8/15\n",
      "1875/1875 [==============================] - 4s 2ms/step - loss: -1.5658e-06 - accuracy: 0.0994\n",
      "Epoch 9/15\n",
      "1875/1875 [==============================] - 4s 2ms/step - loss: -1.5806e-06 - accuracy: 0.0991\n",
      "Epoch 10/15\n",
      "1875/1875 [==============================] - 4s 2ms/step - loss: -1.5867e-06 - accuracy: 0.0990\n",
      "Epoch 11/15\n",
      "1875/1875 [==============================] - 4s 2ms/step - loss: -1.5890e-06 - accuracy: 0.0988\n",
      "Epoch 12/15\n",
      "1875/1875 [==============================] - 4s 2ms/step - loss: -1.5899e-06 - accuracy: 0.0988\n",
      "Epoch 13/15\n",
      "1875/1875 [==============================] - 4s 2ms/step - loss: -1.5905e-06 - accuracy: 0.0988\n",
      "Epoch 14/15\n",
      "1875/1875 [==============================] - 4s 2ms/step - loss: -1.5906e-06 - accuracy: 0.0988\n",
      "Epoch 15/15\n",
      "1875/1875 [==============================] - 4s 2ms/step - loss: -1.5908e-06 - accuracy: 0.0988\n"
     ]
    },
    {
     "data": {
      "text/plain": [
       "<tensorflow.python.keras.callbacks.History at 0x18527dd8408>"
      ]
     },
     "execution_count": 27,
     "metadata": {},
     "output_type": "execute_result"
    }
   ],
   "source": [
    "model_KLD = keras.Sequential([\n",
    "    keras.layers.Flatten(input_shape= (28,28)),\n",
    "    keras.layers.Dense(100, activation= 'relu' ),\n",
    "    keras.layers.Dense(10, activation= 'sigmoid' )\n",
    "])\n",
    "\n",
    "model_KLD.compile(\n",
    "    optimizer= 'adam', \n",
    "    loss= 'KLDivergence',\n",
    "    metrics= ['accuracy']\n",
    "             )\n",
    "model_KLD.fit(x_train, y_train, epochs= 15)"
   ]
  },
  {
   "cell_type": "code",
   "execution_count": null,
   "metadata": {},
   "outputs": [],
   "source": []
  }
 ],
 "metadata": {
  "kernelspec": {
   "display_name": "Python 3",
   "language": "python",
   "name": "python3"
  },
  "language_info": {
   "codemirror_mode": {
    "name": "ipython",
    "version": 3
   },
   "file_extension": ".py",
   "mimetype": "text/x-python",
   "name": "python",
   "nbconvert_exporter": "python",
   "pygments_lexer": "ipython3",
   "version": "3.7.6"
  }
 },
 "nbformat": 4,
 "nbformat_minor": 4
}
